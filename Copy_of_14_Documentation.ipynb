{
  "cells": [
    {
      "cell_type": "markdown",
      "metadata": {
        "id": "view-in-github",
        "colab_type": "text"
      },
      "source": [
        "<a href=\"https://colab.research.google.com/github/lintco/COGS-18/blob/main/Copy_of_14_Documentation.ipynb\" target=\"_parent\"><img src=\"https://colab.research.google.com/assets/colab-badge.svg\" alt=\"Open In Colab\"/></a>"
      ]
    },
    {
      "cell_type": "markdown",
      "metadata": {
        "editable": true,
        "tags": [],
        "id": "hEq0fzOtpnHT"
      },
      "source": [
        "# Code Style & Documentation\n",
        "\n",
        "[![Open In Colab](https://colab.research.google.com/assets/colab-badge.svg)](https://colab.research.google.com/github/COGS18/LectureNotes-COGS18/blob/main/14-Documentation.ipynb)"
      ]
    },
    {
      "cell_type": "markdown",
      "metadata": {
        "id": "YqJuXxJspnHU"
      },
      "source": [
        "**Q&A**\n",
        "\n",
        "> Q: What is the difference between assertEqual and assertTrue?  \n",
        "> A: `assertEqual` takes in two inputs and checks that the first input is equal to the second; `assertTrue` expects that whatever is in the parentheses evaluates to `True`"
      ]
    },
    {
      "cell_type": "markdown",
      "metadata": {
        "id": "MIrgiQBDpnHU"
      },
      "source": [
        "**Course Announcements**\n",
        "\n",
        "Due this week:\n",
        "- **CL9** (optional, for 2 pts EC...but **you should do it** to get testing practice)\n",
        "- E1 or E2 retake (*optional*)\n",
        "- **Final Exam** (6/7-6/13)\n",
        "- **Post-course assessement** (due 6/13; required; will be available Friday)\n",
        "\n",
        "Notes:\n",
        "- Handful of questions about **exam retake**:\n",
        "    - Your final exam score after retake is 75% of your highest and 25% of your lowest?\n",
        "    - What does that math look like? Well, let's say you got a 9/12.5 originally and you get 11.5/12.5 on the retake: `0.25*9 + 0.75*11.5 == 10.88` (+1.88 to your final grade)\n",
        "    - Could my score go down? Yes\n",
        "    - Sign up on PrairieTest; take in same location (TTC-CBTF)\n",
        "- **E2 Summary**:\n",
        "    - Class Average: 70%\n",
        "    - 31/580 (5%) earned perfect marks\n",
        "    - 11% higher average for those coming to class than those who didn't\n",
        "- Do you have to take the final exam if you took the course P/NP and already have >=70 pts? No.\n",
        "    - If you have a 70% currently, do you have to take the exam? YES!\n",
        "- Canvas Gradebook will be updated by EOD Friday with Lecture EC and Oral Exam 2 score\n",
        "- Office Hours end this Friday (no office hours during finals week; I will monitor Ed/email)"
      ]
    },
    {
      "cell_type": "markdown",
      "metadata": {
        "id": "o7dFOWegpnHV"
      },
      "source": [
        "**Final Exam** (13 pts; 1h50min)\n",
        "\n",
        "- 13 MC (6.5 pts total; 0.5 pt each)\n",
        "    - Topics: Variables, Operators, Functions, Conditionals, Loops, Classes, Command Line, Imports/File Paths, Scientific Computing (2), Code Testing, Documentation, Code Style\n",
        "- 2 Code Reading & Debugging Qs (3.5 pts)\n",
        "    -  Function (1.5 pts)\n",
        "    -  Class (2 pts)\n",
        "- Testing Questions (3pts; 1.5 pt each `unittest`)\n",
        "    - 1 uses `pandas`\n",
        "\n",
        "Notes:\n",
        "- No mini-project\n",
        "- **Practice exam will be very good practice for all of these**\n",
        "- Information Provided:\n",
        "    - `pandas` functions/methods\n",
        "    - `unittest` framework w/ list of `assert` statements discussed in class"
      ]
    },
    {
      "cell_type": "markdown",
      "metadata": {
        "id": "TDnm_gk0pnHV"
      },
      "source": [
        "## Today's Plan\n",
        "\n",
        "- Code Style\n",
        "    - readability\n",
        "    - PEP8 (style guides)\n",
        "    - linters\n",
        "- Documentation\n",
        "    - code comments\n",
        "- (Revisiting) testing\n",
        "- versioning"
      ]
    },
    {
      "cell_type": "markdown",
      "metadata": {
        "id": "3zFKl5NgpnHV"
      },
      "source": [
        "## Code Style"
      ]
    },
    {
      "cell_type": "markdown",
      "metadata": {
        "id": "r58qlmkIpnHV"
      },
      "source": [
        "### Code Readability (API)"
      ]
    },
    {
      "cell_type": "markdown",
      "metadata": {
        "id": "hjKmo6VEpnHV"
      },
      "source": [
        "\"Code is more often read than written\" - Guido van Rossum"
      ]
    },
    {
      "cell_type": "markdown",
      "metadata": {
        "id": "uKk5hUy8pnHV"
      },
      "source": [
        "So: code should be written to be readable by humans."
      ]
    },
    {
      "cell_type": "markdown",
      "metadata": {
        "id": "0yYiP4a_pnHV"
      },
      "source": [
        "Note: one of those humans is future you."
      ]
    },
    {
      "cell_type": "markdown",
      "metadata": {
        "id": "DCVI72fUpnHW"
      },
      "source": [
        "### The Zen of Python"
      ]
    },
    {
      "cell_type": "code",
      "execution_count": null,
      "metadata": {
        "id": "MurcGmbVpnHW",
        "colab": {
          "base_uri": "https://localhost:8080/"
        },
        "outputId": "0728e575-5f76-43c6-bc43-3457783bf718"
      },
      "outputs": [
        {
          "output_type": "stream",
          "name": "stdout",
          "text": [
            "The Zen of Python, by Tim Peters\n",
            "\n",
            "Beautiful is better than ugly.\n",
            "Explicit is better than implicit.\n",
            "Simple is better than complex.\n",
            "Complex is better than complicated.\n",
            "Flat is better than nested.\n",
            "Sparse is better than dense.\n",
            "Readability counts.\n",
            "Special cases aren't special enough to break the rules.\n",
            "Although practicality beats purity.\n",
            "Errors should never pass silently.\n",
            "Unless explicitly silenced.\n",
            "In the face of ambiguity, refuse the temptation to guess.\n",
            "There should be one-- and preferably only one --obvious way to do it.\n",
            "Although that way may not be obvious at first unless you're Dutch.\n",
            "Now is better than never.\n",
            "Although never is often better than *right* now.\n",
            "If the implementation is hard to explain, it's a bad idea.\n",
            "If the implementation is easy to explain, it may be a good idea.\n",
            "Namespaces are one honking great idea -- let's do more of those!\n"
          ]
        }
      ],
      "source": [
        "import this"
      ]
    },
    {
      "cell_type": "markdown",
      "metadata": {
        "id": "lrb-bIl6pnHW"
      },
      "source": [
        "### Writing Readable Code"
      ]
    },
    {
      "cell_type": "markdown",
      "metadata": {
        "id": "HDYnUlLxpnHW"
      },
      "source": [
        "So how do we write good code for humans?\n",
        "\n",
        "- Use good structure\n",
        "- Use good naming\n",
        "- Use code comments and include documentation"
      ]
    },
    {
      "cell_type": "markdown",
      "metadata": {
        "id": "7Wj3uUbvpnHW"
      },
      "source": [
        "### Good Structure\n",
        "\n",
        "If you design your program using separate functions for each task, avoid copying + pasting (functions and loops instead), and consider structure beforehand, you'll be set up for success"
      ]
    },
    {
      "cell_type": "markdown",
      "metadata": {
        "id": "mnqY2Kj_pnHW"
      },
      "source": [
        "### Good Naming\n",
        "\n",
        "Clear names are for humans. The computer doesn't care, but you and others reading your code do."
      ]
    },
    {
      "cell_type": "markdown",
      "metadata": {
        "id": "tz4UVM4vpnHW"
      },
      "source": [
        "### Code comments & Documentation\n",
        "\n",
        "Helpful comments and documentation take your code to the next level. The final piece in the trifecta of readable code!"
      ]
    },
    {
      "cell_type": "markdown",
      "metadata": {
        "id": "iB5hVW6lpnHW"
      },
      "source": [
        "Good code has good documentation - but code documentation should _not_ be used to try and fix unclear names, or bad structure.\n",
        "\n",
        "Rather, comments should add any additional context and information that helps explain what the code is, how it works, and why it works that way."
      ]
    },
    {
      "cell_type": "markdown",
      "metadata": {
        "editable": true,
        "tags": [],
        "id": "g7cENP-QpnHW"
      },
      "source": [
        "These will all be components of your final project grade."
      ]
    },
    {
      "cell_type": "markdown",
      "metadata": {
        "editable": true,
        "tags": [],
        "id": "ZLYe37DhpnHW"
      },
      "source": [
        "### Motivation: Think-Pair-Share\n",
        "What does the following code do?"
      ]
    },
    {
      "cell_type": "code",
      "execution_count": null,
      "metadata": {
        "editable": true,
        "scrolled": true,
        "tags": [],
        "id": "TF5htEZRpnHW",
        "colab": {
          "base_uri": "https://localhost:8080/",
          "height": 35
        },
        "outputId": "f1c6b401-acd3-4782-8f66-ef9e26353610"
      },
      "outputs": [
        {
          "output_type": "execute_result",
          "data": {
            "text/plain": [
              "'72+101+108+108+111+32+87+111+114+108+100+46'"
            ],
            "application/vnd.google.colaboratory.intrinsic+json": {
              "type": "string"
            }
          },
          "metadata": {},
          "execution_count": 2
        }
      ],
      "source": [
        "def ff(jj):\n",
        "    oo = []; jj = list(jj)\n",
        "    for ii in jj: oo.append(str(ord(ii)))\n",
        "    return '+'.join(oo)\n",
        "ff('Hello World.')"
      ]
    },
    {
      "cell_type": "markdown",
      "metadata": {
        "id": "EyIKaI6BpnHW"
      },
      "source": [
        "- A) Returns unicode code points, as a list\n",
        "- B) Encodes a string as a cypher, returning a string of alphabetical characters\n",
        "- C) Returns unicode code points, as a string\n",
        "- D) Encodes inputs alphabetical characters, returned as a list\n",
        "- E) This code will fail"
      ]
    },
    {
      "cell_type": "markdown",
      "metadata": {
        "id": "7k7YfZ5tpnHW"
      },
      "source": [
        "Improvement Considerations (Style)\n",
        "- Structural considerations: indentations & spacing\n",
        "- Improved naming: functions & variables"
      ]
    },
    {
      "cell_type": "code",
      "execution_count": null,
      "metadata": {
        "id": "K_h6ELA6pnHX",
        "colab": {
          "base_uri": "https://localhost:8080/",
          "height": 35
        },
        "outputId": "af1c7e71-a135-4ade-fca1-292cc2dad6da"
      },
      "outputs": [
        {
          "output_type": "execute_result",
          "data": {
            "text/plain": [
              "'72+101+108+108+111+32+87+111+114+108+100+46'"
            ],
            "application/vnd.google.colaboratory.intrinsic+json": {
              "type": "string"
            }
          },
          "metadata": {},
          "execution_count": 3
        }
      ],
      "source": [
        "def convert_to_unicode(input_string):\n",
        "    string = []\n",
        "    input_list = list(input_string)\n",
        "\n",
        "    for character in input_list:\n",
        "        string.append(str(ord(character)))\n",
        "\n",
        "    output_string = '+'.join(string)\n",
        "    return output_string\n",
        "\n",
        "convert_to_unicode('Hello World.')"
      ]
    },
    {
      "cell_type": "markdown",
      "metadata": {
        "id": "dcYIcn4cpnHX"
      },
      "source": [
        "- A) Returns unicode code points, as a list\n",
        "- B) Encodes a string as a cypher, returning a string of alphabetical characters\n",
        "- C) Returns unicode code points, as a string\n",
        "- D) Encodes inputs alphabetical characters, returned as a list\n",
        "- E) This code will fail"
      ]
    },
    {
      "cell_type": "markdown",
      "metadata": {
        "id": "-g9yse3-pnHX"
      },
      "source": [
        "### Code Style Review"
      ]
    },
    {
      "cell_type": "markdown",
      "metadata": {
        "collapsed": true,
        "jupyter": {
          "outputs_hidden": true
        },
        "id": "G9lh_dXypnHX"
      },
      "source": [
        "Or: How to be Pythonic"
      ]
    },
    {
      "cell_type": "markdown",
      "metadata": {
        "id": "ZhGAr3ynpnHX"
      },
      "source": [
        "Reasons to be Pythonic:\n",
        "- user friendly for humans\n",
        "- extra work up-front on the developers (pays off on the long run)\n",
        "- best to practice this early on (I promise!)"
      ]
    },
    {
      "cell_type": "markdown",
      "metadata": {
        "id": "KV6MzUNHpnHX"
      },
      "source": [
        "### Style Guides"
      ]
    },
    {
      "cell_type": "markdown",
      "metadata": {
        "id": "axfmGaDDpnHX"
      },
      "source": [
        "<div class=\"alert alert-success\">\n",
        "Coding style refers to a set of conventions for how to write good code.\n",
        "</div>"
      ]
    },
    {
      "cell_type": "markdown",
      "metadata": {
        "id": "akHQAZeipnHX"
      },
      "source": [
        "Consistency is the goal. Rules help us achieve consistency."
      ]
    },
    {
      "cell_type": "markdown",
      "metadata": {
        "id": "Qn32gw1npnHX"
      },
      "source": [
        "Much of this will apply to other programming languages, so it's good to learn...regardless of language.\n",
        "\n",
        "Some of these Code Style notes will be more specific to Python, however."
      ]
    },
    {
      "cell_type": "markdown",
      "metadata": {
        "id": "LD6yrdm-pnHX"
      },
      "source": [
        "#### Python Enhancement Proposals (PEPs)"
      ]
    },
    {
      "cell_type": "markdown",
      "metadata": {
        "id": "qy3GgH3RpnHX"
      },
      "source": [
        "<div class=\"alert alert-success\">\n",
        "Python PEPs are proposals for how something should be / work in the Python programming language.\n",
        "</div>"
      ]
    },
    {
      "cell_type": "markdown",
      "metadata": {
        "id": "q39JkWAFpnHX"
      },
      "source": [
        "These are written by the people responsible for the Python Programming language."
      ]
    },
    {
      "cell_type": "markdown",
      "metadata": {
        "id": "9HG_PhoCpnHX"
      },
      "source": [
        "PEP are voted on before incorporation."
      ]
    },
    {
      "cell_type": "markdown",
      "metadata": {
        "id": "L9AqeCVXpnHX"
      },
      "source": [
        "#### PEP8"
      ]
    },
    {
      "cell_type": "markdown",
      "metadata": {
        "collapsed": true,
        "jupyter": {
          "outputs_hidden": true
        },
        "id": "WEakCtWopnHX"
      },
      "source": [
        "<div class=\"alert alert-info\">\n",
        "<b><a href=\"https://www.python.org/dev/peps/pep-0008/\">PEP8</a></b> is an accepted proposal that outlines the style guide for Python.\n",
        "</div>"
      ]
    },
    {
      "cell_type": "markdown",
      "metadata": {
        "id": "rbIhdKjKpnHX"
      },
      "source": [
        "Defines the style guide for Pythonistas (people who code in Python)."
      ]
    },
    {
      "cell_type": "markdown",
      "metadata": {
        "collapsed": true,
        "jupyter": {
          "outputs_hidden": true
        },
        "id": "7NwL3o_NpnHa"
      },
      "source": [
        "### Code Style: Structure\n",
        "\n",
        "- blank lines\n",
        "- indentaion\n",
        "- spacing\n",
        "- length <- NEW\n",
        "- imports"
      ]
    },
    {
      "cell_type": "markdown",
      "metadata": {
        "id": "OOVjkXTPpnHa"
      },
      "source": [
        "#### Blank Lines\n",
        "\n",
        "- Use 2 blank lines between functions & classes, and 1 between methods\n",
        "- Use 1 blank line between segments to indicate logical structure"
      ]
    },
    {
      "cell_type": "markdown",
      "metadata": {
        "id": "satlKd7BpnHa"
      },
      "source": [
        "#### Indentation\n",
        "\n",
        "Use spaces to indicate indentation levels, with each level defined as 4 spaces."
      ]
    },
    {
      "cell_type": "markdown",
      "metadata": {
        "id": "cCOVgY1MpnHa"
      },
      "source": [
        "#### Spacing\n",
        "\n",
        "- Put one (and only one) space between each element\n",
        "- Index and assignment don't have a space between opening & closing '()' or '[]'"
      ]
    },
    {
      "cell_type": "markdown",
      "metadata": {
        "id": "0HnWNikUpnHa"
      },
      "source": [
        "#### Line Length (NEW)\n",
        "\n",
        "- PEP8 recommends that each line be at most 79 characters long"
      ]
    },
    {
      "cell_type": "markdown",
      "metadata": {
        "id": "m2SZgpANpnHa"
      },
      "source": [
        "Computers used to require this.\n",
        "\n",
        "But, super long lines are hard to read at a glance."
      ]
    },
    {
      "cell_type": "markdown",
      "metadata": {
        "id": "-akgLPurpnHa"
      },
      "source": [
        "#### Multi-Line"
      ]
    },
    {
      "cell_type": "code",
      "execution_count": null,
      "metadata": {
        "id": "8D1eXILepnHa"
      },
      "outputs": [],
      "source": [
        "my_long_list = [1, 2, 3, 4, 5,\n",
        "                6, 7, 8, 9, 10]"
      ]
    },
    {
      "cell_type": "code",
      "execution_count": null,
      "metadata": {
        "id": "OCiFjQA2pnHa"
      },
      "outputs": [],
      "source": [
        "# Note: you can explicitly indicate a new line with '\\'\n",
        "my_string = 'Python is ' + \\\n",
        "            'a pretty great language.'"
      ]
    },
    {
      "cell_type": "markdown",
      "metadata": {
        "collapsed": true,
        "jupyter": {
          "outputs_hidden": true
        },
        "id": "PoVnYGPcpnHa"
      },
      "source": [
        "#### One Statement Per Line\n",
        "\n",
        "- While you *can* condense multiple statements into one line, you usually shouldn't."
      ]
    },
    {
      "cell_type": "code",
      "execution_count": null,
      "metadata": {
        "id": "_OuruD1apnHb"
      },
      "outputs": [],
      "source": [
        "# Badness\n",
        "for i in [1, 2, 3]: print(i**2 + i%2)"
      ]
    },
    {
      "cell_type": "code",
      "execution_count": null,
      "metadata": {
        "id": "k6w3IggepnHb"
      },
      "outputs": [],
      "source": [
        "# Goodness\n",
        "for i in [1, 2, 3]:\n",
        "    print(i**2 + i%2)"
      ]
    },
    {
      "cell_type": "markdown",
      "metadata": {
        "id": "v5cAJYP_pnHb"
      },
      "source": [
        "#### Imports\n",
        "\n",
        "- Import one module per line\n",
        "- Avoid `*` imports\n",
        "- Use the import order: standard library; 3rd party packages; local / custom code"
      ]
    },
    {
      "cell_type": "code",
      "execution_count": null,
      "metadata": {
        "id": "cJMrh9gbpnHb"
      },
      "outputs": [],
      "source": [
        "# Badness\n",
        "from numpy import *\n",
        "\n",
        "import os, sys"
      ]
    },
    {
      "cell_type": "code",
      "execution_count": null,
      "metadata": {
        "id": "A7aGA9UdpnHb"
      },
      "outputs": [],
      "source": [
        "# Goodness\n",
        "import os\n",
        "import sys\n",
        "\n",
        "import numpy as np"
      ]
    },
    {
      "cell_type": "markdown",
      "metadata": {
        "id": "MK2kI1zVpnHb"
      },
      "source": [
        "Note: If you don't know how to import a local/custom module, figure that out this week in office hours."
      ]
    },
    {
      "cell_type": "markdown",
      "metadata": {
        "id": "PftE57eNpnHb"
      },
      "source": [
        "### Naming (review)"
      ]
    },
    {
      "cell_type": "markdown",
      "metadata": {
        "id": "b3PsRisPpnHb"
      },
      "source": [
        "#### Valid Names\n",
        "\n",
        "- Use descriptive names for all modules, variables, functions and classes, that are longer than 1 character"
      ]
    },
    {
      "cell_type": "markdown",
      "metadata": {
        "jp-MarkdownHeadingCollapsed": true,
        "id": "EXImHT97pnHb"
      },
      "source": [
        "#### Naming Style\n",
        "\n",
        "- CapWords (leading capitals, no separation) for Classes\n",
        "- snake_case (all lowercase, underscore separator) for variables, functions, and modules"
      ]
    },
    {
      "cell_type": "markdown",
      "metadata": {
        "id": "_V8t7AbKpnHb"
      },
      "source": [
        "### Code Comments"
      ]
    },
    {
      "cell_type": "markdown",
      "metadata": {
        "id": "6wLSsxA3pnHb"
      },
      "source": [
        "#### Inline code comments\n",
        "\n",
        "Inline code comments should use `#`, and be written at the same indentation level of the code it describes."
      ]
    },
    {
      "cell_type": "markdown",
      "metadata": {
        "id": "m8DM2ta3pnHb"
      },
      "source": [
        "How to use comments:\n",
        "- Generally:\n",
        "    - focus on the *how* and *why*, over literal 'what is the code'\n",
        "    - explain any context needed to understand the task at hand\n",
        "    - give a broad overview of what approach you are taking to perform the task\n",
        "    - if you're using any unusual approaches, explain what they are, and why you're using them\n",
        "- Comments need to be maintained - make sure to keep them up to date"
      ]
    },
    {
      "cell_type": "markdown",
      "metadata": {
        "id": "Tkt7Tlm_pnHb"
      },
      "source": [
        "**Bad Comments**"
      ]
    },
    {
      "cell_type": "code",
      "execution_count": null,
      "metadata": {
        "id": "sArMaYyapnHb",
        "colab": {
          "base_uri": "https://localhost:8080/",
          "height": 180
        },
        "outputId": "7e674a4f-3844-4d12-d7a4-d553ce2c286e"
      },
      "outputs": [
        {
          "output_type": "error",
          "ename": "NameError",
          "evalue": "name 'list_of_elements' is not defined",
          "traceback": [
            "\u001b[0;31m---------------------------------------------------------------------------\u001b[0m",
            "\u001b[0;31mNameError\u001b[0m                                 Traceback (most recent call last)",
            "\u001b[0;32m<ipython-input-6-b7fd5c74e881>\u001b[0m in \u001b[0;36m<cell line: 0>\u001b[0;34m()\u001b[0m\n\u001b[1;32m      1\u001b[0m \u001b[0;31m# This is a loop that iterates over elements in a list\u001b[0m\u001b[0;34m\u001b[0m\u001b[0;34m\u001b[0m\u001b[0m\n\u001b[0;32m----> 2\u001b[0;31m \u001b[0;32mfor\u001b[0m \u001b[0melement\u001b[0m \u001b[0;32min\u001b[0m \u001b[0mlist_of_elements\u001b[0m\u001b[0;34m:\u001b[0m\u001b[0;34m\u001b[0m\u001b[0;34m\u001b[0m\u001b[0m\n\u001b[0m\u001b[1;32m      3\u001b[0m     \u001b[0;32mpass\u001b[0m\u001b[0;34m\u001b[0m\u001b[0;34m\u001b[0m\u001b[0m\n",
            "\u001b[0;31mNameError\u001b[0m: name 'list_of_elements' is not defined"
          ]
        }
      ],
      "source": [
        "# This is a loop that iterates over elements in a list\n",
        "for element in list_of_elements:\n",
        "    pass"
      ]
    },
    {
      "cell_type": "markdown",
      "metadata": {
        "collapsed": true,
        "jupyter": {
          "outputs_hidden": true
        },
        "id": "8STia7B8pnHb"
      },
      "source": [
        "**Good Comments**"
      ]
    },
    {
      "cell_type": "code",
      "execution_count": null,
      "metadata": {
        "id": "m1iCJepVpnHb"
      },
      "outputs": [],
      "source": [
        "# Because of X, we will use approach Y to do Z\n",
        "for element in list_of_elements:\n",
        "    # comment for code block\n",
        "    pass"
      ]
    },
    {
      "cell_type": "markdown",
      "metadata": {
        "id": "lE7HYtYIpnHb"
      },
      "source": [
        "#### Code Style: Comments"
      ]
    },
    {
      "cell_type": "markdown",
      "metadata": {
        "id": "QzlfpWSqpnHb"
      },
      "source": [
        "Out-of-date comments are worse than no comments at all.\n",
        "\n",
        "Keep your comments up-to-date."
      ]
    },
    {
      "cell_type": "markdown",
      "metadata": {
        "id": "i7uFM1VgpnHb"
      },
      "source": [
        "#### Block comments\n",
        "- apply to some (or all) code that follows them\n",
        "- are indented to the same level as that code.\n",
        "- Each line of a block comment starts with a # and a single space"
      ]
    },
    {
      "cell_type": "code",
      "execution_count": null,
      "metadata": {
        "id": "1mH3PuHupnHc"
      },
      "outputs": [],
      "source": [
        "# Badness\n",
        "import random\n",
        "\n",
        "def week_10():\n",
        "# help try to destress students by picking one thing from the following list using random\n",
        "    statements = [\"You've totally got this!\",\"You're so close!\",\"You're going to do great!\",\"Remember to take breaks!\",\"Sleep, water, and food are really important!\"]\n",
        "    out = random.choice(statements)\n",
        "    return out\n",
        "\n",
        "week_10()"
      ]
    },
    {
      "cell_type": "code",
      "execution_count": null,
      "metadata": {
        "id": "7Pm89GZVpnHc"
      },
      "outputs": [],
      "source": [
        "# Goodness\n",
        "def week_10():\n",
        "\n",
        "    # Randomly pick from list of de-stressing statements\n",
        "    # to help students as they finish the quarter.\n",
        "    statements = [\"You've totally got this!\",\n",
        "                  \"You're so close!\",\n",
        "                  \"You're going to do great!\",\n",
        "                  \"Remember to take breaks!\",\n",
        "                  \"Sleep, water, and food are really important!\"]\n",
        "\n",
        "    out = random.choice(statements)\n",
        "\n",
        "    return out\n",
        "\n",
        "week_10()"
      ]
    },
    {
      "cell_type": "markdown",
      "metadata": {
        "id": "701a_26zpnHc"
      },
      "source": [
        "#### Inline comments\n",
        "- to be used sparingly\n",
        "- to be separated by at least two spaces from the statement\n",
        "- start with a # and a single space"
      ]
    },
    {
      "cell_type": "code",
      "execution_count": null,
      "metadata": {
        "id": "Q7JdbcIQpnHc"
      },
      "outputs": [],
      "source": [
        "# Badness\n",
        "week_10()#words of encouragement"
      ]
    },
    {
      "cell_type": "code",
      "execution_count": null,
      "metadata": {
        "id": "tkKBy3NPpnHc"
      },
      "outputs": [],
      "source": [
        "# Goodness\n",
        "week_10()  # words of encouragement"
      ]
    },
    {
      "cell_type": "markdown",
      "metadata": {
        "id": "QSVHtjltpnHc"
      },
      "source": [
        "### Activity: Code Style\n",
        "\n",
        "Complete the Google Form: [https://forms.gle/aS3VoiKuT8vNHEgK9](https://forms.gle/aS3VoiKuT8vNHEgK9)\n",
        "\n",
        "> Improve the code style of the provided class, using PEP8 guidelines:"
      ]
    },
    {
      "cell_type": "code",
      "execution_count": null,
      "metadata": {
        "id": "7fUaVvtWpnHc"
      },
      "outputs": [],
      "source": [
        "#improved\n",
        "class CoffeeTracker:\n",
        "\n",
        "    def __init__(self, name):\n",
        "        self.name = name\n",
        "        self.total_price = 0\n",
        "        self.coffee = 0\n",
        "        self.average_price = 0\n",
        "\n",
        "    def buy_coffee(self, price_list):\n",
        "\n",
        "        for price in price_list:\n",
        "          self.total_price+=price\n",
        "          self.coffee+=1\n",
        "\n",
        "        if self.coffee>0:\n",
        "          self.average_price = self.total_price / self.coffee\n",
        "        print(f\"{self.name} bought {self.coffee} coffees.\")\n",
        "        print(f\"Average price per coffee: ${self.average_price:.2f}\")"
      ]
    },
    {
      "cell_type": "markdown",
      "metadata": {
        "id": "Qj_VXLMlpnHc"
      },
      "source": [
        "## Code Documentation"
      ]
    },
    {
      "cell_type": "markdown",
      "metadata": {
        "id": "W2Gm_5OppnHc"
      },
      "source": [
        "<div class=\"alert alert-success\">\n",
        "Code documentation is text that accompanies and/or is embedded within a software project, that explains what the code is and how to use it.\n",
        "</div>"
      ]
    },
    {
      "cell_type": "markdown",
      "metadata": {
        "id": "-i1HDDhppnHc"
      },
      "source": [
        "Stuff written for humans in human language to help the humans."
      ]
    },
    {
      "cell_type": "markdown",
      "metadata": {
        "collapsed": true,
        "jupyter": {
          "outputs_hidden": true
        },
        "id": "ZGi-6FxypnHc"
      },
      "source": [
        "### Code Comments vs. Documentation"
      ]
    },
    {
      "cell_type": "markdown",
      "metadata": {
        "collapsed": true,
        "jupyter": {
          "outputs_hidden": true
        },
        "id": "Ddr4-fTmpnHc"
      },
      "source": [
        "#### Comments"
      ]
    },
    {
      "cell_type": "markdown",
      "metadata": {
        "id": "YxCrl6M3pnHc"
      },
      "source": [
        "Comments are string literals written directly in the code, typically directed at developers - people reading and potentially writing the code."
      ]
    },
    {
      "cell_type": "markdown",
      "metadata": {
        "id": "jaoYO1MJpnHc"
      },
      "source": [
        "#### Documentation"
      ]
    },
    {
      "cell_type": "markdown",
      "metadata": {
        "id": "r413AliUpnHc"
      },
      "source": [
        "Documentation are descriptions and guides written for code users."
      ]
    },
    {
      "cell_type": "markdown",
      "metadata": {
        "id": "JipRhuGopnHc"
      },
      "source": [
        "## Returning to `convert_to_unicode()`\n",
        "That example from before...Improvement Considerations:\n",
        "- Structural considerations: indentations & spacing\n",
        "- Improved naming: functions & variables\n",
        "- Add Comments within code\n",
        "- **Proper Documentation!**"
      ]
    },
    {
      "cell_type": "code",
      "execution_count": null,
      "metadata": {
        "scrolled": true,
        "id": "IdmpknDlpnHc"
      },
      "outputs": [],
      "source": [
        "def convert_to_unicode(input_string):\n",
        "    \"\"\"Converts an input string into a string containing the unicode code points.\n",
        "\n",
        "    Parameters\n",
        "    ----------\n",
        "    input_string : string\n",
        "        String to convert to code points\n",
        "\n",
        "    Returns\n",
        "    -------\n",
        "    output_string : string\n",
        "        String containing the code points for the input string.\n",
        "    \"\"\"\n",
        "\n",
        "    string = []\n",
        "    # converting input string to list to make it iterable\n",
        "    input_list = list(input_string)\n",
        "\n",
        "    for character in input_list:\n",
        "        string.append(str(ord(character)))\n",
        "\n",
        "    output_string = '+'.join(string)\n",
        "    return output_string\n",
        "\n",
        "convert_to_unicode('Hello World.')"
      ]
    },
    {
      "cell_type": "markdown",
      "metadata": {
        "id": "TS09Ri13pnHc"
      },
      "source": [
        "## Docstrings"
      ]
    },
    {
      "cell_type": "markdown",
      "metadata": {
        "id": "SyfmTOJ5pnHc"
      },
      "source": [
        "<div class=\"alert alert-success\">\n",
        "<b>Docstrings</b> are in-code text that describe modules, classes and functions. They describe the operation of the code.\n",
        "</div>"
      ]
    },
    {
      "cell_type": "markdown",
      "metadata": {
        "id": "r7Jp0lF4pnHc"
      },
      "source": [
        "### Numpy style docs\n",
        "[Numpy style docs](https://numpydoc.readthedocs.io/en/latest/format.html) are a particular specification for docstrings."
      ]
    },
    {
      "cell_type": "markdown",
      "metadata": {
        "collapsed": true,
        "jupyter": {
          "outputs_hidden": true
        },
        "id": "_uYxb8ZCpnHc"
      },
      "source": [
        "### Example Docstring"
      ]
    },
    {
      "cell_type": "code",
      "execution_count": null,
      "metadata": {
        "id": "LwqlYHRapnHc"
      },
      "outputs": [],
      "source": [
        "def add(num1, num2):\n",
        "    \"\"\"Add two numbers together.\n",
        "\n",
        "    Parameters\n",
        "    ----------\n",
        "    num1 : int or float\n",
        "        The first number, to be added.\n",
        "    num2 : int or float\n",
        "        The second number, to be added.\n",
        "\n",
        "    Returns\n",
        "    -------\n",
        "    answer : float\n",
        "        The result of the addition.\n",
        "    \"\"\"\n",
        "\n",
        "    answer = num1 + num2\n",
        "\n",
        "    return answer"
      ]
    },
    {
      "cell_type": "markdown",
      "metadata": {
        "id": "YXdJkRJBpnHd"
      },
      "source": [
        "Docstrings\n",
        "\n",
        "- multi-line string that describes what's going on\n",
        "- starts and ends with triple quotes `\"\"\"`\n",
        "- one sentence overview at the top - the task/goal of function\n",
        "- **Parameters** : description of function arguments, keywords & respective types\n",
        "- **Returns** : explanation of returned values and their types"
      ]
    },
    {
      "cell_type": "markdown",
      "metadata": {
        "id": "JV8f9c4hpnHd"
      },
      "source": [
        "**Docstrings** are available to you *outside* of the source code."
      ]
    },
    {
      "cell_type": "markdown",
      "metadata": {
        "editable": true,
        "tags": [],
        "id": "q8zfRrT6pnHd"
      },
      "source": [
        "Note: ChatGPT is pretty good at generating docstrings..."
      ]
    },
    {
      "cell_type": "markdown",
      "metadata": {
        "id": "lXmDEvs0pnHd"
      },
      "source": [
        "### Docstrings are available through the code"
      ]
    },
    {
      "cell_type": "code",
      "execution_count": null,
      "metadata": {
        "id": "NHf2NH2WpnHd"
      },
      "outputs": [],
      "source": [
        "add?"
      ]
    },
    {
      "cell_type": "code",
      "execution_count": null,
      "metadata": {
        "id": "GhFKhhuipnHd"
      },
      "outputs": [],
      "source": [
        "# The `help` function prints out the `docstring`\n",
        "# of an object (module, function, class)\n",
        "help(add)"
      ]
    },
    {
      "cell_type": "markdown",
      "metadata": {
        "id": "4bkWKcqWpnHd"
      },
      "source": [
        "#### `__doc__`"
      ]
    },
    {
      "cell_type": "code",
      "execution_count": null,
      "metadata": {
        "scrolled": true,
        "id": "P4Ub4JLqpnHd"
      },
      "outputs": [],
      "source": [
        "# Docstrings get stored as the `__doc__` attribute\n",
        "# can also be accessed from there\n",
        "print(add.__doc__)"
      ]
    },
    {
      "cell_type": "markdown",
      "metadata": {
        "id": "YUXRbPhMpnHd"
      },
      "source": [
        "### Activity: Documentation\n",
        "\n",
        "Complete the Google Form: [https://forms.gle/x3nzGkePgqH9JKtGA](https://forms.gle/x3nzGkePgqH9JKtGA)\n",
        "\n",
        "> Use an LLM to generate (or do it by hand) a numpy-style docstring for the class we discussed at the end of the testing lecture\n",
        "\n",
        "```python\n",
        "class Person:\n",
        "\n",
        "    def __init__(self, name, age):\n",
        "        self.name = name\n",
        "        self.age = age\n",
        "\n",
        "    def birthday(self):\n",
        "        self.age += 1\n",
        "        return 'Happy Birthday!'\n",
        "```\n",
        "\n",
        "Edit/improve the docstring provided as needed and include your updated class below:"
      ]
    },
    {
      "cell_type": "code",
      "execution_count": null,
      "metadata": {
        "id": "-kjLlC3IpnHd"
      },
      "outputs": [],
      "source": [
        "\n",
        "class Person:\n",
        "  '''Class to represent a person with name and age\n",
        "  Attributes:\n",
        "  ------------------------------------\n",
        "  input string for name (self.name), person's name,\n",
        "  input integer or float for age (self.age), person's age'''\n",
        "\n",
        "  def __init__(self, name, age):\n",
        "    self.name = name\n",
        "    self.age = age\n",
        "\n",
        "\n",
        "  def birthday(self):\n",
        "    self.age += 1\n",
        "    return 'Happy Birthday!'\n",
        "\n",
        "    '''returns a birthday greeting, after adding to the self.age attribute'''"
      ]
    },
    {
      "cell_type": "markdown",
      "metadata": {
        "id": "Z-lHjFHQpnHd"
      },
      "source": [
        "### Final Exam & Documentation\n",
        "\n",
        "**Will I need to write docstrings on the final exam?**\n",
        "\n",
        "No...not from scratch (but you need to know what they are and be able to read/underestand one). LLMs are really good at this, so I won't make you write them by hand on the exam."
      ]
    },
    {
      "cell_type": "markdown",
      "metadata": {
        "id": "acZ8tYgQpnHd"
      },
      "source": [
        "### Activity: Code Testing (Revisited)\n",
        "\n",
        "Complete the Google Form: [https://forms.gle/jWDmi5Zokg5uXD197](https://forms.gle/jWDmi5Zokg5uXD197)\n",
        "\n",
        "We now have this nicely-styled and documented function. How could we use `unittest` for this?"
      ]
    },
    {
      "cell_type": "code",
      "execution_count": null,
      "metadata": {
        "id": "iHxgdh-epnHd"
      },
      "outputs": [],
      "source": [
        "def convert_to_unicode(input_string):\n",
        "    \"\"\"Converts an input string into a string containing the unicode code points.\n",
        "\n",
        "    Parameters\n",
        "    ----------\n",
        "    input_string : string\n",
        "        String to convert to code points\n",
        "\n",
        "    Returns\n",
        "    -------\n",
        "    output_string : string\n",
        "        String containing the code points for the input string.\n",
        "    \"\"\"\n",
        "\n",
        "    string = []\n",
        "    # coverting input string to list to make it iterable\n",
        "    input_list = list(input_string)\n",
        "\n",
        "    for character in input_list:\n",
        "        string.append(str(ord(character)))\n",
        "\n",
        "    output_string = '+'.join(string)\n",
        "    return output_string"
      ]
    },
    {
      "cell_type": "code",
      "source": [
        "convert_to_unicode('Hello World.')"
      ],
      "metadata": {
        "colab": {
          "base_uri": "https://localhost:8080/",
          "height": 35
        },
        "id": "z2BEH_TMJ3ar",
        "outputId": "9e820573-6b4d-49f0-dad0-498dffe58c2e"
      },
      "execution_count": null,
      "outputs": [
        {
          "output_type": "execute_result",
          "data": {
            "text/plain": [
              "'72+101+108+108+111+32+87+111+114+108+100+46'"
            ],
            "application/vnd.google.colaboratory.intrinsic+json": {
              "type": "string"
            }
          },
          "metadata": {},
          "execution_count": 3
        }
      ]
    },
    {
      "cell_type": "markdown",
      "metadata": {
        "id": "8yCpzqPbpnHd"
      },
      "source": [
        "<div class=\"alert alert-warning\">\n",
        "__<b>Below is an example of the <code>unittest</code>  framework I'd provide on the final exam:</b>__\n",
        "</div>"
      ]
    },
    {
      "cell_type": "code",
      "execution_count": null,
      "metadata": {
        "id": "oD2PrG7HpnHd",
        "colab": {
          "base_uri": "https://localhost:8080/"
        },
        "outputId": "69ddf07b-1cc7-49be-ae0f-5ab3abdce9a4"
      },
      "outputs": [
        {
          "output_type": "stream",
          "name": "stderr",
          "text": [
            "test_length (__main__.TestConvertToUnicode.test_length) ... ok\n",
            "test_output (__main__.TestConvertToUnicode.test_output) ... ok\n",
            "test_output_type (__main__.TestConvertToUnicode.test_output_type) ... ok\n",
            "\n",
            "----------------------------------------------------------------------\n",
            "Ran 3 tests in 0.006s\n",
            "\n",
            "OK\n"
          ]
        }
      ],
      "source": [
        "import unittest\n",
        "\n",
        "class TestConvertToUnicode(unittest.TestCase):\n",
        "\n",
        "  out=convert_to_unicode('Hello World.')\n",
        "\n",
        "  def test_output_type(self):\n",
        "    self.assertIsInstance(self.out, str)\n",
        "\n",
        "  def test_length(self):\n",
        "    self.assertEqual(43, len(self.out))\n",
        "\n",
        "  def test_output(self):\n",
        "    self.assertEqual('72+101+108+108+111+32+87+111+114+108+100+46', self.out)\n",
        "\n",
        "if __name__ == '__main__':\n",
        "    suite = unittest.TestLoader().loadTestsFromTestCase(TestConvertToUnicode)\n",
        "    unittest.TextTestRunner(verbosity=2).run(suite)"
      ]
    },
    {
      "cell_type": "markdown",
      "metadata": {
        "id": "Vv-lXYO9pnHd"
      },
      "source": [
        "<div class=\"alert alert-danger\">\n",
        "<b>NOTE: Below this is not tested on your final exam.</b>\n",
        "</div>"
      ]
    },
    {
      "cell_type": "markdown",
      "metadata": {
        "id": "6WgbqAshpnHd"
      },
      "source": [
        "### Documentation for a Software Project"
      ]
    },
    {
      "cell_type": "markdown",
      "metadata": {
        "id": "UnRpjl0ppnHd"
      },
      "source": [
        "Documentation Files:\n",
        "- A `README` is a file that provides an overview of the project to potential users and developers\n",
        "- A `LICENSE` file specifies the license under which the code is available (the terms of use)\n",
        "- An `API Reference` is a collection of the docstrings, listing public interfaces, parameters and return values\n",
        "- Tutorials and/or Examples show examples and tutorials for using the codebase"
      ]
    },
    {
      "cell_type": "markdown",
      "metadata": {
        "collapsed": true,
        "jupyter": {
          "outputs_hidden": true
        },
        "id": "JpsS80FOpnHd"
      },
      "source": [
        "### Documentation Sites"
      ]
    },
    {
      "cell_type": "markdown",
      "metadata": {
        "collapsed": true,
        "jupyter": {
          "outputs_hidden": true
        },
        "id": "O6C3bNjlpnHd"
      },
      "source": [
        "<div class=\"alert alert-success\">\n",
        "Documentation sites are a host of a package's documentation, for code users.\n",
        "</div>"
      ]
    },
    {
      "cell_type": "markdown",
      "metadata": {
        "id": "BhRf5bu3pnHd"
      },
      "source": [
        "#### Example: Function Documentation\n",
        "`numpy.array` :\n",
        "https://docs.scipy.org/doc/numpy/reference/generated/numpy.array.html"
      ]
    },
    {
      "cell_type": "markdown",
      "metadata": {
        "id": "P22IAh2zpnHd"
      },
      "source": [
        "#### Example: Package Documentation\n",
        "**scikit learn** (`sklearn`) : https://scikit-learn.org/stable/index.html"
      ]
    },
    {
      "cell_type": "markdown",
      "metadata": {
        "id": "6iLa2HgjpnHd"
      },
      "source": [
        "## Linters"
      ]
    },
    {
      "cell_type": "markdown",
      "metadata": {
        "id": "htz3iL2SpnHd"
      },
      "source": [
        "<div class=\"alert alert-success\">\n",
        "A linter is a tool that analyzes code for both programmatic errors and stylistic issues.\n",
        "</div>"
      ]
    },
    {
      "cell_type": "markdown",
      "metadata": {
        "id": "d6Gm8SgopnHd"
      },
      "source": [
        "`pylint` is available from Anaconda to check this for you. (Not available on PrairieLearn.)\n",
        "\n",
        "\n",
        "```python\n",
        "# to install on your computer\n",
        "!pip install --user pylint\n",
        "```"
      ]
    },
    {
      "cell_type": "markdown",
      "metadata": {
        "collapsed": true,
        "jupyter": {
          "outputs_hidden": true
        },
        "id": "dwu9r-cTpnHe"
      },
      "source": [
        "#### Think-Pair-Share\n",
        "\n",
        "How many PEP8 violations can you find in this code?"
      ]
    },
    {
      "cell_type": "code",
      "execution_count": null,
      "metadata": {
        "id": "4y4jZqtqpnHe"
      },
      "outputs": [],
      "source": [
        "def MyFunction(input_num):\n",
        "\n",
        "    my_list = [0,1,2,3]\n",
        "    if 1 in my_list: ind = 1\n",
        "    else:\n",
        "      ind = 0\n",
        "    qq = []\n",
        "    for i in my_list [ind:]:\n",
        "        qq.append(input_num/i)\n",
        "    return qq"
      ]
    },
    {
      "cell_type": "markdown",
      "source": [
        "PEP8\n",
        "- name of function should be snake_case\n",
        "- multi-line for code block\n",
        "- qq, i- not meaningful name\n",
        "- docstrings needed"
      ],
      "metadata": {
        "id": "9JTdvkESkATQ"
      }
    },
    {
      "cell_type": "markdown",
      "metadata": {
        "id": "NSeC7HKepnHe"
      },
      "source": [
        "### list here\n"
      ]
    },
    {
      "cell_type": "code",
      "execution_count": null,
      "metadata": {
        "id": "sjyiGLkGpnHe"
      },
      "outputs": [],
      "source": [
        "# Let's fix this code\n"
      ]
    },
    {
      "cell_type": "code",
      "execution_count": null,
      "metadata": {
        "scrolled": true,
        "id": "eq1h9RXIpnHe",
        "colab": {
          "base_uri": "https://localhost:8080/"
        },
        "outputId": "11ce57d9-004c-461f-82cd-2f629613f62e"
      },
      "outputs": [
        {
          "output_type": "stream",
          "name": "stdout",
          "text": [
            "/bin/bash: line 1: pylint: command not found\n"
          ]
        }
      ],
      "source": [
        "# check using pylint\n",
        "!pylint linter_example.py"
      ]
    },
    {
      "cell_type": "markdown",
      "metadata": {
        "id": "ix6T2jZGpnHe"
      },
      "source": [
        "## Software Versioning\n",
        "\n",
        "When you make changes to the software you've released into the world, you have to change the version of that software to let people know changes have occurred."
      ]
    },
    {
      "cell_type": "markdown",
      "metadata": {
        "id": "edOqip0BpnHe"
      },
      "source": [
        "### Versioning Schemes\n",
        "\n",
        "The rules, if you're new to this can be [dizzying](https://www.python.org/dev/peps/pep-0440/#version-scheme), so we'll [simplify](https://www.python.org/dev/peps/pep-0396/) for now:\n",
        "\n",
        "- `<MAJOR>.<MINOR>`\n",
        "    - i.e. 1.3\n",
        "    \n",
        "- `<MAJOR>.<MINOR>.<MAINTENANCE>`\n",
        "    - i.e. 1.3.1"
      ]
    },
    {
      "cell_type": "markdown",
      "metadata": {
        "id": "1t1ALusjpnHe"
      },
      "source": [
        "- `<MAJOR>` - increase by 1 w/ incompatible API changes\n",
        "- `<MINOR>` - increase by 1 w/ added functionality in a backwards-compatible manner\n",
        "- `<MAINTENANCE>` - (aka patch) increase by 1 w/  backwards-compatible bug fixes."
      ]
    },
    {
      "cell_type": "code",
      "execution_count": null,
      "metadata": {
        "id": "_L0l1ESSpnHe"
      },
      "outputs": [],
      "source": [
        "# see version information\n",
        "import pandas as pd\n",
        "pd.__version__"
      ]
    },
    {
      "cell_type": "markdown",
      "metadata": {
        "id": "pJNCPd9kpnHe"
      },
      "source": [
        "In Python package development... when `<MAJOR>` == 0, suggests a package in development"
      ]
    },
    {
      "cell_type": "code",
      "execution_count": null,
      "metadata": {
        "scrolled": true,
        "id": "v86p-VPJpnHe"
      },
      "outputs": [],
      "source": [
        "# see version information\n",
        "!pip show pandas"
      ]
    }
  ],
  "metadata": {
    "celltoolbar": "Slideshow",
    "kernelspec": {
      "display_name": "Python 3 (ipykernel)",
      "language": "python",
      "name": "python3"
    },
    "language_info": {
      "codemirror_mode": {
        "name": "ipython",
        "version": 3
      },
      "file_extension": ".py",
      "mimetype": "text/x-python",
      "name": "python",
      "nbconvert_exporter": "python",
      "pygments_lexer": "ipython3",
      "version": "3.11.8"
    },
    "rise": {
      "scroll": true
    },
    "colab": {
      "provenance": [],
      "include_colab_link": true
    }
  },
  "nbformat": 4,
  "nbformat_minor": 0
}