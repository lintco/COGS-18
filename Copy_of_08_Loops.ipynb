{
  "cells": [
    {
      "cell_type": "markdown",
      "metadata": {
        "id": "view-in-github",
        "colab_type": "text"
      },
      "source": [
        "<a href=\"https://colab.research.google.com/github/lintco/COGS-18/blob/main/Copy_of_08_Loops.ipynb\" target=\"_parent\"><img src=\"https://colab.research.google.com/assets/colab-badge.svg\" alt=\"Open In Colab\"/></a>"
      ]
    },
    {
      "cell_type": "markdown",
      "metadata": {
        "id": "1RAWDz2gIK4Z"
      },
      "source": [
        "# Loops\n",
        "[![Open In Colab](https://colab.research.google.com/assets/colab-badge.svg)](https://colab.research.google.com/github/COGS18/LectureNotes-COGS18/blob/main/08-Loops.ipynb)"
      ]
    },
    {
      "cell_type": "markdown",
      "metadata": {
        "id": "qmJT0kV6IK4a"
      },
      "source": [
        "**Course Announcements**\n",
        "\n",
        "Due this week:\n",
        "- VQ8 due Wed\n",
        "- CL4 due Fri\n",
        "- A3 due Sun\n",
        "- Take your exam!"
      ]
    },
    {
      "cell_type": "markdown",
      "metadata": {
        "id": "raJpBHJfIK4b"
      },
      "source": [
        "## Control Flow - Loops\n",
        "\n",
        "- `while`\n",
        "- `for`\n",
        "- `range`, `continue`, `break`"
      ]
    },
    {
      "cell_type": "markdown",
      "metadata": {
        "collapsed": true,
        "jupyter": {
          "outputs_hidden": true
        },
        "id": "vjmJlUi6IK4b"
      },
      "source": [
        "### SideNote: counters"
      ]
    },
    {
      "cell_type": "code",
      "execution_count": 3,
      "metadata": {
        "id": "k6ktBwE6IK4b",
        "colab": {
          "base_uri": "https://localhost:8080/"
        },
        "outputId": "76a9deae-edec-46ae-fa33-fecf110e4b52"
      },
      "outputs": [
        {
          "output_type": "stream",
          "name": "stdout",
          "text": [
            "0\n"
          ]
        }
      ],
      "source": [
        "# Initialize a counter variable\n",
        "counter = 0\n",
        "print(counter)"
      ]
    },
    {
      "cell_type": "code",
      "execution_count": 4,
      "metadata": {
        "id": "HKvGV8ZxIK4c",
        "colab": {
          "base_uri": "https://localhost:8080/"
        },
        "outputId": "82d87893-cb5b-4b46-f87b-e44ea0a2a149"
      },
      "outputs": [
        {
          "output_type": "stream",
          "name": "stdout",
          "text": [
            "1\n"
          ]
        }
      ],
      "source": [
        "counter = counter + 1\n",
        "print(counter)"
      ]
    },
    {
      "cell_type": "code",
      "execution_count": 5,
      "metadata": {
        "id": "UOEjdyyaIK4c",
        "colab": {
          "base_uri": "https://localhost:8080/"
        },
        "outputId": "b759aa1d-d11e-432a-d410-ea6f7602374d"
      },
      "outputs": [
        {
          "output_type": "stream",
          "name": "stdout",
          "text": [
            "2\n"
          ]
        }
      ],
      "source": [
        "counter = counter + 1\n",
        "print(counter)"
      ]
    },
    {
      "cell_type": "markdown",
      "metadata": {
        "id": "l-mC2h2bIK4c"
      },
      "source": [
        "The idea here...is that as the code executes, the value of the counter increases. We'll use these a lot in loops!"
      ]
    },
    {
      "cell_type": "markdown",
      "metadata": {
        "id": "S5nFqRDNIK4c"
      },
      "source": [
        "### SideNote: `append`\n",
        "\n",
        "`append` is a list methods (we'll talk about others soon) that adds an item to the end of an existing list *in place*"
      ]
    },
    {
      "cell_type": "code",
      "execution_count": null,
      "metadata": {
        "scrolled": true,
        "id": "vBgB6udGIK4c",
        "outputId": "21cf9981-6859-45fc-9b30-6e8a34333b6b"
      },
      "outputs": [
        {
          "data": {
            "text/plain": [
              "['a', 'b', 'c', 'd']"
            ]
          },
          "execution_count": 1,
          "metadata": {},
          "output_type": "execute_result"
        }
      ],
      "source": [
        "my_list = ['a', 'b', 'c']\n",
        "my_list.append('d') ### NOTE THAT IT IS NOT ASSIGNED BACK TO my_list\n",
        "my_list"
      ]
    },
    {
      "cell_type": "markdown",
      "metadata": {
        "id": "S1VmM7t8IK4d"
      },
      "source": [
        "## Loops"
      ]
    },
    {
      "cell_type": "markdown",
      "metadata": {
        "id": "-5Mf63p7IK4d"
      },
      "source": [
        "<div class=\"alert alert-success\">\n",
        "A <b>loop</b> is a procedure to repeat a piece of code.\n",
        "</div>"
      ]
    },
    {
      "cell_type": "markdown",
      "metadata": {
        "id": "FwQnntfBIK4d"
      },
      "source": [
        "### `while` Loops"
      ]
    },
    {
      "cell_type": "markdown",
      "metadata": {
        "id": "NCXtkkPEIK4d"
      },
      "source": [
        "<div class=\"alert alert-success\">\n",
        "A <b>while loop</b> is a procedure to repeat a piece of code while some condition is still met.\n",
        "</div>"
      ]
    },
    {
      "cell_type": "markdown",
      "metadata": {
        "id": "0wYwTo2UIK4d"
      },
      "source": [
        "![](https://github.com/COGS18/LectureNotes-COGS18/blob/main/img/shopping_cart.jpeg?raw=1)"
      ]
    },
    {
      "cell_type": "markdown",
      "metadata": {
        "id": "sq4WJs4RIK4d"
      },
      "source": [
        "### `while` Loop: live demo\n",
        "\n",
        "```python\n",
        "while is_sitting(studentA):\n",
        "    # studentB moves one sheet of paper from chair to table\n",
        "```"
      ]
    },
    {
      "cell_type": "markdown",
      "metadata": {
        "id": "UntpBecsIK4d"
      },
      "source": [
        "### `for` Loops"
      ]
    },
    {
      "cell_type": "markdown",
      "metadata": {
        "id": "_PKv38YLIK4d"
      },
      "source": [
        "<div class=\"alert alert-success\">\n",
        "A <b>for loop</b> is a procedure a to repeat code for every element in a sequence.\n",
        "</div>"
      ]
    },
    {
      "cell_type": "markdown",
      "metadata": {
        "id": "pQdUudckIK4d"
      },
      "source": [
        "![](https://github.com/COGS18/LectureNotes-COGS18/blob/main/img/shopping_list.jpeg?raw=1)"
      ]
    },
    {
      "cell_type": "markdown",
      "metadata": {
        "id": "uaIU-_UCIK4d"
      },
      "source": [
        "### `for` Loop: live demo\n",
        "\n",
        "```python\n",
        "\n",
        "students_in_line = ['', '', '', '', '']\n",
        "brown_hair = []\n",
        "other_hair = []\n",
        "\n",
        "for student in students_in_line:\n",
        "    if has_brown_hair(student):\n",
        "        brown_hair.append(student)\n",
        "    else:\n",
        "        other_hair.append(student)         \n",
        "```"
      ]
    },
    {
      "cell_type": "markdown",
      "metadata": {
        "id": "_kiKeZKRIK4d"
      },
      "source": [
        "### Activity I: Comprehension Check\n",
        "\n",
        "Complete all questions in this Google Form ([https://forms.gle/N8ao851V5G3rdnSo7](https://forms.gle/N8ao851V5G3rdnSo7)) and then click submit.\n",
        "\n",
        "You are encouraged to:\n",
        "1. Talk with your neighbor\n",
        "2. Try things out to check your understanding\n",
        "\n",
        "If you have questions, I'm happy to come over as we work on this!"
      ]
    },
    {
      "cell_type": "code",
      "source": [
        "this_list=['hello', 'hi', 'hey']\n",
        "this_list.append('ok')"
      ],
      "metadata": {
        "id": "00MiQg33M91q"
      },
      "execution_count": 6,
      "outputs": []
    },
    {
      "cell_type": "code",
      "source": [
        "print(this_list)"
      ],
      "metadata": {
        "colab": {
          "base_uri": "https://localhost:8080/"
        },
        "id": "vXFNSjMFNM1h",
        "outputId": "cf6064cb-e4c3-425e-fcc2-8449681ff287"
      },
      "execution_count": 7,
      "outputs": [
        {
          "output_type": "stream",
          "name": "stdout",
          "text": [
            "['hello', 'hi', 'hey', 'ok']\n"
          ]
        }
      ]
    },
    {
      "cell_type": "code",
      "source": [
        "this_list + ['ok']"
      ],
      "metadata": {
        "colab": {
          "base_uri": "https://localhost:8080/"
        },
        "id": "ZKJKX7keNy9G",
        "outputId": "99c0a3d2-f826-445f-9590-7f2b14964426"
      },
      "execution_count": 8,
      "outputs": [
        {
          "output_type": "execute_result",
          "data": {
            "text/plain": [
              "['hello', 'hi', 'hey', 'ok', 'ok']"
            ]
          },
          "metadata": {},
          "execution_count": 8
        }
      ]
    },
    {
      "cell_type": "markdown",
      "metadata": {
        "id": "tRsEZvjuIK4d"
      },
      "source": [
        "## Loops: Code"
      ]
    },
    {
      "cell_type": "markdown",
      "metadata": {
        "id": "vWnAasknIK4d"
      },
      "source": [
        "### `while` Loop: code"
      ]
    },
    {
      "cell_type": "code",
      "execution_count": 21,
      "metadata": {
        "id": "4vp_IE8yIK4d",
        "colab": {
          "base_uri": "https://localhost:8080/"
        },
        "outputId": "d9ebb8d6-e3c7-401c-fc7c-81253dcb0fac"
      },
      "outputs": [
        {
          "output_type": "stream",
          "name": "stdout",
          "text": [
            "3\n",
            "7\n",
            "17\n",
            "20\n"
          ]
        }
      ],
      "source": [
        "shopping_budget = 20\n",
        "bill = 0\n",
        "index = 0\n",
        "prices = [3, 4, 10, 3, 2, 15, 7]\n",
        "\n",
        "while bill < shopping_budget:\n",
        "\n",
        "    # add cost of item (prices) to bill\n",
        "    bill = bill + prices[index]\n",
        "\n",
        "    # increment index each time through the loop\n",
        "    index = index + 1\n",
        "\n",
        "    #print bill so we can see what's going on\n",
        "    print(bill)"
      ]
    },
    {
      "cell_type": "markdown",
      "metadata": {
        "id": "XWS55LpqIK4d"
      },
      "source": [
        "### `for` loop: code"
      ]
    },
    {
      "cell_type": "code",
      "execution_count": null,
      "metadata": {
        "scrolled": true,
        "id": "-OGE1MGIIK4d",
        "outputId": "87635bda-7fe1-46f3-9e7d-e71e4d7b542f"
      },
      "outputs": [
        {
          "name": "stdout",
          "output_type": "stream",
          "text": [
            "ice cream not in stock\n"
          ]
        },
        {
          "data": {
            "text/plain": [
              "['bananas', 'cookies']"
            ]
          },
          "execution_count": 3,
          "metadata": {},
          "output_type": "execute_result"
        }
      ],
      "source": [
        "# Define a list of items\n",
        "shopping_list = ['bananas', 'cookies', 'ice cream']\n",
        "in_stock = ['apples', 'bananas', 'cookies', 'chicken', 'cucumbers']\n",
        "in_cart = []\n",
        "\n",
        "# Loop across each element\n",
        "for item in shopping_list:\n",
        "    if item in in_stock:\n",
        "        in_cart.append(item)\n",
        "    else:\n",
        "        print(item + ' not in stock')\n",
        "\n",
        "in_cart"
      ]
    },
    {
      "cell_type": "code",
      "execution_count": 3,
      "metadata": {
        "id": "6MRDWoE_IK4d",
        "colab": {
          "base_uri": "https://localhost:8080/"
        },
        "outputId": "fb391556-8991-4dca-bab9-8e086ec56735"
      },
      "outputs": [
        {
          "output_type": "stream",
          "name": "stdout",
          "text": [
            "p\n",
            "y\n",
            "t\n",
            "h\n",
            "n\n"
          ]
        }
      ],
      "source": [
        "# Loop across items in a string\n",
        "vowels = ['A', 'E', 'I', 'O', 'U', 'a', 'e', 'i', 'o', 'u']\n",
        "my_string = 'python'\n",
        "\n",
        "for char in my_string:\n",
        "    if char not in vowels:\n",
        "        print(char)"
      ]
    },
    {
      "cell_type": "markdown",
      "metadata": {
        "id": "OpS7QMqsIK4d"
      },
      "source": [
        "### Activity II: `loops`\n",
        "\n",
        "Complete the coding question in this Google Form ([https://forms.gle/MRrSUvFDAehJmpxX7](https://forms.gle/MRrSUvFDAehJmpxX7)) and then click submit.\n",
        "\n",
        "> Write a function `sum_odd()` containing a loop that will add up all the odd numbers in an input list.\n",
        "\n",
        "> For example: `sum_odd(['a', 3, 5, 6])` would return 8, b/c 3 + 5 is 8"
      ]
    },
    {
      "cell_type": "code",
      "execution_count": 28,
      "metadata": {
        "id": "ZhRa6ZSSIK4d"
      },
      "outputs": [],
      "source": [
        "# WRITE CODE\n",
        "def sum_odd(input_list):\n",
        "  output= 0\n",
        "  for num in input_list:\n",
        "    if type(num)==int and num % 2 != 0:\n",
        "      output += num\n",
        "  return output"
      ]
    },
    {
      "cell_type": "code",
      "source": [
        "sum_odd(['a', 3, 5, 10])"
      ],
      "metadata": {
        "colab": {
          "base_uri": "https://localhost:8080/"
        },
        "id": "S1WM6xp8SuIC",
        "outputId": "fbc04ab3-767d-4c8d-f7e3-78dc8003e6d1"
      },
      "execution_count": 29,
      "outputs": [
        {
          "output_type": "execute_result",
          "data": {
            "text/plain": [
              "8"
            ]
          },
          "metadata": {},
          "execution_count": 29
        }
      ]
    },
    {
      "cell_type": "markdown",
      "metadata": {
        "collapsed": true,
        "jupyter": {
          "outputs_hidden": true
        },
        "id": "4T6leRqPIK4e"
      },
      "source": [
        "### Dictionaries: Indexing & Looping\n",
        "\n",
        "Dictionaries are indexed by their *key*."
      ]
    },
    {
      "cell_type": "code",
      "execution_count": 1,
      "metadata": {
        "id": "lw9HXG0BIK4e",
        "outputId": "92c32589-87f7-470a-8465-9122c79577a4",
        "colab": {
          "base_uri": "https://localhost:8080/"
        }
      },
      "outputs": [
        {
          "output_type": "execute_result",
          "data": {
            "text/plain": [
              "58"
            ]
          },
          "metadata": {},
          "execution_count": 1
        }
      ],
      "source": [
        "scores = {\n",
        "    'Alondra': 85,\n",
        "    'Holly': 58,\n",
        "    'Brooke': 92,\n",
        "    'Pauline': 47,\n",
        "    'Minqi': 76\n",
        "}\n",
        "\n",
        "scores['Holly']"
      ]
    },
    {
      "cell_type": "code",
      "execution_count": null,
      "metadata": {
        "id": "x3Os0OIzIK4e",
        "outputId": "8425a948-12fa-469b-c4ab-cc0f9ebe0e14"
      },
      "outputs": [
        {
          "name": "stdout",
          "output_type": "stream",
          "text": [
            "Students who passed: ['Alondra', 'Brooke', 'Minqi']\n"
          ]
        }
      ],
      "source": [
        "passing_score = 60\n",
        "passed_students = []\n",
        "\n",
        "for student in scores:\n",
        "    if scores[student] >= passing_score:\n",
        "        passed_students.append(student)\n",
        "\n",
        "print(\"Students who passed:\", passed_students)"
      ]
    },
    {
      "cell_type": "markdown",
      "metadata": {
        "id": "9CsiQuKNIK4e"
      },
      "source": [
        "### Activity III: Dictionaries\n",
        "\n",
        "Complete the coding question in this Google Form ([https://forms.gle/Cgw35fmyhfqRMx178](https://forms.gle/Cgw35fmyhfqRMx178)) and then click submit.\n",
        "\n",
        "> Define a function `name_dictionary` that will generate a dictionary that stores each unique letter in the input `name` as a different key, and the number of times each letter shows up in your name as the letter's value.\n",
        "\n",
        "> For example, `name_dictionary('Shannon')`would return: `{'S':1, 'h':1, 'a': 1, 'n': 3, 'o': 1}`"
      ]
    },
    {
      "cell_type": "markdown",
      "metadata": {
        "id": "xcHB0V3bIK4e"
      },
      "source": [
        "An aside...there's a shortcut! The `+=` operator\n",
        "\n",
        "```python\n",
        "out = out + 4\n",
        "\n",
        "# OR\n",
        "\n",
        "out += 4\n",
        "\n",
        "```"
      ]
    },
    {
      "cell_type": "code",
      "execution_count": 17,
      "metadata": {
        "id": "WuCphD9xIK4e"
      },
      "outputs": [],
      "source": [
        "# Remember to initiate any collections OUTSIDE of the loop. So we define dictionary={} before the for, not after\n",
        "def name_dictionary(name=\"thisdiva\"):\n",
        "  dictionary={}\n",
        "  for letter in name:\n",
        "    dictionary[letter]=name.count(letter)\n",
        "  return dictionary"
      ]
    },
    {
      "cell_type": "code",
      "source": [
        "#this is also the first time we're seeing the string.count function.\n",
        "#String should be the variable name you assigned to your string (in this case, in the input section)"
      ],
      "metadata": {
        "id": "rdKacBMgi96O"
      },
      "execution_count": 16,
      "outputs": []
    },
    {
      "cell_type": "code",
      "source": [
        "name_dictionary()"
      ],
      "metadata": {
        "colab": {
          "base_uri": "https://localhost:8080/"
        },
        "id": "vcMMepbbd2Gc",
        "outputId": "158c01d4-3459-448d-ca07-accaead0a81c"
      },
      "execution_count": 13,
      "outputs": [
        {
          "output_type": "execute_result",
          "data": {
            "text/plain": [
              "{'t': 1, 'h': 1, 'i': 2, 's': 1, 'd': 1, 'v': 1, 'a': 1}"
            ]
          },
          "metadata": {},
          "execution_count": 13
        }
      ]
    },
    {
      "cell_type": "code",
      "source": [
        "name_dictionary(\"hello\")"
      ],
      "metadata": {
        "colab": {
          "base_uri": "https://localhost:8080/"
        },
        "id": "-NnFw1pQd5ZI",
        "outputId": "92cc134c-7307-47d7-d95f-03a1d0d6c3e9"
      },
      "execution_count": 14,
      "outputs": [
        {
          "output_type": "execute_result",
          "data": {
            "text/plain": [
              "{'h': 1, 'e': 1, 'l': 2, 'o': 1}"
            ]
          },
          "metadata": {},
          "execution_count": 14
        }
      ]
    },
    {
      "cell_type": "code",
      "execution_count": 15,
      "metadata": {
        "id": "6lPsYyllIK4e",
        "colab": {
          "base_uri": "https://localhost:8080/"
        },
        "outputId": "903241e0-1c51-4e88-f3f9-632c8c100d3b"
      },
      "outputs": [
        {
          "output_type": "stream",
          "name": "stdout",
          "text": [
            "{'hello': 5, 'there': 6}\n"
          ]
        }
      ],
      "source": [
        "#also, remember the index function you use to add things to a dictionary\n",
        "my_dict= {\"hello\": 5}\n",
        "my_dict[\"there\"]= 6\n",
        "print (my_dict)"
      ]
    },
    {
      "cell_type": "markdown",
      "metadata": {
        "id": "8zQFmGlSIK4e"
      },
      "source": [
        "## `range`, `continue` and `break`"
      ]
    },
    {
      "cell_type": "markdown",
      "metadata": {
        "id": "qeOkrW29IK4e"
      },
      "source": [
        "### `range`\n",
        "<div class=\"alert alert-success\">\n",
        "<code>range</code> is an operator to create a range of numbers, that is often used with loops.\n",
        "</div>"
      ]
    },
    {
      "cell_type": "code",
      "execution_count": null,
      "metadata": {
        "id": "kqeKuvFDIK4h"
      },
      "outputs": [],
      "source": [
        "# for temp in [114, 115, 116, 117, 118]:\n",
        "for temp in range(114, 119):\n",
        "    print(temp)\n",
        "\n",
        "    if(temp > 115):\n",
        "        print('The tea is too hot!')"
      ]
    },
    {
      "cell_type": "markdown",
      "metadata": {
        "id": "nxjT9zYNIK4h"
      },
      "source": [
        "### `continue`"
      ]
    },
    {
      "cell_type": "markdown",
      "metadata": {
        "id": "DKBfDZSsIK4h"
      },
      "source": [
        "<div class=\"alert alert-success\">\n",
        "<code>continue</code> is a special operator to jump ahead to the next iteration of a loop.\n",
        "</div>"
      ]
    },
    {
      "cell_type": "code",
      "execution_count": null,
      "metadata": {
        "id": "6EVt_S7uIK4h",
        "outputId": "68cf75e6-bb5b-47f4-8d45-5e7f57177a25"
      },
      "outputs": [
        {
          "name": "stdout",
          "output_type": "stream",
          "text": [
            "1\n",
            "3\n",
            "5\n",
            "7\n",
            "9\n"
          ]
        }
      ],
      "source": [
        "for number in range(1, 11):\n",
        "    if number % 2 == 0:\n",
        "        continue  # Skip even numbers\n",
        "\n",
        "    print(number)"
      ]
    },
    {
      "cell_type": "markdown",
      "metadata": {
        "id": "v2WqmHyJIK4h"
      },
      "source": [
        "## `break`"
      ]
    },
    {
      "cell_type": "markdown",
      "metadata": {
        "id": "rLoA-togIK4h"
      },
      "source": [
        "<div class=\"alert alert-success\">\n",
        "<code>break</code> is a special operator to break out of a loop.\n",
        "</div>"
      ]
    },
    {
      "cell_type": "markdown",
      "metadata": {
        "id": "TIvC4qi4IK4h"
      },
      "source": [
        "### `break` examples"
      ]
    },
    {
      "cell_type": "code",
      "execution_count": null,
      "metadata": {
        "id": "hX_GCxZsIK4h",
        "outputId": "2f262b66-8bfe-4e03-dff0-c1895f6e2018"
      },
      "outputs": [
        {
          "name": "stdout",
          "output_type": "stream",
          "text": [
            "Found 8!\n"
          ]
        }
      ],
      "source": [
        "numbers = [4, 7, 10, 3, 8, 5]\n",
        "\n",
        "for num in numbers:\n",
        "    if num == 8:\n",
        "        print(\"Found 8!\")\n",
        "        break  # Stop the loop as soon as we find 8"
      ]
    },
    {
      "cell_type": "markdown",
      "metadata": {
        "id": "r56ynEAiIK4h"
      },
      "source": [
        "### Activity: `range`, `break`, `continue`\n",
        "\n",
        "Coming soon"
      ]
    },
    {
      "cell_type": "markdown",
      "metadata": {
        "id": "dp9V_pwnIK4h"
      },
      "source": [
        "## Code Style: Loops\n",
        "\n",
        "- `for`/`while` statement with a colon at the end on first line\n",
        "- all code within the loop inside a code block (indented)"
      ]
    },
    {
      "cell_type": "markdown",
      "metadata": {
        "id": "O2ctanLvIK4h"
      },
      "source": [
        "**Good Code Style**"
      ]
    },
    {
      "cell_type": "code",
      "execution_count": null,
      "metadata": {
        "id": "nX64z29uIK4h"
      },
      "outputs": [],
      "source": [
        "number = 5\n",
        "while number < 0:\n",
        "    print(number)\n",
        "    number = number + 1"
      ]
    },
    {
      "cell_type": "markdown",
      "metadata": {
        "id": "CgcCVTEEIK4i"
      },
      "source": [
        "**Code Style to Avoid**"
      ]
    },
    {
      "cell_type": "code",
      "execution_count": null,
      "metadata": {
        "id": "imAzLOJlIK4i"
      },
      "outputs": [],
      "source": [
        "number=-5\n",
        "while number<0:print(number);number=number+1 # avoid all on a single line"
      ]
    },
    {
      "cell_type": "markdown",
      "metadata": {
        "id": "UETgfrRuIK4i"
      },
      "source": [
        "### Activity: Additional Loops Practice\n",
        "\n",
        "Coming Soon"
      ]
    }
  ],
  "metadata": {
    "celltoolbar": "Slideshow",
    "kernelspec": {
      "display_name": "Python 3 (ipykernel)",
      "language": "python",
      "name": "python3"
    },
    "language_info": {
      "codemirror_mode": {
        "name": "ipython",
        "version": 3
      },
      "file_extension": ".py",
      "mimetype": "text/x-python",
      "name": "python",
      "nbconvert_exporter": "python",
      "pygments_lexer": "ipython3",
      "version": "3.11.8"
    },
    "rise": {
      "scroll": true
    },
    "colab": {
      "provenance": [],
      "include_colab_link": true
    }
  },
  "nbformat": 4,
  "nbformat_minor": 0
}