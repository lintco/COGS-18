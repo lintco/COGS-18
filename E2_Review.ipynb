{
  "cells": [
    {
      "cell_type": "markdown",
      "metadata": {
        "id": "view-in-github",
        "colab_type": "text"
      },
      "source": [
        "<a href=\"https://colab.research.google.com/github/lintco/COGS-18/blob/main/E2_Review.ipynb\" target=\"_parent\"><img src=\"https://colab.research.google.com/assets/colab-badge.svg\" alt=\"Open In Colab\"/></a>"
      ]
    },
    {
      "cell_type": "markdown",
      "metadata": {
        "id": "X0nt2xoIsko8"
      },
      "source": [
        "# Exam 2 Review\n",
        "\n",
        "[![Open In Colab](https://colab.research.google.com/assets/colab-badge.svg)](https://colab.research.google.com/github/COGS18/LectureNotes-COGS18/blob/main/E2-Review.ipynb)"
      ]
    },
    {
      "cell_type": "markdown",
      "metadata": {
        "id": "KmqSszc5sko9"
      },
      "source": [
        "**[ad] Food Insecurity Survey**\n",
        "![](https://github.com/COGS18/LectureNotes-COGS18/blob/main/img/SurveyInfoSlide.jpg?raw=1)"
      ]
    },
    {
      "cell_type": "markdown",
      "metadata": {
        "editable": true,
        "tags": [],
        "id": "E9AG3nF-sko9"
      },
      "source": [
        "**Q&A**\n",
        "\n",
        "> Q: are we going to use the terminals for the final ~project~ exam?  \n",
        "> A: Technically, you can do the final without using the terminal, but 1) you will need to know the provided bash commands for E2 and 2) being comfortable at the terminal will make doing your exam easier\n",
        "\n",
        "> Q: can you explain how to open a terminal in prairielearn again please?  \n",
        "> A: Yes - I will demo this again, but briefly here, if you're on PL and you open a workspace: File > New > Terminal will open it\n",
        "\n",
        "> Q: what is the point of an f string instead of just normal '' strings?  \n",
        "> A: Concatenating strings with `+` and using an fstring accomplish the same thing...but the spaces are more intuitive with f-strings. You can use either!\n",
        "\n",
        "> Q: will file paths be on the exam?  \n",
        "> A: Yup - you'll need to understand relative and absolute paths\n",
        "\n",
        "> Q: Will we have to create a project? (Maybe for the final we can have a choice to create a project)  \n",
        "> A: Historically, COGS 18 has had a project. Because of all the changes, I did remove it this quarter and everyone will do the exam. However, the exam will be a mini project....I'll just guide you rather than you doing a project independently. Apologies if you were excited to do a project!"
      ]
    },
    {
      "cell_type": "markdown",
      "metadata": {
        "editable": true,
        "tags": [],
        "id": "GCRR96Xjsko9"
      },
      "source": [
        "**Course Announcements**\n",
        "Due this week:\n",
        "- VQ12 due Wed night <- this is your last VQ!\n",
        "- CL7 due Friday\n",
        "- Take E2: 5/23-5/30\n",
        "\n",
        "Notes:\n",
        "- Practice E2 is available on PL - take multiple instances!\n",
        "- This week's oral exam focuses on classes"
      ]
    },
    {
      "cell_type": "markdown",
      "metadata": {
        "editable": true,
        "tags": [],
        "id": "WVjlMKI2sko-"
      },
      "source": [
        "## Day of Exam:\n",
        "\n",
        "What to Bring:\n",
        "- An ID\n",
        "- Your Brain\n",
        "- A writing utensil?\n",
        "\n",
        "Reminders:\n",
        "- You will put your belongings in a locker; leave time for this\n",
        "- You are not allowed to bring in water/coffee\n",
        "- They will provide scratch paper & a calculator\n",
        "- You'll need to sign into your PL\n",
        "\n",
        "**Location**: TTC-CBTF - **Applied Physics & Mathematics (AP&M) B349** (basement)\n",
        "\n",
        "**Exam Window**: 5/23-5/30 (Fri-Fri); 45min"
      ]
    },
    {
      "cell_type": "markdown",
      "metadata": {
        "editable": true,
        "tags": [],
        "id": "ROKM8uBJsko-"
      },
      "source": [
        "### Exam 2 Plan\n",
        "\n",
        "**Exam (15 Qs)**: (there were 25 on E1)\n",
        "- Q1 - blank jupyter notebook (no credit)\n",
        "- Q2-8 Multiple Choice (7)\n",
        "- Q9-13 \"Short Answer\" (line of code, matching, drop-down, parsons) (5)\n",
        "- Q14-16 Code Reading & Debugging (3)\n",
        "    \n",
        "**Topics Focused on (#Qs)**:\n",
        "1. Loops (5 | 1MC; 3 SA; 1 Debug)\n",
        "2. Methods (4 | 3 MC; 1 SA)\n",
        "3. Classes (4 | 1 MC; 1 SA; 2 Debug)\n",
        "4. Command Line, File Paths & Imports (2 | 2 MC)\n",
        "\n",
        "Note: This is the expected layout. Small changes to this could be made after the staff proofread/test-drive the exam."
      ]
    },
    {
      "cell_type": "markdown",
      "metadata": {
        "editable": true,
        "tags": [],
        "id": "F_OXzOmQsko-"
      },
      "source": [
        "## Topics from E1 (can't forget)\n",
        "\n",
        "- Variables\n",
        "- Operators\n",
        "- Functions\n",
        "- Conditionals"
      ]
    },
    {
      "cell_type": "markdown",
      "metadata": {
        "id": "Nc554_B-sko-"
      },
      "source": [
        "## E2 Topics"
      ]
    },
    {
      "cell_type": "markdown",
      "metadata": {
        "editable": true,
        "jp-MarkdownHeadingCollapsed": true,
        "tags": [],
        "id": "ynAkST3-sko-"
      },
      "source": [
        "### Loops\n",
        "\n",
        "Types:\n",
        "- `for` and `while`\n",
        "- `range`, `break`, `continue`"
      ]
    },
    {
      "cell_type": "markdown",
      "metadata": {
        "editable": true,
        "tags": [],
        "id": "5__ngTbWsko-"
      },
      "source": [
        "### Methods\n",
        "\n",
        "- list, string, and dictionary methods (need to know `.append()`; others will be explained)\n",
        "- in place vs not in place"
      ]
    },
    {
      "cell_type": "markdown",
      "metadata": {
        "editable": true,
        "tags": [],
        "id": "DeA5dDIHsko-"
      },
      "source": [
        "### Classes\n",
        "\n",
        "- `class`\n",
        "- class & instance attributes\n",
        "- methods\n",
        "- `self`\n",
        "- instance\n",
        "- accessing attributes\n",
        "- executing methods"
      ]
    },
    {
      "cell_type": "markdown",
      "metadata": {
        "editable": true,
        "tags": [],
        "id": "8lDVCZ1msko_"
      },
      "source": [
        "### Command Line, File Paths & Imports\n",
        "\n",
        "- shell commands: `pwd`, `ls`, `mkdir`, `touch`, `cd`, `mv`\n",
        "- absolute and relative file paths\n",
        "- `import` (`from` and `as`)"
      ]
    },
    {
      "cell_type": "markdown",
      "metadata": {
        "editable": true,
        "tags": [],
        "id": "wHDknb5Rsko_"
      },
      "source": [
        "## Questions\n",
        "\n",
        "What questions do you have!?"
      ]
    },
    {
      "cell_type": "markdown",
      "metadata": {
        "editable": true,
        "tags": [],
        "id": "M49PEnQ1sko_"
      },
      "source": [
        "## Practice\n",
        "\n",
        "These practice questions are NOT representative of the *typical* question on the exam, but **are representative of the more difficult questions on the exam**. Many students are feeling pretty good about MC & matching questions (and you've done lots of those on PL so far) and less confident when there's less structure. So, I figured if we did these together...we'd get everyone feeling a bit more confident!\n",
        "\n",
        "\n",
        "The form we'll use for today (we'll just keep using the same one....): [https://forms.gle/wf1dayq5fw8VNMPR9](https://forms.gle/wf1dayq5fw8VNMPR9)"
      ]
    },
    {
      "cell_type": "markdown",
      "metadata": {
        "editable": true,
        "tags": [],
        "id": "H4C1TOtLsko_"
      },
      "source": [
        "### Q1\n",
        "\n",
        "**Q1**. Fix the `StudyTracker` class below, so that it accomplishes the following:\n",
        "- by default sets `hours_studied` at 0, but allows the user to specify a different value when initializing an instance\n",
        "- has a method `add_hours` that increases the number of hours in the `hours` attribute by the input to the method\n",
        "- has a method `study_feedback` that returns a different method if you've studied less than 1 hour, less than 3 hours, or 3 hours or more. (Note: the strings do not need to be changed, but the conditional logic may)"
      ]
    },
    {
      "cell_type": "code",
      "execution_count": 1,
      "metadata": {
        "id": "9l2aM2uFsko_"
      },
      "outputs": [],
      "source": [
        "class StudyTracker:\n",
        "    def __init__(self, hours_studied=0):\n",
        "        self.hours=hours_studied\n",
        "\n",
        "    def add_hours(self, additional_hours):\n",
        "        self.hours += additional_hours\n",
        "\n",
        "    def study_feedback(self):\n",
        "        if self.hours <= 1:\n",
        "            return \"Getting started is the hardest part—keep going!\"\n",
        "        elif self.hours <= 3:\n",
        "            return \"Nice! You're building solid study habits.\"\n",
        "        else:\n",
        "            return \"Awesome dedication! You're setting yourself up for success!\""
      ]
    },
    {
      "cell_type": "code",
      "execution_count": 2,
      "metadata": {
        "id": "wgsM7wWesko_"
      },
      "outputs": [],
      "source": [
        "# TEST IT OUT HERE\n",
        "Person=StudyTracker(hours_studied=3)"
      ]
    },
    {
      "cell_type": "code",
      "source": [
        "Person.hours"
      ],
      "metadata": {
        "colab": {
          "base_uri": "https://localhost:8080/"
        },
        "id": "_ysHAdsAvWBt",
        "outputId": "934d0956-e481-4b54-89fe-f6b73978b51b"
      },
      "execution_count": 4,
      "outputs": [
        {
          "output_type": "execute_result",
          "data": {
            "text/plain": [
              "3"
            ]
          },
          "metadata": {},
          "execution_count": 4
        }
      ]
    },
    {
      "cell_type": "code",
      "source": [
        "Person.add_hours(4)"
      ],
      "metadata": {
        "id": "iZefMzewveCM"
      },
      "execution_count": 5,
      "outputs": []
    },
    {
      "cell_type": "code",
      "source": [
        "Person.hours"
      ],
      "metadata": {
        "colab": {
          "base_uri": "https://localhost:8080/"
        },
        "id": "LnpZMm0rvtHn",
        "outputId": "33bfecbb-76b5-4a26-d448-0d6888da494f"
      },
      "execution_count": 6,
      "outputs": [
        {
          "output_type": "execute_result",
          "data": {
            "text/plain": [
              "7"
            ]
          },
          "metadata": {},
          "execution_count": 6
        }
      ]
    },
    {
      "cell_type": "code",
      "source": [
        "Person.study_feedback()"
      ],
      "metadata": {
        "colab": {
          "base_uri": "https://localhost:8080/",
          "height": 35
        },
        "id": "00_RgkBvvxvI",
        "outputId": "8eab7a89-ddcc-4ec6-af20-a1b3460c4846"
      },
      "execution_count": 7,
      "outputs": [
        {
          "output_type": "execute_result",
          "data": {
            "text/plain": [
              "\"Awesome dedication! You're setting yourself up for success!\""
            ],
            "application/vnd.google.colaboratory.intrinsic+json": {
              "type": "string"
            }
          },
          "metadata": {},
          "execution_count": 7
        }
      ]
    },
    {
      "cell_type": "markdown",
      "metadata": {
        "id": "JsQRYnrgsko_"
      },
      "source": [
        "Concepts in Q1:\n",
        "- classes\n",
        "- debugging"
      ]
    },
    {
      "cell_type": "markdown",
      "metadata": {
        "editable": true,
        "tags": [],
        "id": "cYEckIyzsko_"
      },
      "source": [
        "### Q2\n",
        "\n",
        "**Q2**.   Below is an attempt at implementing a <code>CoffeeTracker</code> class. Its instance attributes are all working as intended...but <code>buy_coffee</code> is not quite there. Fix the <code>buy_coffee</code> method so that when it takes in a list of <code>prices</code>, it will update the <code>total_spent</code> attribute to:\n",
        "- include the sum of all prices in <code>prices</code>\n",
        "- update <code>total_coffees</code> attribute to count how many drinks were in the <code>prices</code> list\n",
        "- If the number of <code>total_coffees</code> is more than zero, the <code>average_price</code> attribute will be updated, calculating the value in the <code>total_spent</code> attribute divided by the value in the <code>total_coffees</code> attribute. The <code>print</code> statements at the end do NOT need to be changed.\n"
      ]
    },
    {
      "cell_type": "code",
      "execution_count": 20,
      "metadata": {
        "id": "PoENtfQ8skpA"
      },
      "outputs": [],
      "source": [
        "class CoffeeTracker:\n",
        "    def __init__(self, name):\n",
        "        self.name = name\n",
        "        self.total_spent = 0.0\n",
        "        self.total_coffees = 0\n",
        "        self.average_price = 0.0\n",
        "\n",
        "    def buy_coffee(self, prices):\n",
        "        for price in prices:\n",
        "          self.total_spent= price + self.total_spent\n",
        "        self.total_coffees= self.total_coffees + len(prices)\n",
        "\n",
        "        if self.total_coffees > 0:\n",
        "            self.average_price = self.total_spent / self.total_coffees\n",
        "\n",
        "        print(f\"{self.name} bought {self.total_coffees} coffees.\")\n",
        "        print(f\"Average price per coffee: ${self.average_price:.2f}\")\n"
      ]
    },
    {
      "cell_type": "code",
      "execution_count": 21,
      "metadata": {
        "editable": true,
        "tags": [],
        "id": "_-FuRA5qskpA"
      },
      "outputs": [],
      "source": [
        "# TEST OUT HERE\n",
        "new_tracker=CoffeeTracker(\"me\")"
      ]
    },
    {
      "cell_type": "code",
      "source": [
        "new_tracker.name"
      ],
      "metadata": {
        "colab": {
          "base_uri": "https://localhost:8080/",
          "height": 35
        },
        "id": "enEQPYTq1lSD",
        "outputId": "4e59f8a8-9956-486c-c721-2cd70d975c7d"
      },
      "execution_count": 22,
      "outputs": [
        {
          "output_type": "execute_result",
          "data": {
            "text/plain": [
              "'me'"
            ],
            "application/vnd.google.colaboratory.intrinsic+json": {
              "type": "string"
            }
          },
          "metadata": {},
          "execution_count": 22
        }
      ]
    },
    {
      "cell_type": "code",
      "source": [
        "new_tracker.buy_coffee([3,5,7])"
      ],
      "metadata": {
        "colab": {
          "base_uri": "https://localhost:8080/"
        },
        "id": "mkV4aqfn1rTs",
        "outputId": "b07649c4-d10e-4e30-de0f-0b3ff8c51dc2"
      },
      "execution_count": 23,
      "outputs": [
        {
          "output_type": "stream",
          "name": "stdout",
          "text": [
            "me bought 3 coffees.\n",
            "Average price per coffee: $5.00\n"
          ]
        }
      ]
    },
    {
      "cell_type": "markdown",
      "metadata": {
        "id": "BxQN-CQYskpA"
      },
      "source": [
        "Concepts in Q2:\n",
        "- Classes\n",
        "- Debugging\n",
        "- loops\n",
        "- conditionals"
      ]
    },
    {
      "cell_type": "markdown",
      "metadata": {
        "editable": true,
        "tags": [],
        "id": "_GCUITbGskpA"
      },
      "source": [
        "### Q3\n",
        "\n",
        "**Q3a**. Assume a fictitious `class` `Exam2` has been defined. It contains:\n",
        "- a class attribute `course` which stores the string 'COGS 18'\n",
        "- two instance attributes storing the `name` of a student and the `score` that they earned\n",
        "- a single `method` `calculate_percentage` that calculates the student's percentage out of 100 by dividng `score` by 12.5\n",
        "\n",
        "How would you create an instance `my_exam2` of this object? How would you access the `name` attribute? How would you execute the `calculate_percentage` method?"
      ]
    },
    {
      "cell_type": "code",
      "execution_count": 6,
      "metadata": {
        "scrolled": true,
        "id": "rmsXihWyskpA"
      },
      "outputs": [],
      "source": [
        "# YOUR ANSWER HERE\n",
        "class Exam2:\n",
        "  course=\"COGS 18\"\n",
        "\n",
        "  def __init__(self, name, score):\n",
        "    self.name=name\n",
        "    self.score=score\n",
        "\n",
        "  def calculate_percentage(self):\n",
        "    percentage=self.score/12.5\n",
        "    percentage=percentage*100\n",
        "    return percentage\n"
      ]
    },
    {
      "cell_type": "code",
      "source": [
        "my_exam2=Exam2(\"Ellie\", 12.5)"
      ],
      "metadata": {
        "id": "QkHjrSrvYBgY"
      },
      "execution_count": 7,
      "outputs": []
    },
    {
      "cell_type": "code",
      "source": [
        "my_exam2.name"
      ],
      "metadata": {
        "colab": {
          "base_uri": "https://localhost:8080/",
          "height": 35
        },
        "id": "-pQ4cz-VYSvv",
        "outputId": "96181adf-dcca-490e-c62b-f9b8f301cde1"
      },
      "execution_count": 8,
      "outputs": [
        {
          "output_type": "execute_result",
          "data": {
            "text/plain": [
              "'Ellie'"
            ],
            "application/vnd.google.colaboratory.intrinsic+json": {
              "type": "string"
            }
          },
          "metadata": {},
          "execution_count": 8
        }
      ]
    },
    {
      "cell_type": "code",
      "source": [
        "my_exam2.score"
      ],
      "metadata": {
        "colab": {
          "base_uri": "https://localhost:8080/"
        },
        "id": "VsB9tlZgYWLy",
        "outputId": "c4bd9ef2-d540-4a98-bc42-496264097f48"
      },
      "execution_count": 9,
      "outputs": [
        {
          "output_type": "execute_result",
          "data": {
            "text/plain": [
              "12.5"
            ]
          },
          "metadata": {},
          "execution_count": 9
        }
      ]
    },
    {
      "cell_type": "code",
      "source": [
        "my_exam2.calculate_percentage()"
      ],
      "metadata": {
        "colab": {
          "base_uri": "https://localhost:8080/"
        },
        "id": "98zG6sYaYYoj",
        "outputId": "4541b04c-ab5c-4077-e092-8df70692b34c"
      },
      "execution_count": 10,
      "outputs": [
        {
          "output_type": "execute_result",
          "data": {
            "text/plain": [
              "100.0"
            ]
          },
          "metadata": {},
          "execution_count": 10
        }
      ]
    },
    {
      "cell_type": "markdown",
      "metadata": {
        "id": "bZ1rDo0HskpA"
      },
      "source": [
        "**Q3b** Time permitting: Try to write the code for the class described above. Note: You will NOT have to write a whole class from scratch on the exam."
      ]
    },
    {
      "cell_type": "code",
      "execution_count": null,
      "metadata": {
        "id": "qM5CUh4lskpA"
      },
      "outputs": [],
      "source": [
        "## YOUR CODE HERE"
      ]
    }
  ],
  "metadata": {
    "celltoolbar": "Slideshow",
    "kernelspec": {
      "display_name": "Python 3 (ipykernel)",
      "language": "python",
      "name": "python3"
    },
    "language_info": {
      "codemirror_mode": {
        "name": "ipython",
        "version": 3
      },
      "file_extension": ".py",
      "mimetype": "text/x-python",
      "name": "python",
      "nbconvert_exporter": "python",
      "pygments_lexer": "ipython3",
      "version": "3.11.8"
    },
    "rise": {
      "scroll": true
    },
    "colab": {
      "provenance": [],
      "include_colab_link": true
    }
  },
  "nbformat": 4,
  "nbformat_minor": 0
}