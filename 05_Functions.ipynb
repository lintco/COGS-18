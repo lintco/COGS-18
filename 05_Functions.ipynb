{
  "cells": [
    {
      "cell_type": "markdown",
      "metadata": {
        "editable": true,
        "tags": [],
        "id": "fj2BIIw6UbMS"
      },
      "source": [
        "# Functions\n",
        "\n",
        "[![Open In Colab](https://colab.research.google.com/assets/colab-badge.svg)](https://colab.research.google.com/github/COGS18/LectureNotes-COGS18/blob/main/05-Functions.ipynb)\n"
      ]
    },
    {
      "cell_type": "markdown",
      "source": [
        "#Functions\n",
        "defining a function\n",
        "- def\n",
        "\n",
        "- return\n",
        "\n",
        "- default values\n",
        "\n",
        "- keyword vs. positional arguments\n",
        "\n",
        "executing a function\n",
        "\n",
        "- parameters"
      ],
      "metadata": {
        "id": "sEuHIFWckWsr"
      }
    },
    {
      "cell_type": "markdown",
      "metadata": {
        "editable": true,
        "tags": [],
        "id": "X9y7qozTUbMT"
      },
      "source": [
        "## Vocab\n",
        "\n",
        "- **Define/create/make** a function: To set up and write the instructions for a function.\n",
        "- **Execute/call/use** a function: To actually use the pre-defined function.\n",
        "\n",
        "- **Input/parameter/argument**: A variable defined by the user that is put/passed in between the parantheses `()` that comes after the function name.  \n",
        "- **Output**: The variable that is `return`ed to the user after the function is executed."
      ]
    },
    {
      "cell_type": "markdown",
      "metadata": {
        "id": "YlJMh5T3UbMU"
      },
      "source": [
        "## Functions\n",
        "\n",
        "<div class=\"alert alert-success\">\n",
        "A function is a re-usable piece of code that performs operations on a specified set of variables, and returns the result.\n",
        "</div>"
      ]
    },
    {
      "cell_type": "markdown",
      "metadata": {
        "id": "yqOusFATUbMU"
      },
      "source": [
        "![cheeseburger](https://github.com/COGS18/LectureNotes-COGS18/blob/main/img/cheeseburger.png?raw=1)"
      ]
    },
    {
      "cell_type": "markdown",
      "source": [
        "# Functions for Modular Programming\n",
        "- Functions allow us to flexibly re-use pieces of code\n",
        "\n",
        "- Each function is independent of every other function, and other pieces of code\n",
        "\n",
        "- Functions are the building blocks of programs, and can be flexibly combined and executed in specified orders\n",
        "\n",
        " - This allows us to build up arbitrarily complex, well-organized programs"
      ],
      "metadata": {
        "id": "MgObKX2Nk6EV"
      }
    },
    {
      "cell_type": "code",
      "source": [
        "# you've seen functions before\n",
        "# here we use the type() function\n",
        "my_var = 3\n",
        "type(my_var)"
      ],
      "metadata": {
        "colab": {
          "base_uri": "https://localhost:8080/"
        },
        "id": "F1BzEGRalIBj",
        "outputId": "cdee2bf2-d7da-411f-a57c-b0e9e77aa64e"
      },
      "execution_count": 1,
      "outputs": [
        {
          "output_type": "execute_result",
          "data": {
            "text/plain": [
              "int"
            ]
          },
          "metadata": {},
          "execution_count": 1
        }
      ]
    },
    {
      "cell_type": "code",
      "source": [
        "# the function print() doesn't depend on type()\n",
        "# but they can both be used on the same variable\n",
        "print(my_var)"
      ],
      "metadata": {
        "colab": {
          "base_uri": "https://localhost:8080/"
        },
        "id": "jlxd8NR9lQwY",
        "outputId": "c82142e3-0f12-42d5-a959-2d4f704bdee4"
      },
      "execution_count": 2,
      "outputs": [
        {
          "output_type": "stream",
          "name": "stdout",
          "text": [
            "3\n"
          ]
        }
      ]
    },
    {
      "cell_type": "markdown",
      "metadata": {
        "id": "GEeXKJLTUbMU"
      },
      "source": [
        "## Function Example\n",
        "\n",
        "When you use `def`, **you are defining a function**.\n",
        "You are metaphorically writing the instructions for how to make the cheeseburger."
      ]
    },
    {
      "cell_type": "code",
      "execution_count": 17,
      "metadata": {
        "id": "auGiV5WbUbMU"
      },
      "outputs": [],
      "source": [
        "# define a function: double_value\n",
        "# Notice that the parameter `num` is not explicitly defined with an =\n",
        "# __This is because it will be defined later by the user when they execute the function.__\n",
        "\n",
        "def double_value(num):\n",
        "\n",
        "    # do some operation #indented because it is part of the function defintion\n",
        "    # if you don't want it to be, you have to align it to the left\n",
        "    doubled = num + num\n",
        "\n",
        "    # return output from function\n",
        "    return doubled"
      ]
    },
    {
      "cell_type": "code",
      "execution_count": 18,
      "metadata": {
        "colab": {
          "base_uri": "https://localhost:8080/"
        },
        "id": "svzBHSTNUbMV",
        "outputId": "2541cfc4-fd81-431f-f6b5-d2671e09baeb"
      },
      "outputs": [
        {
          "output_type": "execute_result",
          "data": {
            "text/plain": [
              "4"
            ]
          },
          "metadata": {},
          "execution_count": 18
        }
      ],
      "source": [
        "# excecute a function by calling the function's name\n",
        "# and defining the parameter within the parentheses\n",
        "double_value(num = 2)"
      ]
    },
    {
      "cell_type": "code",
      "execution_count": 5,
      "metadata": {
        "colab": {
          "base_uri": "https://localhost:8080/"
        },
        "id": "hJ2LGFiBUbMV",
        "outputId": "60de7647-b85b-4284-bca4-bb3351cef0ca"
      },
      "outputs": [
        {
          "output_type": "execute_result",
          "data": {
            "text/plain": [
              "4"
            ]
          },
          "metadata": {},
          "execution_count": 5
        }
      ],
      "source": [
        "# equivalent function call\n",
        "# Here the parameter `num` is defined without\n",
        "# explicitly specifying the name of the parameter\n",
        "double_value(2)"
      ]
    },
    {
      "cell_type": "markdown",
      "metadata": {
        "id": "PF2FrLMUUbMV"
      },
      "source": [
        "## Function Properties"
      ]
    },
    {
      "cell_type": "markdown",
      "metadata": {
        "id": "xDnLmcxWUbMV"
      },
      "source": [
        "- Functions are defined using `def` followed by the name of the function, parentheses `()`, parameters within the parentheses, and then `:` after the parentheses, which opens a code-block that comprises the function\n",
        "    - Running code with a `def` block *defines* the function (but does not *execute* it)"
      ]
    },
    {
      "cell_type": "markdown",
      "metadata": {
        "id": "rNG5ir2CUbMW"
      },
      "source": [
        "- Functions are *executed* with the name of the function and parentheses - `()` without `def` and `:`\n",
        "    - This is when the code inside a function is actually run"
      ]
    },
    {
      "cell_type": "markdown",
      "metadata": {
        "id": "uqsvh1q8UbMW"
      },
      "source": [
        "- Inside a function, there is code that performs operations on the available variables"
      ]
    },
    {
      "cell_type": "markdown",
      "metadata": {
        "id": "gfCO-wy_UbMW"
      },
      "source": [
        "- Functions use the special operator `return` to exit the function, passing out any specified variables"
      ]
    },
    {
      "cell_type": "markdown",
      "metadata": {
        "id": "QReLny3rUbMW"
      },
      "source": [
        "- When you use a function, you can assign the output (whatever is `return`ed) to a variable"
      ]
    },
    {
      "cell_type": "markdown",
      "metadata": {
        "collapsed": true,
        "editable": true,
        "jupyter": {
          "outputs_hidden": true
        },
        "tags": [],
        "id": "Fvb3kvKgUbMW"
      },
      "source": [
        "## Activity: Functions\n",
        "\n",
        "Write a function `greet` that takes the parameter `name`. Inside the function, concatenate 'Hello', the person's name, and 'Good morning!\". Assign this to `output` and return `output`.\n",
        "\n",
        "\n",
        "Complete the above and enter your code in this Google Form ([https://forms.gle/MfiKe5gPW9AeZ1PP6](https://forms.gle/MfiKe5gPW9AeZ1PP6)) and then click submit.\n",
        "\n",
        "You are encouraged to:\n",
        "1. Talk with your neighbor\n",
        "2. Try the questions out in your notebok to check your understanding\n",
        "\n",
        "If you have questions, I'm happy to come over as we work on this!\n",
        "\n",
        "\n"
      ]
    },
    {
      "cell_type": "code",
      "source": [
        "# This is the version without \"Person\" as a default\n",
        "def greet(name):\n",
        "  output= \"Hello \" + name + \" Good morning!\"\n",
        "  return output"
      ],
      "metadata": {
        "id": "ScKDSFwDsjQ5"
      },
      "execution_count": 69,
      "outputs": []
    },
    {
      "cell_type": "code",
      "source": [
        "greet(\"Rose\")"
      ],
      "metadata": {
        "colab": {
          "base_uri": "https://localhost:8080/",
          "height": 35
        },
        "id": "4KrTVr7GszvE",
        "outputId": "09dfbd37-8a1b-4a52-c81b-62bcc9f3aaa5"
      },
      "execution_count": 70,
      "outputs": [
        {
          "output_type": "execute_result",
          "data": {
            "text/plain": [
              "'Hello Rose Good morning!'"
            ],
            "application/vnd.google.colaboratory.intrinsic+json": {
              "type": "string"
            }
          },
          "metadata": {},
          "execution_count": 70
        }
      ]
    },
    {
      "cell_type": "code",
      "execution_count": 66,
      "metadata": {
        "editable": true,
        "tags": [],
        "id": "H6WhDWjAUbMW"
      },
      "outputs": [],
      "source": [
        "## YOUR CODE HERE # I added \"Person\" as a default\n",
        "def greet(name = \"Person\"):\n",
        "  output = \"Hello \" + name + \" Good morning!\"\n",
        "  return output"
      ]
    },
    {
      "cell_type": "code",
      "execution_count": 71,
      "metadata": {
        "editable": true,
        "tags": [],
        "colab": {
          "base_uri": "https://localhost:8080/",
          "height": 35
        },
        "id": "e8iI74R6UbMW",
        "outputId": "c8931d85-1df6-47dc-9cc9-50fea8d827c8"
      },
      "outputs": [
        {
          "output_type": "execute_result",
          "data": {
            "text/plain": [
              "'Hello Rose Good morning!'"
            ],
            "application/vnd.google.colaboratory.intrinsic+json": {
              "type": "string"
            }
          },
          "metadata": {},
          "execution_count": 71
        }
      ],
      "source": [
        "# TEST YOUR FUNCTION HERE\n",
        "greet(\"Rose\")"
      ]
    },
    {
      "cell_type": "code",
      "source": [
        "greet()"
      ],
      "metadata": {
        "colab": {
          "base_uri": "https://localhost:8080/",
          "height": 35
        },
        "id": "_U6pI24UuFYS",
        "outputId": "6e876fe3-919c-470b-c135-51c791b9afc4"
      },
      "execution_count": 68,
      "outputs": [
        {
          "output_type": "execute_result",
          "data": {
            "text/plain": [
              "'Hello Person Good morning!'"
            ],
            "application/vnd.google.colaboratory.intrinsic+json": {
              "type": "string"
            }
          },
          "metadata": {},
          "execution_count": 68
        }
      ]
    },
    {
      "cell_type": "markdown",
      "source": [],
      "metadata": {
        "id": "WHLbkQXEvuay"
      }
    },
    {
      "cell_type": "markdown",
      "source": [
        "___remember that if your input is going to be a string, you need to use quotation marks!!!___"
      ],
      "metadata": {
        "id": "hqy3Qdf2tOCz"
      }
    },
    {
      "cell_type": "markdown",
      "metadata": {
        "editable": true,
        "tags": [],
        "id": "K3iB6Vk2UbMW"
      },
      "source": [
        "Let's also discuss how you may use ChatGPT for this question..."
      ]
    },
    {
      "cell_type": "code",
      "source": [
        "def convert_to_f(num):\n",
        "  Fahrenheit = (num * (9/5))+32\n",
        "  return Fahrenheit"
      ],
      "metadata": {
        "id": "M3SnU9PixOeC"
      },
      "execution_count": 76,
      "outputs": []
    },
    {
      "cell_type": "code",
      "source": [
        "convert_to_f( 0 )"
      ],
      "metadata": {
        "colab": {
          "base_uri": "https://localhost:8080/"
        },
        "id": "JEFsLEwUx3Me",
        "outputId": "2371a602-dd50-48d4-ac30-b94cb9d3e7c7"
      },
      "execution_count": 77,
      "outputs": [
        {
          "output_type": "execute_result",
          "data": {
            "text/plain": [
              "32.0"
            ]
          },
          "metadata": {},
          "execution_count": 77
        }
      ]
    },
    {
      "cell_type": "markdown",
      "metadata": {
        "editable": true,
        "tags": [],
        "id": "CQ4fa5FmUbMW"
      },
      "source": [
        "More notes coming soon..."
      ]
    }
  ],
  "metadata": {
    "celltoolbar": "Slideshow",
    "kernelspec": {
      "display_name": "Python 3 (ipykernel)",
      "language": "python",
      "name": "python3"
    },
    "language_info": {
      "codemirror_mode": {
        "name": "ipython",
        "version": 3
      },
      "file_extension": ".py",
      "mimetype": "text/x-python",
      "name": "python",
      "nbconvert_exporter": "python",
      "pygments_lexer": "ipython3",
      "version": "3.11.8"
    },
    "rise": {
      "scroll": true
    },
    "colab": {
      "provenance": []
    }
  },
  "nbformat": 4,
  "nbformat_minor": 0
}