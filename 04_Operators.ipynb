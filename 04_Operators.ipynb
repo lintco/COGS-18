{
  "cells": [
    {
      "cell_type": "markdown",
      "metadata": {
        "id": "view-in-github",
        "colab_type": "text"
      },
      "source": [
        "<a href=\"https://colab.research.google.com/github/lintco/COGS-18/blob/main/04_Operators.ipynb\" target=\"_parent\"><img src=\"https://colab.research.google.com/assets/colab-badge.svg\" alt=\"Open In Colab\"/></a>"
      ]
    },
    {
      "cell_type": "markdown",
      "metadata": {
        "editable": true,
        "tags": [],
        "id": "whhLlBjJ-42S"
      },
      "source": [
        "**Q&A**\n",
        "\n",
        "> Q: are booleans just `True`/`False`?  \n",
        "> A: Yes! It may (at this point) seem silly to have a whole variable type with only two possible values as options...but we'll quickly see how helpful these are when programming!\n",
        "\n",
        "> Q: wtf is a party cup???  \n",
        "> A: It's a plastic cup that tends to be red that people often give out at parties for their guests to drink in. It'salso known as a red solo cup. (There's a whole country song about them.) They were pervasive when I was in college...but I'm not realizing (as a few people asked this) that they may not be anymore...things you don't think of when you come up with these metaphors! You can just think of them as a plastic cup.\n",
        "\n",
        "> Q: Is Python similar to R?  \n",
        "> A: In many ways, yes! I often say that nearly anything you can do in R you can do in Python and vice-versa. But, the goals behind the programming languages are different. R was developed by statisticians for statisticians (originally) so it thrives at interacting with, analyzing and visualizing data (but is capable beyond that)! Python was developed as a general-programming language, so while it also has the capability to interact with data, it's not strictly designed for that. (For example, the DataFrame object in R is a first-class citizen, but python does not natively have any objects like DataFrames.)\n",
        "\n",
        "> Q: Are the exams throughout the quarter going to be digital, on our computer, or will they be on paper testing us conceptually? Excited for this course!  \n",
        "> A: They will be on a computer, taken at the TTC-CBTF (in AP&M B349...that's in the basement). They will focus on concepts, code reading, and code debugging. You will not be expected to write a whole bunch of code from scratch (as you won't have access to ChatGPT/your notes). See more discussion here: https://cogs18.github.io/assets/intro/syllabus.html#exams-38\n",
        "\n",
        "> Q: Are there any websites where we can practice coding projects and visually see our work being produced?  \n",
        "> A: One great place to visualize intro-level python code is [https://pythontutor.com/](https://pythontutor.com/), developed by our very own Philip Guo!\n",
        "\n",
        "> Q: Will we be learning more about white space  \n",
        "> A: Yes! A bit today and much more as we get into functions.\n",
        "\n",
        "> Q: are there other variable types we did not cover?  \n",
        "> A: Yes! There are many. We'll be introducing a few additional types very soon (lists, tuples, dictionaries) and others in a few weeks (arrays, DataFrames). We'll also discuss how to create our *own* \"types\" of varibles in week 7/8. *However*, while we'll cover the main variable types there are many we won't cover in this class that are beyond the scope of an intro-level course.\n",
        "\n",
        "> Q: when it comes to the headings does the number of # matter?  \n",
        "> A: That just controls the size of the header. An H1 (#) will be bigger than an H2 (##) header, for example.\n",
        "\n",
        "> Q: do we need assignment names when creating a string because the hw made it seem like we don't need to assign the string to anything?  \n",
        "> A: Any time you want to store a value for use later, it needs to be assigned to a variable. However, the value on its own can exist...it just can't be referenced later.\n",
        "\n",
        "> Q: i didnt quite understand what assert was   \n",
        "> A: An `assert` statement is something we'll put in Jupyter Notebooks for you to help let you know you're on the right track with a question. The way they work is that whatever comes *after* the word `assert` is something we expect to be `True`. If that's the case, when you run the `assert` cell, you should get no output...or, as we say, it will \"pass silently\". However, if your code is not behaving as we expect, it would give you an assertion error, letting you know that what we expected to be true is not true....encouraging you to revisit your code and try again. (These will also be discussed in lab this week, so encouraging attendance.)\n"
      ]
    },
    {
      "cell_type": "markdown",
      "metadata": {
        "editable": true,
        "tags": [],
        "id": "9Tn6kJkj-42U"
      },
      "source": [
        "**Course Announcements**\n",
        "\n",
        "Due this week:\n",
        "- **VQ3** due Wednesday\n",
        "- **CL1** due Friday (labs start tomorrow!)\n",
        "- Pre-course assessments (two surveys) due Sunday\n",
        "\n",
        "Notes:\n",
        "- Discuss: PL order and question variants\n",
        "- A1 has been released (discuss: notebook, LLM focus)\n",
        "- Office Hours listed on Canvas Homepage\n",
        "- Extra Help on Tues 3-4"
      ]
    },
    {
      "cell_type": "markdown",
      "metadata": {
        "editable": true,
        "tags": [],
        "id": "fDEp9ZB5-42U"
      },
      "source": [
        "# Operators\n",
        "\n",
        "[![Open In Colab](https://colab.research.google.com/assets/colab-badge.svg)](https://colab.research.google.com/github/COGS18/LectureNotes-COGS18/blob/main/04-Operators.ipynb)\n",
        "\n",
        "- assignment\n",
        "- math\n",
        "- logic\n",
        "- comparison\n",
        "- membership"
      ]
    },
    {
      "cell_type": "markdown",
      "metadata": {
        "editable": true,
        "tags": [],
        "id": "Ss5XtayJ-42U"
      },
      "source": [
        "<div class=\"alert alert-success\">\n",
        "Operators are special symbols in Python that carry out arithmetic or logical computation.\n",
        "</div>"
      ]
    },
    {
      "cell_type": "markdown",
      "metadata": {
        "editable": true,
        "tags": [],
        "id": "ltqsuiN6-42U"
      },
      "source": [
        "## Assignment Operator"
      ]
    },
    {
      "cell_type": "markdown",
      "source": [
        "brackets indicate order\n",
        "\n",
        "immutable_string='help'\n",
        "\n",
        "immutable_string[4]\n",
        "\n",
        "immutable_string[4] cannot be assigned\n",
        "\n",
        "so immutable_string[4] would not work\n",
        "\n"
      ],
      "metadata": {
        "id": "r0OqH7cCIjgY"
      }
    },
    {
      "cell_type": "code",
      "source": [
        "immutable_string='help'\n",
        "immutable_string[3]"
      ],
      "metadata": {
        "id": "oyXKEcEfJPJd",
        "outputId": "3f0271a5-aec4-4236-a93d-9e0d86dfe497",
        "colab": {
          "base_uri": "https://localhost:8080/",
          "height": 35
        }
      },
      "execution_count": null,
      "outputs": [
        {
          "output_type": "execute_result",
          "data": {
            "text/plain": [
              "'p'"
            ],
            "application/vnd.google.colaboratory.intrinsic+json": {
              "type": "string"
            }
          },
          "metadata": {},
          "execution_count": 4
        }
      ]
    },
    {
      "cell_type": "code",
      "source": [
        "immutable_string[3]='h'\n",
        "\n",
        "'''/'str/' object does not support item assignment'''"
      ],
      "metadata": {
        "id": "9GVUzkpkKZA6",
        "outputId": "653b8260-0988-4ab5-f28b-9f83ece5d286",
        "colab": {
          "base_uri": "https://localhost:8080/",
          "height": 180
        }
      },
      "execution_count": null,
      "outputs": [
        {
          "output_type": "error",
          "ename": "TypeError",
          "evalue": "'str' object does not support item assignment",
          "traceback": [
            "\u001b[0;31m---------------------------------------------------------------------------\u001b[0m",
            "\u001b[0;31mTypeError\u001b[0m                                 Traceback (most recent call last)",
            "\u001b[0;32m<ipython-input-6-19fa320f7cd9>\u001b[0m in \u001b[0;36m<cell line: 0>\u001b[0;34m()\u001b[0m\n\u001b[0;32m----> 1\u001b[0;31m \u001b[0mimmutable_string\u001b[0m\u001b[0;34m[\u001b[0m\u001b[0;36m3\u001b[0m\u001b[0;34m]\u001b[0m\u001b[0;34m=\u001b[0m\u001b[0;34m'h'\u001b[0m\u001b[0;34m\u001b[0m\u001b[0;34m\u001b[0m\u001b[0m\n\u001b[0m\u001b[1;32m      2\u001b[0m \u001b[0;34m\u001b[0m\u001b[0m\n\u001b[1;32m      3\u001b[0m \u001b[0;34m'''/'str/' object does not support item assignment'''\u001b[0m\u001b[0;34m\u001b[0m\u001b[0;34m\u001b[0m\u001b[0m\n",
            "\u001b[0;31mTypeError\u001b[0m: 'str' object does not support item assignment"
          ]
        }
      ]
    },
    {
      "cell_type": "markdown",
      "metadata": {
        "editable": true,
        "tags": [],
        "id": "wNeheVBD-42U"
      },
      "source": [
        "<div class=\"alert alert-success\">\n",
        "Python uses <code>=</code> for assignment.\n",
        "</div>"
      ]
    },
    {
      "cell_type": "code",
      "execution_count": null,
      "metadata": {
        "editable": true,
        "tags": [],
        "id": "2-WTDFiD-42V"
      },
      "outputs": [],
      "source": [
        "my_var = 1"
      ]
    },
    {
      "cell_type": "markdown",
      "metadata": {
        "editable": true,
        "tags": [],
        "id": "mwy9G7Np-42V"
      },
      "source": [
        "## Math Operators\n",
        "\n",
        "\n",
        "- `+`, `-`, `*`, `/` for addition, subtraction, multiplication, & division\n",
        "- `**` for exponentiation & `%` for modulus (remainder)\n",
        "- `//` for floor division (integer division)\n",
        "\n",
        "basic arithmetic may be on exams"
      ]
    },
    {
      "cell_type": "markdown",
      "metadata": {
        "editable": true,
        "tags": [],
        "id": "M-x5udlO-42V"
      },
      "source": [
        "<div class=\"alert alert-success\">\n",
        "Python uses the <b>mathematical operators</b> <code>+</code>, <code>-</code>, <code>*</code>, <code>/</code> for 'sum', 'substract', 'multiply', and 'divide', repsectively. These follow the order of operations.\n",
        "</div>"
      ]
    },
    {
      "cell_type": "markdown",
      "metadata": {
        "editable": true,
        "tags": [],
        "id": "iXUgzzJK-42V"
      },
      "source": [
        "## Logical (Boolean) operators\n",
        "- use Boolean logic\n",
        "- logical operators: `and`, `or`, and `not`"
      ]
    },
    {
      "cell_type": "markdown",
      "metadata": {
        "editable": true,
        "tags": [],
        "id": "mCKMqdpp-42W"
      },
      "source": [
        "Booleans are named after the British mathematician - George Boole. He first formulated Boolean algebra, which are a set of rules for how to reason with and combine these values. This is the basis of all modern computer logic."
      ]
    },
    {
      "cell_type": "markdown",
      "metadata": {
        "editable": true,
        "tags": [],
        "id": "wsqnX9WU-42W"
      },
      "source": [
        "<div class=\"alert alert-success\">\n",
        "Python has <code>and</code>, <code>or</code> and <code>not</code> for boolean logic. These operators often return booleans, but can return any Python value.\n",
        "</div>"
      ]
    },
    {
      "cell_type": "markdown",
      "metadata": {
        "editable": true,
        "tags": [],
        "id": "cENaXceH-42W"
      },
      "source": [
        "- `and` : True if both are true\n",
        "- `or` : True if at least one is true\n",
        "- `not` : True only if false"
      ]
    },
    {
      "cell_type": "markdown",
      "metadata": {
        "editable": true,
        "tags": [],
        "id": "4U2z_TIo-42W"
      },
      "source": [
        "## Comparison Operators"
      ]
    },
    {
      "cell_type": "markdown",
      "metadata": {
        "editable": true,
        "tags": [],
        "id": "iYFKd1JG-42W"
      },
      "source": [
        "<div class=\"alert alert-success\">\n",
        "Python has comparison operators <code>==</code>, <code>!=</code>, <code><</code>, <code>></code>, <code><=</code>, and <code>>=</code> for value comparisons. These operators return booleans.\n",
        "</div>"
      ]
    },
    {
      "cell_type": "markdown",
      "metadata": {
        "editable": true,
        "tags": [],
        "id": "XtQ9Yb27-42W"
      },
      "source": [
        "- `==` : values are equal\n",
        "- `!=` : values are not equal\n",
        "- `<` : value on left is less than value or right\n",
        "- `>` : value on left is greater than value on right\n",
        "- `<=` : value on left is less than *or equal to* value on right\n",
        "- `>=` : value on left is greater than or equal to value on the right"
      ]
    },
    {
      "cell_type": "markdown",
      "metadata": {
        "editable": true,
        "tags": [],
        "id": "TyX_6_zF-42W"
      },
      "source": [
        "## Activity Time\n",
        "\n",
        "Complete all questions in this Google Form ([https://forms.gle/9vmzUC3Uu88JaXQm9](https://forms.gle/9vmzUC3Uu88JaXQm9)) and then click submit.\n",
        "\n",
        "You are encouraged to:\n",
        "1. Talk with your neighbor\n",
        "2. Try the questions out in your notebok to check your understanding\n",
        "\n",
        "If you have questions, I'm happy to come over as we work on this!"
      ]
    },
    {
      "cell_type": "markdown",
      "metadata": {
        "id": "fPiL2TUV-42W"
      },
      "source": [
        "Write a Python expression that uses some combination of **logical/boolean** and **comparison operators** that will store the value False in the variable false_var."
      ]
    },
    {
      "cell_type": "code",
      "execution_count": null,
      "metadata": {
        "editable": true,
        "tags": [],
        "id": "cH4YWLV1-42W"
      },
      "outputs": [],
      "source": [
        "# cell included to test code out for the activity!"
      ]
    },
    {
      "cell_type": "markdown",
      "metadata": {
        "editable": true,
        "tags": [],
        "id": "115ewfkR-42W"
      },
      "source": [
        "## Membership Operators"
      ]
    },
    {
      "cell_type": "markdown",
      "metadata": {
        "editable": true,
        "tags": [],
        "id": "GENXwNqM-42W"
      },
      "source": [
        "<div class=\"alert alert-success\">\n",
        "Python uses <code>in</code> and <code>not in</code> to compare membership. These operators return booleans.\n",
        "</div>"
      ]
    },
    {
      "cell_type": "markdown",
      "metadata": {
        "editable": true,
        "tags": [],
        "id": "UhJJuAW--42W"
      },
      "source": [
        "Membership operators are used to check whether a value or variable is found in a sequence.\n",
        "\n",
        "Here, we'll just be checking for value membership in strings. But, we'll discuss lists, tuples, sets, and dictionaries soon."
      ]
    },
    {
      "cell_type": "markdown",
      "metadata": {
        "editable": true,
        "tags": [],
        "id": "T7-sZP1F-42W"
      },
      "source": [
        "- `in` : True if value is found in the sequence\n",
        "- `not in` : True if value is not found in the sequence"
      ]
    },
    {
      "cell_type": "code",
      "execution_count": null,
      "metadata": {
        "editable": true,
        "tags": [],
        "id": "wGcJVggk-42W",
        "outputId": "a73dbbed-f6cb-4904-d9d6-8dcd3989f437",
        "colab": {
          "base_uri": "https://localhost:8080/"
        }
      },
      "outputs": [
        {
          "output_type": "stream",
          "name": "stdout",
          "text": [
            "True\n"
          ]
        }
      ],
      "source": [
        "x = 'I love COGS18!'\n",
        "print('l' in x)"
      ]
    },
    {
      "cell_type": "code",
      "execution_count": null,
      "metadata": {
        "editable": true,
        "tags": [],
        "id": "gy9i19Vm-42W",
        "outputId": "cd70f136-8e81-4806-d93c-d0db9e847b57",
        "colab": {
          "base_uri": "https://localhost:8080/"
        }
      },
      "outputs": [
        {
          "output_type": "stream",
          "name": "stdout",
          "text": [
            "False\n"
          ]
        }
      ],
      "source": [
        "print('L' in x)"
      ]
    },
    {
      "cell_type": "code",
      "execution_count": null,
      "metadata": {
        "editable": true,
        "tags": [],
        "id": "fxQGBVOc-42W",
        "outputId": "5022c0fb-49a1-451a-98d3-fa5c0a100fab",
        "colab": {
          "base_uri": "https://localhost:8080/"
        }
      },
      "outputs": [
        {
          "output_type": "stream",
          "name": "stdout",
          "text": [
            "True\n"
          ]
        }
      ],
      "source": [
        "print('COGS' in x)"
      ]
    },
    {
      "cell_type": "code",
      "execution_count": null,
      "metadata": {
        "editable": true,
        "scrolled": true,
        "tags": [],
        "id": "wx3Xj9Vg-42W",
        "outputId": "349ca579-a252-4206-9a81-e565f6598f27",
        "colab": {
          "base_uri": "https://localhost:8080/"
        }
      },
      "outputs": [
        {
          "output_type": "stream",
          "name": "stdout",
          "text": [
            "False\n"
          ]
        }
      ],
      "source": [
        "print('CSOG' in x)"
      ]
    },
    {
      "cell_type": "code",
      "execution_count": null,
      "metadata": {
        "editable": true,
        "tags": [],
        "id": "ny5-1zGp-42W",
        "outputId": "881c5e95-f32f-45f1-b14b-f2eafb08734b",
        "colab": {
          "base_uri": "https://localhost:8080/"
        }
      },
      "outputs": [
        {
          "output_type": "stream",
          "name": "stdout",
          "text": [
            "True\n"
          ]
        }
      ],
      "source": [
        "print(' ' in x)"
      ]
    },
    {
      "cell_type": "markdown",
      "metadata": {
        "editable": true,
        "tags": [],
        "id": "jj3EwftS-42W"
      },
      "source": [
        "## **String** **Concatenation**"
      ]
    },
    {
      "cell_type": "markdown",
      "metadata": {
        "editable": true,
        "tags": [],
        "id": "1iLGsevi-42W"
      },
      "source": [
        "<div class=\"alert alert-success\">\n",
        "Operators sometimes do different things on different types of variables. For example, <code>+</code> on strings does concatenation.\n",
        "</div>"
      ]
    },
    {
      "cell_type": "code",
      "execution_count": null,
      "metadata": {
        "editable": true,
        "tags": [],
        "id": "OF6y2tDD-42W",
        "outputId": "3f122627-6fd3-4032-c7bb-38a91397e2b5",
        "colab": {
          "base_uri": "https://localhost:8080/",
          "height": 35
        }
      },
      "outputs": [
        {
          "output_type": "execute_result",
          "data": {
            "text/plain": [
              "'COGS 18'"
            ],
            "application/vnd.google.colaboratory.intrinsic+json": {
              "type": "string"
            }
          },
          "metadata": {},
          "execution_count": 12
        }
      ],
      "source": [
        "'COGS' + ' 18'"
      ]
    },
    {
      "cell_type": "code",
      "execution_count": null,
      "metadata": {
        "editable": true,
        "tags": [],
        "id": "OkiXQA4Z-42X",
        "outputId": "63ec22a7-7475-4993-a1ce-f1d25c62e506",
        "colab": {
          "base_uri": "https://localhost:8080/",
          "height": 35
        }
      },
      "outputs": [
        {
          "output_type": "execute_result",
          "data": {
            "text/plain": [
              "'abc'"
            ],
            "application/vnd.google.colaboratory.intrinsic+json": {
              "type": "string"
            }
          },
          "metadata": {},
          "execution_count": 13
        }
      ],
      "source": [
        "'a' + 'b' + 'c'"
      ]
    },
    {
      "cell_type": "markdown",
      "metadata": {
        "editable": true,
        "tags": [],
        "id": "GbU0J7K5-42X"
      },
      "source": [
        "## Code Style: Operators\n",
        "\n",
        "- Single space around operators\n",
        "- No spaces after leading parentheses or before trailing parentheses"
      ]
    },
    {
      "cell_type": "code",
      "execution_count": null,
      "metadata": {
        "id": "EbpPGzNz-42X",
        "outputId": "663ebb5b-9850-4d6f-e57f-faae0860d712",
        "colab": {
          "base_uri": "https://localhost:8080/"
        }
      },
      "outputs": [
        {
          "output_type": "execute_result",
          "data": {
            "text/plain": [
              "10"
            ]
          },
          "metadata": {},
          "execution_count": 14
        }
      ],
      "source": [
        "(6 + 4)"
      ]
    },
    {
      "cell_type": "code",
      "source": [
        "'''do not do'''\n",
        "( 6 + 4 )"
      ],
      "metadata": {
        "id": "OJCw8A6GNNQ6",
        "outputId": "16aff231-5b72-4c59-8835-44e9556fd854",
        "colab": {
          "base_uri": "https://localhost:8080/"
        }
      },
      "execution_count": null,
      "outputs": [
        {
          "output_type": "execute_result",
          "data": {
            "text/plain": [
              "10"
            ]
          },
          "metadata": {},
          "execution_count": 15
        }
      ]
    },
    {
      "cell_type": "code",
      "source": [
        "my_value = (3+2)+16/(4/2)\n",
        "print(my_value)"
      ],
      "metadata": {
        "id": "QDgWDGAsNo2O",
        "outputId": "3dd648aa-d511-4685-dc0c-eee791f93312",
        "colab": {
          "base_uri": "https://localhost:8080/"
        }
      },
      "execution_count": null,
      "outputs": [
        {
          "output_type": "stream",
          "name": "stdout",
          "text": [
            "13.0\n"
          ]
        }
      ]
    },
    {
      "cell_type": "code",
      "source": [
        "a == 6\n",
        "b = a + 10\n",
        "false_var= a > b and a == 6\n",
        "print(false_var)\n"
      ],
      "metadata": {
        "id": "07ScJg-4OQM5",
        "outputId": "83a7806f-a4e1-44fa-cbae-3294adec27aa",
        "colab": {
          "base_uri": "https://localhost:8080/"
        }
      },
      "execution_count": null,
      "outputs": [
        {
          "output_type": "stream",
          "name": "stdout",
          "text": [
            "False\n"
          ]
        }
      ]
    },
    {
      "cell_type": "code",
      "source": [
        "sword_charge = 90\n",
        "shield_energy = 100\n",
        "\n",
        "(sword_charge >= 90) and (shield_energy >= 100)"
      ],
      "metadata": {
        "id": "Z_vDWyDNTgoL",
        "outputId": "a7e94fcf-dd0e-472e-e623-6c8e0b8e0f77",
        "colab": {
          "base_uri": "https://localhost:8080/"
        }
      },
      "execution_count": null,
      "outputs": [
        {
          "output_type": "execute_result",
          "data": {
            "text/plain": [
              "True"
            ]
          },
          "metadata": {},
          "execution_count": 23
        }
      ]
    }
  ],
  "metadata": {
    "celltoolbar": "Slideshow",
    "kernelspec": {
      "display_name": "Python 3 (ipykernel)",
      "language": "python",
      "name": "python3"
    },
    "language_info": {
      "codemirror_mode": {
        "name": "ipython",
        "version": 3
      },
      "file_extension": ".py",
      "mimetype": "text/x-python",
      "name": "python",
      "nbconvert_exporter": "python",
      "pygments_lexer": "ipython3",
      "version": "3.11.8"
    },
    "rise": {
      "scroll": true
    },
    "colab": {
      "provenance": [],
      "include_colab_link": true
    }
  },
  "nbformat": 4,
  "nbformat_minor": 0
}