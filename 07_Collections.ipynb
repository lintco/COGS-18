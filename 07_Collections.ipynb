{
  "cells": [
    {
      "cell_type": "markdown",
      "metadata": {
        "id": "view-in-github",
        "colab_type": "text"
      },
      "source": [
        "<a href=\"https://colab.research.google.com/github/lintco/COGS-18/blob/main/07_Collections.ipynb\" target=\"_parent\"><img src=\"https://colab.research.google.com/assets/colab-badge.svg\" alt=\"Open In Colab\"/></a>"
      ]
    },
    {
      "cell_type": "markdown",
      "metadata": {
        "id": "4X2_JT5wxm2V"
      },
      "source": [
        "# Collections\n",
        "[![Open In Colab](https://colab.research.google.com/assets/colab-badge.svg)](https://colab.research.google.com/github/COGS18/LectureNotes-COGS18/blob/main/07-Collections.ipynb)"
      ]
    },
    {
      "cell_type": "markdown",
      "metadata": {
        "id": "diusaYx_xm2X"
      },
      "source": [
        "**Q&A**\n",
        "\n",
        "> Q: Is there a schedule to when you post the reading quizzes and such? I like to get ahead in this class over the weekends so that I can keep up with my major classes during the week but I can't find a rhythm for this class.  \n",
        "> A: Each week's reading quizzes will be posted on the Friday prior. I got a bit behind last week, but will be consistent going forward.\n",
        "\n",
        "> Q: if you do a bunch of if statements in a row, does that just mean those are separate conditionals and it will run through each one in sequential order?   \n",
        "> A: Yes! It will then treat each `if` as a new conditional (and check each one in sequence)\n",
        "\n",
        "> Q: when to use elif and when to use else  \n",
        "> A: `elif` is for when you have another condition you want to check...and that if that condition is true, you want the code to execute. `else` is a catch-all. There is NO condition that it's checking...but if all `if`/`elif`s above it have NOT evaluated as `True`, the code in the `else` will execute.\n",
        "\n",
        "> Q: when I watch the videos I understand it and also I can identify a given conditions, However when a Question the one above is given, I get so confused. IDK how to overcome this issue?  \n",
        "> A: This is normal! The first time we're doing a question like these in class is usually the first time we're asking you to put all the concepts together. The videos are important for initial understanding. Class is for deepening understanding. If you're able to do 50%-80% before we discuss together, you're in good shape! Then, hopefully, after discussing together, you're closer to 100% and feeling better when you go to do assignments/labs on your own. That said, breaking down the question into parts is a great way. I often demo this...how to parse the question - figure out what it means. Then, add comments into hte code. Then, try to turn it into actual code. That's the first suggestion. The second is to ask an LLM how to break something down into simpler steps. Then, see if you can do a similar question by breaking it down on your own. Happy to keep discussing!\n",
        "\n",
        "> Q: the examples tend to assign variables before the conditionals (like Q2) - is that only for conditionals or also for functions with conditionals inside them?  \n",
        "> A: I often do that to make sure we're really *seeing* what values are being checked in the conditional...but it's not necessary. You can directly check anything that evaluates as True or False.\n",
        "\n",
        "> Q: What is the accuracy of normal integers in Python? In the odd/even conditional, I managed to get 8.00000000000000000000000001 to be even  \n",
        "> A: Hah great question and love this observation! So, I will *never* test you on this in an intro level  course, but Python has limitations to the precision it uses with floating point decimals. So, it rounds numbers in memory to a fixed 64 bits, which Python rounds to 8.0. There is a decimal module that you can import to do more precise floating point math (we won't be discussing this in this class).\n",
        "\n",
        "> Q: if there is a syntax error will the code run until it reaches that error or will it not run at all?  \n",
        "> A: For Syntax and IndentationErrors, the code will not run at all. For other errors (i.e. NameError; ValueError), the code runs until it encounters that error.\n"
      ]
    },
    {
      "cell_type": "markdown",
      "metadata": {
        "id": "q857AtS9xm2X"
      },
      "source": [
        "**Course Announcements**\n",
        "\n",
        "Due this week:\n",
        "- CL3 due Friday\n",
        "- A2 due Sunday\n",
        "\n",
        "Notes:\n",
        "- E1 starts Monday\n",
        "    - Sign up in prairietest if you haven't already\n",
        "    - Practice exam now available on PL (format NOT the same)\n",
        "    - Will finalize/update you all on Thurs, but currently considering (*not final*): ~15 MC (15 min); ~7 Matching/drop-down/parsons/SA (15 min); ~3 debugging/code reading (15 min)\n",
        "    - Bring questions to class on Thursday!\n",
        "- If you report a question in PL: I will respond; you will see my response directly on the question you asked about\n",
        "- Reminder about Tues 4-5 Extra Help Group\n",
        "- Remind: how to turn off Gemini in Colab"
      ]
    },
    {
      "cell_type": "markdown",
      "metadata": {
        "id": "IM5UerAcxm2X"
      },
      "source": [
        "## Collections\n",
        "\n",
        "- Lists, Tuples, Dictionaries\n",
        "- Mutability & Indexing\n",
        "- `chr` and `ord`\n",
        "- Membership operators with collections\n",
        "\n",
        "Note: There are chapters in the book for `chr` and `ord` and membership operators when working with collections. Feel free to reference/watch those! But, we do NOT have video quizzes on them, as we're discussing them in full (what you need to know) in lecture"
      ]
    },
    {
      "cell_type": "markdown",
      "metadata": {
        "collapsed": true,
        "jupyter": {
          "outputs_hidden": true
        },
        "id": "voXXtONBxm2Y"
      },
      "source": [
        "## Collections: Lists"
      ]
    },
    {
      "cell_type": "markdown",
      "metadata": {
        "id": "ydRKDfdOxm2Y"
      },
      "source": [
        "<div class=\"alert alert-success\">\n",
        "A <b>list</b> is a mutable collection of ordered items, that can be of mixed type. Lists are created using square brackets.\n",
        "</div>"
      ]
    },
    {
      "cell_type": "markdown",
      "metadata": {
        "id": "-yXOJBd5xm2Y"
      },
      "source": [
        "### Lists & Indexing"
      ]
    },
    {
      "cell_type": "code",
      "execution_count": 1,
      "metadata": {
        "id": "1Aq1TkV0xm2Y"
      },
      "outputs": [],
      "source": [
        "# Define a list MAKE SURE THAT YOU USE SQUARE BRACKETS\n",
        "lst = [1, 'a', True]"
      ]
    },
    {
      "cell_type": "code",
      "execution_count": 2,
      "metadata": {
        "id": "ChW6_aWLxm2Y",
        "colab": {
          "base_uri": "https://localhost:8080/"
        },
        "outputId": "aab88dad-62b3-4515-efbe-cc1f0aa5afea"
      },
      "outputs": [
        {
          "output_type": "stream",
          "name": "stdout",
          "text": [
            "[1, 'a', True]\n"
          ]
        }
      ],
      "source": [
        "# Print out the contents of a list\n",
        "print(lst)"
      ]
    },
    {
      "cell_type": "code",
      "execution_count": 3,
      "metadata": {
        "id": "kwZQ8ytixm2Z",
        "colab": {
          "base_uri": "https://localhost:8080/"
        },
        "outputId": "9e52ac5a-acc7-44bd-8c55-020f4b2c8fda"
      },
      "outputs": [
        {
          "output_type": "execute_result",
          "data": {
            "text/plain": [
              "list"
            ]
          },
          "metadata": {},
          "execution_count": 3
        }
      ],
      "source": [
        "# Check the type of a list\n",
        "type(lst)"
      ]
    },
    {
      "cell_type": "code",
      "execution_count": 4,
      "metadata": {
        "id": "MgAcrvwbxm2Z",
        "colab": {
          "base_uri": "https://localhost:8080/"
        },
        "outputId": "76a76406-5224-4ebf-b91b-3bdcbcb7efdc"
      },
      "outputs": [
        {
          "output_type": "execute_result",
          "data": {
            "text/plain": [
              "3"
            ]
          },
          "metadata": {},
          "execution_count": 4
        }
      ],
      "source": [
        "# Length of a list\n",
        "len(lst)"
      ]
    },
    {
      "cell_type": "code",
      "execution_count": 5,
      "metadata": {
        "id": "0wV1JAioxm2Z",
        "colab": {
          "base_uri": "https://localhost:8080/",
          "height": 35
        },
        "outputId": "cc610b21-8968-4e11-83df-78df8aa01dcd"
      },
      "outputs": [
        {
          "output_type": "execute_result",
          "data": {
            "text/plain": [
              "'a'"
            ],
            "application/vnd.google.colaboratory.intrinsic+json": {
              "type": "string"
            }
          },
          "metadata": {},
          "execution_count": 5
        }
      ],
      "source": [
        "# Indexing\n",
        "lst[1]"
      ]
    },
    {
      "cell_type": "code",
      "execution_count": 6,
      "metadata": {
        "id": "hBUPdIZxxm2Z"
      },
      "outputs": [],
      "source": [
        "# Mutating a list\n",
        "lst[2] = False"
      ]
    },
    {
      "cell_type": "code",
      "source": [
        "print(lst[1])"
      ],
      "metadata": {
        "colab": {
          "base_uri": "https://localhost:8080/"
        },
        "id": "k-cHxT6kOkOh",
        "outputId": "ab8ac699-7f0f-4cf2-bfae-9d4fc01c86af"
      },
      "execution_count": 8,
      "outputs": [
        {
          "output_type": "stream",
          "name": "stdout",
          "text": [
            "a\n"
          ]
        }
      ]
    },
    {
      "cell_type": "code",
      "source": [
        "len(\"true\")"
      ],
      "metadata": {
        "colab": {
          "base_uri": "https://localhost:8080/"
        },
        "id": "Xpn2YsUzO6L-",
        "outputId": "4b023cd6-6f92-417e-8e30-8ea377e40441"
      },
      "execution_count": 11,
      "outputs": [
        {
          "output_type": "execute_result",
          "data": {
            "text/plain": [
              "4"
            ]
          },
          "metadata": {},
          "execution_count": 11
        }
      ]
    },
    {
      "cell_type": "code",
      "source": [
        "new_lst= [\"peanut\", \"butter\" ,\"&\", \"jelly\"]"
      ],
      "metadata": {
        "id": "ifzPhYZWQNSL"
      },
      "execution_count": 26,
      "outputs": []
    },
    {
      "cell_type": "code",
      "source": [
        "new_lst[1:4]"
      ],
      "metadata": {
        "colab": {
          "base_uri": "https://localhost:8080/"
        },
        "id": "0ZjOhUw-QayM",
        "outputId": "9bef2b9b-6936-45bd-fbde-2f8f75e139f1"
      },
      "execution_count": 27,
      "outputs": [
        {
          "output_type": "execute_result",
          "data": {
            "text/plain": [
              "['butter', '&', 'jelly']"
            ]
          },
          "metadata": {},
          "execution_count": 27
        }
      ]
    },
    {
      "cell_type": "code",
      "source": [
        "new_lst[-3:]"
      ],
      "metadata": {
        "colab": {
          "base_uri": "https://localhost:8080/"
        },
        "id": "DCozhj-jQ4jJ",
        "outputId": "bec4b56a-8e5e-4b84-dcc1-d6c0f1f8be95"
      },
      "execution_count": 28,
      "outputs": [
        {
          "output_type": "execute_result",
          "data": {
            "text/plain": [
              "['butter', '&', 'jelly']"
            ]
          },
          "metadata": {},
          "execution_count": 28
        }
      ]
    },
    {
      "cell_type": "code",
      "source": [
        "new_lst[1:]"
      ],
      "metadata": {
        "colab": {
          "base_uri": "https://localhost:8080/"
        },
        "id": "5Fv9ZuohRA2W",
        "outputId": "41c2b2b5-4584-4a06-f064-2bfb8606b4fd"
      },
      "execution_count": 29,
      "outputs": [
        {
          "output_type": "execute_result",
          "data": {
            "text/plain": [
              "['butter', '&', 'jelly']"
            ]
          },
          "metadata": {},
          "execution_count": 29
        }
      ]
    },
    {
      "cell_type": "code",
      "source": [
        "new_lst[1:3:1]"
      ],
      "metadata": {
        "colab": {
          "base_uri": "https://localhost:8080/"
        },
        "id": "fx4Vf_4kSgdW",
        "outputId": "f5bda27d-df6d-4b69-b22d-a753bee7fb17"
      },
      "execution_count": 35,
      "outputs": [
        {
          "output_type": "execute_result",
          "data": {
            "text/plain": [
              "['butter', '&']"
            ]
          },
          "metadata": {},
          "execution_count": 35
        }
      ]
    },
    {
      "cell_type": "code",
      "source": [
        "new_lst[0:3:2]"
      ],
      "metadata": {
        "colab": {
          "base_uri": "https://localhost:8080/"
        },
        "id": "prwdyHOVSqqy",
        "outputId": "e5092765-1846-4854-9dd6-4ee154fbd0ac"
      },
      "execution_count": 33,
      "outputs": [
        {
          "output_type": "execute_result",
          "data": {
            "text/plain": [
              "['peanut', '&']"
            ]
          },
          "metadata": {},
          "execution_count": 33
        }
      ]
    },
    {
      "cell_type": "code",
      "source": [
        "new_lst[-1:-4:-1]"
      ],
      "metadata": {
        "colab": {
          "base_uri": "https://localhost:8080/"
        },
        "id": "4GLGQ4HtVGXn",
        "outputId": "27cfe33d-8543-4e44-ae27-ef2504e960ab"
      },
      "execution_count": 36,
      "outputs": [
        {
          "output_type": "execute_result",
          "data": {
            "text/plain": [
              "['jelly', '&', 'butter']"
            ]
          },
          "metadata": {},
          "execution_count": 36
        }
      ]
    },
    {
      "cell_type": "code",
      "source": [
        "new_lst[-1:-3:-1]"
      ],
      "metadata": {
        "colab": {
          "base_uri": "https://localhost:8080/"
        },
        "id": "5x3wT5r9VMXr",
        "outputId": "501dc138-c903-4749-af09-010cb4115ea6"
      },
      "execution_count": 37,
      "outputs": [
        {
          "output_type": "execute_result",
          "data": {
            "text/plain": [
              "['jelly', '&']"
            ]
          },
          "metadata": {},
          "execution_count": 37
        }
      ]
    },
    {
      "cell_type": "markdown",
      "metadata": {
        "id": "14s6Pa7Cxm2Z"
      },
      "source": [
        "## Collections: Tuples"
      ]
    },
    {
      "cell_type": "markdown",
      "metadata": {
        "id": "CJAtqTCcxm2Z"
      },
      "source": [
        "<div class=\"alert alert-success\">\n",
        "A <b>tuple</b> is an <i>immutable</i> collection of ordered items, that can be of mixed type. Tuples are created using parentheses. Tuples are used when you don't want to be able to update the items in your tuple.\n",
        "</div>"
      ]
    },
    {
      "cell_type": "markdown",
      "metadata": {
        "id": "nHKOQm4Fxm2Z"
      },
      "source": [
        "### Tuple Examples"
      ]
    },
    {
      "cell_type": "code",
      "execution_count": 12,
      "metadata": {
        "id": "7nJpsOkBxm2Z"
      },
      "outputs": [],
      "source": [
        "# Define a tuple\n",
        "tup = (2, 'b', False)"
      ]
    },
    {
      "cell_type": "code",
      "execution_count": 13,
      "metadata": {
        "id": "J6sGqPTnxm2Z",
        "colab": {
          "base_uri": "https://localhost:8080/"
        },
        "outputId": "833cd071-eca6-43ee-f50f-f131e7d29c9a"
      },
      "outputs": [
        {
          "output_type": "execute_result",
          "data": {
            "text/plain": [
              "2"
            ]
          },
          "metadata": {},
          "execution_count": 13
        }
      ],
      "source": [
        "# Index into a tuple\n",
        "tup[0]"
      ]
    },
    {
      "cell_type": "code",
      "execution_count": 14,
      "metadata": {
        "scrolled": true,
        "id": "VNIe-Ookxm2Z",
        "colab": {
          "base_uri": "https://localhost:8080/",
          "height": 180
        },
        "outputId": "1ff5ead9-4805-40dd-f1d3-576599dca5f1"
      },
      "outputs": [
        {
          "output_type": "error",
          "ename": "TypeError",
          "evalue": "'tuple' object does not support item assignment",
          "traceback": [
            "\u001b[0;31m---------------------------------------------------------------------------\u001b[0m",
            "\u001b[0;31mTypeError\u001b[0m                                 Traceback (most recent call last)",
            "\u001b[0;32m<ipython-input-14-6b0fd3f24bc7>\u001b[0m in \u001b[0;36m<cell line: 0>\u001b[0;34m()\u001b[0m\n\u001b[1;32m      1\u001b[0m \u001b[0;31m# Tuples are immutable - meaning after they defined, you can't change them\u001b[0m\u001b[0;34m\u001b[0m\u001b[0;34m\u001b[0m\u001b[0m\n\u001b[1;32m      2\u001b[0m \u001b[0;31m# This code will produce an error.\u001b[0m\u001b[0;34m\u001b[0m\u001b[0;34m\u001b[0m\u001b[0m\n\u001b[0;32m----> 3\u001b[0;31m \u001b[0mtup\u001b[0m\u001b[0;34m[\u001b[0m\u001b[0;36m2\u001b[0m\u001b[0;34m]\u001b[0m \u001b[0;34m=\u001b[0m \u001b[0;36m1\u001b[0m\u001b[0;34m\u001b[0m\u001b[0;34m\u001b[0m\u001b[0m\n\u001b[0m",
            "\u001b[0;31mTypeError\u001b[0m: 'tuple' object does not support item assignment"
          ]
        }
      ],
      "source": [
        "# Tuples are immutable - meaning after they defined, you can't change them\n",
        "# This code will produce an error.\n",
        "tup[2] = 1"
      ]
    },
    {
      "cell_type": "markdown",
      "metadata": {
        "id": "j5izGn34xm2Z"
      },
      "source": [
        "### Activity: Collections I\n",
        "\n",
        "Complete the question in this Google Form ([https://forms.gle/811C8Nec4XrpAGUC6](https://forms.gle/811C8Nec4XrpAGUC6)) and then click submit."
      ]
    },
    {
      "cell_type": "markdown",
      "metadata": {
        "id": "pWLzEI-nxm2Z"
      },
      "source": [
        "## Dictionaries\n"
      ]
    },
    {
      "cell_type": "markdown",
      "metadata": {
        "id": "46oqMU90xm2Z"
      },
      "source": [
        "<div class=\"alert alert-success\">\n",
        "A dictionary is mutable collection of items, that can be of mixed-type, that are stored as key-value pairs.\n",
        "</div>"
      ]
    },
    {
      "cell_type": "markdown",
      "metadata": {
        "id": "2gu4KDFTxm2Z"
      },
      "source": [
        "### Dictionaries as Key-Value Collections"
      ]
    },
    {
      "cell_type": "code",
      "execution_count": 15,
      "metadata": {
        "id": "EqZY5iSyxm2Z"
      },
      "outputs": [],
      "source": [
        "# Create a dictionary\n",
        "dictionary = {'George' : 'Sarah', 'Debby' : 'Ron'}"
      ]
    },
    {
      "cell_type": "code",
      "execution_count": 16,
      "metadata": {
        "id": "yQDhChPZxm2Z",
        "colab": {
          "base_uri": "https://localhost:8080/"
        },
        "outputId": "335ab3b0-adef-4eb9-9d1c-2e75af952314"
      },
      "outputs": [
        {
          "output_type": "execute_result",
          "data": {
            "text/plain": [
              "2"
            ]
          },
          "metadata": {},
          "execution_count": 16
        }
      ],
      "source": [
        "# Dictionaries also have a length\n",
        "# length refers to how many pairs there are\n",
        "len(dictionary)"
      ]
    },
    {
      "cell_type": "code",
      "execution_count": 18,
      "metadata": {
        "id": "aOH6Jh31xm2Z",
        "colab": {
          "base_uri": "https://localhost:8080/",
          "height": 35
        },
        "outputId": "c7dd47f1-ba2f-4fe5-b6fd-afac32e191b6"
      },
      "outputs": [
        {
          "output_type": "execute_result",
          "data": {
            "text/plain": [
              "'Sarah'"
            ],
            "application/vnd.google.colaboratory.intrinsic+json": {
              "type": "string"
            }
          },
          "metadata": {},
          "execution_count": 18
        }
      ],
      "source": [
        "# Dictionaries are indexed using their keys\n",
        "dictionary['George']"
      ]
    },
    {
      "cell_type": "code",
      "execution_count": 19,
      "metadata": {
        "id": "FHQjsLoAxm2Z",
        "colab": {
          "base_uri": "https://localhost:8080/"
        },
        "outputId": "8e3750e3-d7ef-4b62-bd9e-1aebccd8a38c"
      },
      "outputs": [
        {
          "output_type": "execute_result",
          "data": {
            "text/plain": [
              "{'A1234': True, 'A5678': False, 'A9123': True}"
            ]
          },
          "metadata": {},
          "execution_count": 19
        }
      ],
      "source": [
        "# dictionaries are mutable\n",
        "# can add key-value pairs\n",
        "# can update values for existing keys\n",
        "completed_assignment = {\n",
        "    'A1234' : True,\n",
        "    'A5678' : False,\n",
        "    'A9123' : True\n",
        "}\n",
        "\n",
        "completed_assignment"
      ]
    },
    {
      "cell_type": "code",
      "execution_count": 20,
      "metadata": {
        "id": "D4gdQEXHxm2Z",
        "colab": {
          "base_uri": "https://localhost:8080/"
        },
        "outputId": "836dcf5b-f916-4004-dd22-1e49fd3a3235"
      },
      "outputs": [
        {
          "output_type": "execute_result",
          "data": {
            "text/plain": [
              "{'A1234': True, 'A5678': False, 'A9123': True, 'A8675': False}"
            ]
          },
          "metadata": {},
          "execution_count": 20
        }
      ],
      "source": [
        "# add a key-value pair\n",
        "completed_assignment['A8675'] = False\n",
        "\n",
        "completed_assignment"
      ]
    },
    {
      "cell_type": "code",
      "execution_count": 21,
      "metadata": {
        "id": "d_xhdGfPxm2a",
        "colab": {
          "base_uri": "https://localhost:8080/"
        },
        "outputId": "dbff7283-3b8b-490c-c4b6-434d195abaf6"
      },
      "outputs": [
        {
          "output_type": "execute_result",
          "data": {
            "text/plain": [
              "{'A1234': True, 'A5678': True, 'A9123': True, 'A8675': False}"
            ]
          },
          "metadata": {},
          "execution_count": 21
        }
      ],
      "source": [
        "# update value of specified key\n",
        "completed_assignment['A5678'] = True\n",
        "completed_assignment"
      ]
    },
    {
      "cell_type": "code",
      "execution_count": 22,
      "metadata": {
        "id": "Daboae7Bxm2a",
        "colab": {
          "base_uri": "https://localhost:8080/"
        },
        "outputId": "229b2089-41b3-416c-d288-508d51348d4a"
      },
      "outputs": [
        {
          "output_type": "stream",
          "name": "stdout",
          "text": [
            "{'A1234': True, 'A9123': True, 'A8675': False}\n"
          ]
        },
        {
          "output_type": "execute_result",
          "data": {
            "text/plain": [
              "3"
            ]
          },
          "metadata": {},
          "execution_count": 22
        }
      ],
      "source": [
        "## remove key-value pair using del\n",
        "del completed_assignment['A5678']\n",
        "\n",
        "print(completed_assignment)\n",
        "len(completed_assignment)"
      ]
    },
    {
      "cell_type": "markdown",
      "metadata": {
        "id": "mUmch9_Rxm2a"
      },
      "source": [
        "### Activity: Collections II\n",
        "\n",
        "Complete the question in this Google Form ([https://forms.gle/3F4wKRVeL3hX2T5n6](https://forms.gle/3F4wKRVeL3hX2T5n6)) and then click submit."
      ]
    },
    {
      "cell_type": "code",
      "source": [
        "height_2 = \"height_2\"\n",
        "height_dict={\"height_1\" : 60, height_2 : 68, \"height_3\" : 65, \"height_4\" : 72}\n",
        "height_dict[height_2]"
      ],
      "metadata": {
        "colab": {
          "base_uri": "https://localhost:8080/"
        },
        "id": "sL4BGkoiZF6K",
        "outputId": "1091b1ab-136b-4dc1-9210-1cce490bdbb4"
      },
      "execution_count": 43,
      "outputs": [
        {
          "output_type": "execute_result",
          "data": {
            "text/plain": [
              "68"
            ]
          },
          "metadata": {},
          "execution_count": 43
        }
      ]
    },
    {
      "cell_type": "code",
      "source": [
        "height_dict={\"height_1\" : 60, height_2 : 68, \"height_3\" : 65, \"height_4\" : 72}\n",
        "height_dict[\"height_2\"]"
      ],
      "metadata": {
        "colab": {
          "base_uri": "https://localhost:8080/"
        },
        "id": "d9VR-NLNaKU1",
        "outputId": "886b5ecc-33bf-456d-e15b-ebd31687ad52"
      },
      "execution_count": 44,
      "outputs": [
        {
          "output_type": "execute_result",
          "data": {
            "text/plain": [
              "68"
            ]
          },
          "metadata": {},
          "execution_count": 44
        }
      ]
    },
    {
      "cell_type": "code",
      "source": [],
      "metadata": {
        "id": "kRYActV6Z2YT"
      },
      "execution_count": null,
      "outputs": []
    },
    {
      "cell_type": "markdown",
      "metadata": {
        "id": "v3uM2MQlxm2a"
      },
      "source": [
        "## Revisiting membership: `in` operator"
      ]
    },
    {
      "cell_type": "markdown",
      "metadata": {
        "id": "nXOQ9iqnxm2a"
      },
      "source": [
        "<div class=\"alert alert-success\">\n",
        "The <code>in</code> operator asks whether an element is present inside a collection, and returns a boolean answer.\n",
        "</div>"
      ]
    },
    {
      "cell_type": "code",
      "execution_count": 45,
      "metadata": {
        "id": "C8KmsiGuxm2a"
      },
      "outputs": [],
      "source": [
        "# Define a new list, dictionary, and string to work with\n",
        "lst_again = [True, 13, None, 'apples', 'Shannon']\n",
        "dict_again = {'Shannon': 36, 'Josh': 44}\n",
        "string_again = 'Shannon and Josh'"
      ]
    },
    {
      "cell_type": "markdown",
      "metadata": {
        "id": "LCDIENyVxm2a"
      },
      "source": [
        "**Lists/Tuples**"
      ]
    },
    {
      "cell_type": "code",
      "execution_count": 46,
      "metadata": {
        "id": "5GvV3yXBxm2a"
      },
      "outputs": [],
      "source": [
        "lst_again = [True, 13, None, 'apples', 'Shannon']"
      ]
    },
    {
      "cell_type": "code",
      "execution_count": 47,
      "metadata": {
        "id": "VLaDa8dLxm2a",
        "colab": {
          "base_uri": "https://localhost:8080/"
        },
        "outputId": "a52bb79f-cfb7-4bfd-a87f-0fdd0196aaa3"
      },
      "outputs": [
        {
          "output_type": "execute_result",
          "data": {
            "text/plain": [
              "True"
            ]
          },
          "metadata": {},
          "execution_count": 47
        }
      ],
      "source": [
        "# Check if a particular element is present in the list\n",
        "True in lst_again"
      ]
    },
    {
      "cell_type": "code",
      "execution_count": 48,
      "metadata": {
        "id": "iggMSMxbxm2a",
        "colab": {
          "base_uri": "https://localhost:8080/"
        },
        "outputId": "ef322a6c-68b8-4374-99bd-080a1aa800d7"
      },
      "outputs": [
        {
          "output_type": "execute_result",
          "data": {
            "text/plain": [
              "True"
            ]
          },
          "metadata": {},
          "execution_count": 48
        }
      ],
      "source": [
        "# The `in` operator can also be combined with the `not` operator\n",
        "'19' not in lst_again"
      ]
    },
    {
      "cell_type": "code",
      "execution_count": 49,
      "metadata": {
        "id": "XjkRv0Yixm2a",
        "colab": {
          "base_uri": "https://localhost:8080/"
        },
        "outputId": "1d5fb442-e431-4807-8305-2ec8dad8760e"
      },
      "outputs": [
        {
          "output_type": "execute_result",
          "data": {
            "text/plain": [
              "False"
            ]
          },
          "metadata": {},
          "execution_count": 49
        }
      ],
      "source": [
        "# only checks for element, not part of an element\n",
        "'Shan' in lst_again"
      ]
    },
    {
      "cell_type": "markdown",
      "metadata": {
        "id": "UMLOiVTfxm2d"
      },
      "source": [
        "**Dictionaries**"
      ]
    },
    {
      "cell_type": "code",
      "execution_count": null,
      "metadata": {
        "id": "oGQ2gHMjxm2d"
      },
      "outputs": [],
      "source": [
        "dict_again = {'Shannon': 36, 'Josh': 44}"
      ]
    },
    {
      "cell_type": "code",
      "execution_count": 50,
      "metadata": {
        "id": "6OQtpxXNxm2d",
        "colab": {
          "base_uri": "https://localhost:8080/"
        },
        "outputId": "877abaa9-45f1-43a8-a7c3-9cac5bb3fcec"
      },
      "outputs": [
        {
          "output_type": "execute_result",
          "data": {
            "text/plain": [
              "True"
            ]
          },
          "metadata": {},
          "execution_count": 50
        }
      ],
      "source": [
        "# In a dictionary, checks if value is a key\n",
        "'Shannon' in dict_again"
      ]
    },
    {
      "cell_type": "code",
      "execution_count": 51,
      "metadata": {
        "id": "ax4xMbzoxm2d",
        "colab": {
          "base_uri": "https://localhost:8080/"
        },
        "outputId": "61f20ae7-a94b-4e22-b95f-a5d9ff4dbffd"
      },
      "outputs": [
        {
          "output_type": "execute_result",
          "data": {
            "text/plain": [
              "False"
            ]
          },
          "metadata": {},
          "execution_count": 51
        }
      ],
      "source": [
        "# does not check for values in dictionary\n",
        "36 in dict_again"
      ]
    },
    {
      "cell_type": "code",
      "execution_count": 52,
      "metadata": {
        "id": "55-mvO2Gxm2d",
        "colab": {
          "base_uri": "https://localhost:8080/"
        },
        "outputId": "7cb48d84-0bb4-470c-855e-24b79d7b3f3d"
      },
      "outputs": [
        {
          "output_type": "execute_result",
          "data": {
            "text/plain": [
              "False"
            ]
          },
          "metadata": {},
          "execution_count": 52
        }
      ],
      "source": [
        "# does not check for *parts* of a key\n",
        "'Shan' in dict_again"
      ]
    },
    {
      "cell_type": "markdown",
      "metadata": {
        "id": "JyOgYJWmxm2d"
      },
      "source": [
        "**Strings**"
      ]
    },
    {
      "cell_type": "code",
      "execution_count": 53,
      "metadata": {
        "id": "g5Z7eWN3xm2d"
      },
      "outputs": [],
      "source": [
        "string_again = 'Shannon and Josh'"
      ]
    },
    {
      "cell_type": "code",
      "execution_count": 54,
      "metadata": {
        "id": "l7TaE6rpxm2d",
        "colab": {
          "base_uri": "https://localhost:8080/"
        },
        "outputId": "71a3a502-1f37-4c42-b716-7172bd37d9e8"
      },
      "outputs": [
        {
          "output_type": "execute_result",
          "data": {
            "text/plain": [
              "True"
            ]
          },
          "metadata": {},
          "execution_count": 54
        }
      ],
      "source": [
        "# does look for characters in string\n",
        "'Shan' in string_again"
      ]
    },
    {
      "cell_type": "code",
      "execution_count": 55,
      "metadata": {
        "id": "89CxueNzxm2d",
        "colab": {
          "base_uri": "https://localhost:8080/"
        },
        "outputId": "76df7177-e9a3-4c12-d91e-e6b9dbcf074c"
      },
      "outputs": [
        {
          "output_type": "execute_result",
          "data": {
            "text/plain": [
              "False"
            ]
          },
          "metadata": {},
          "execution_count": 55
        }
      ],
      "source": [
        "# order matters\n",
        "'nahS' in string_again"
      ]
    },
    {
      "cell_type": "code",
      "execution_count": 56,
      "metadata": {
        "id": "av2BZz7Qxm2d",
        "colab": {
          "base_uri": "https://localhost:8080/"
        },
        "outputId": "40b3f046-e8b6-4e7e-e3fb-cafde604c135"
      },
      "outputs": [
        {
          "output_type": "stream",
          "name": "stdout",
          "text": [
            "False\n"
          ]
        }
      ],
      "source": [
        "ex_lst = [0, 'untrue', '4', None]\n",
        "ex_str = 'It is untrue to say it is week 5'\n",
        "\n",
        "bool_1 = 'true' in ex_lst\n",
        "bool_2 = 'true' in ex_str\n",
        "\n",
        "output = bool_1 and bool_2\n",
        "\n",
        "print(output)"
      ]
    },
    {
      "cell_type": "markdown",
      "metadata": {
        "collapsed": true,
        "jupyter": {
          "outputs_hidden": true
        },
        "id": "LRYwICTXxm2d"
      },
      "source": [
        "- a) True\n",
        "- b) False\n",
        "- c) This code will fail\n",
        "- d) I don't know"
      ]
    },
    {
      "cell_type": "markdown",
      "metadata": {
        "id": "vZxjeyRwxm2d"
      },
      "source": [
        "## Unicode"
      ]
    },
    {
      "cell_type": "markdown",
      "metadata": {
        "id": "J8bQgxDexm2d"
      },
      "source": [
        "<div class=\"alert alert-success\">\n",
        "Unicode is a system of systematically and consistently representing characters.\n",
        "</div>"
      ]
    },
    {
      "cell_type": "markdown",
      "metadata": {
        "collapsed": true,
        "jupyter": {
          "outputs_hidden": true
        },
        "id": "Q1qHp869xm2d"
      },
      "source": [
        "Every character has a unicode `code point` - an integer that can be used to represent that character.\n",
        "\n",
        "If a computer is using unicode, it displays a requested character by following the unicode encodings of which `code point` refers to which character."
      ]
    },
    {
      "cell_type": "markdown",
      "metadata": {
        "id": "9Om8ZpDExm2e"
      },
      "source": [
        "### ORD & CHR"
      ]
    },
    {
      "cell_type": "markdown",
      "metadata": {
        "id": "i6FTx09xxm2e"
      },
      "source": [
        "<div class=\"alert alert-success\">\n",
        "<code>ord</code> returns the unicode code point for a one-character string.\n",
        "</div>\n",
        "\n",
        "<div class=\"alert alert-success\">\n",
        "<code>chr</code> returns the character encoding of a code point.\n",
        "</div>"
      ]
    },
    {
      "cell_type": "markdown",
      "metadata": {
        "id": "6oNxcWIMxm2e"
      },
      "source": [
        "### ord & chr examples"
      ]
    },
    {
      "cell_type": "code",
      "execution_count": 57,
      "metadata": {
        "id": "qxQfkoZdxm2e",
        "colab": {
          "base_uri": "https://localhost:8080/"
        },
        "outputId": "6e6599e2-b464-4b8a-be16-652aebcb6414"
      },
      "outputs": [
        {
          "output_type": "execute_result",
          "data": {
            "text/plain": [
              "97"
            ]
          },
          "metadata": {},
          "execution_count": 57
        }
      ],
      "source": [
        "ord('a')"
      ]
    },
    {
      "cell_type": "code",
      "execution_count": 58,
      "metadata": {
        "id": "rI184fTSxm2e",
        "colab": {
          "base_uri": "https://localhost:8080/",
          "height": 35
        },
        "outputId": "ca789db2-489a-47fd-c3aa-d94bb43be575"
      },
      "outputs": [
        {
          "output_type": "execute_result",
          "data": {
            "text/plain": [
              "'a'"
            ],
            "application/vnd.google.colaboratory.intrinsic+json": {
              "type": "string"
            }
          },
          "metadata": {},
          "execution_count": 58
        }
      ],
      "source": [
        "chr(97)"
      ]
    },
    {
      "cell_type": "code",
      "execution_count": 59,
      "metadata": {
        "id": "c2fb7Drrxm2e",
        "colab": {
          "base_uri": "https://localhost:8080/"
        },
        "outputId": "3296fa3a-2ee1-4b27-c9c1-667a55cfba28"
      },
      "outputs": [
        {
          "output_type": "execute_result",
          "data": {
            "text/plain": [
              "129322"
            ]
          },
          "metadata": {},
          "execution_count": 59
        }
      ],
      "source": [
        "ord('🤪')"
      ]
    },
    {
      "cell_type": "code",
      "execution_count": 60,
      "metadata": {
        "id": "LOO37i_yxm2e",
        "colab": {
          "base_uri": "https://localhost:8080/",
          "height": 35
        },
        "outputId": "73d07a91-04a6-4af2-d744-0d8e1b0b06b4"
      },
      "outputs": [
        {
          "output_type": "execute_result",
          "data": {
            "text/plain": [
              "'🤪'"
            ],
            "application/vnd.google.colaboratory.intrinsic+json": {
              "type": "string"
            }
          },
          "metadata": {},
          "execution_count": 60
        }
      ],
      "source": [
        "chr(129322)"
      ]
    },
    {
      "cell_type": "markdown",
      "metadata": {
        "id": "O8IHbe9hxm2e"
      },
      "source": [
        "### Inverses\n",
        "\n",
        "`ord` and `chr` are inverses of one another."
      ]
    },
    {
      "cell_type": "code",
      "execution_count": 61,
      "metadata": {
        "id": "a8FrCkZFxm2e",
        "colab": {
          "base_uri": "https://localhost:8080/"
        },
        "outputId": "ed96c369-ba82-4f13-d1fa-c7aa6cc4efcb"
      },
      "outputs": [
        {
          "output_type": "stream",
          "name": "stdout",
          "text": [
            "b b\n"
          ]
        }
      ],
      "source": [
        "inp = 'b'\n",
        "out = chr(ord(inp))\n",
        "\n",
        "assert inp == out\n",
        "print(inp, out)"
      ]
    },
    {
      "cell_type": "markdown",
      "metadata": {
        "id": "tc-ftTqqxm2e"
      },
      "source": [
        "### Activity: membership & chr/ord\n",
        "\n",
        "Complete the question in this Google Form ([https://forms.gle/NuZbzsY5ZSN5Ydso9](https://forms.gle/NuZbzsY5ZSN5Ydso9)) and then click submit.\n",
        "\n",
        "> Write a function `convert_with_offset` that will take a single input parameter`character` (a single character in as input).\n",
        "\n",
        "> Inside the function, the code will convert the input `character` to its unicode code point and then add an `offset` value of 50, returning that value as the output from the function.\n"
      ]
    },
    {
      "cell_type": "code",
      "execution_count": 62,
      "metadata": {
        "id": "eq9KZ1fFxm2e"
      },
      "outputs": [],
      "source": [
        "## YOUR CODE HERE\n",
        "def convert_with_offset(inp):\n",
        "  offset = ord(inp) + 50\n",
        "  return offset\n",
        "\n",
        "\n"
      ]
    },
    {
      "cell_type": "code",
      "execution_count": 63,
      "metadata": {
        "id": "GhzewaJHxm2e",
        "colab": {
          "base_uri": "https://localhost:8080/"
        },
        "outputId": "7287ca0b-3f3b-4155-a6de-4eeaa3c224c0"
      },
      "outputs": [
        {
          "output_type": "execute_result",
          "data": {
            "text/plain": [
              "147"
            ]
          },
          "metadata": {},
          "execution_count": 63
        }
      ],
      "source": [
        "convert_with_offset('a')"
      ]
    },
    {
      "cell_type": "code",
      "source": [
        "convert_with_offset(\"1\")"
      ],
      "metadata": {
        "colab": {
          "base_uri": "https://localhost:8080/"
        },
        "id": "7cAb2mVncyxl",
        "outputId": "3e099228-db9b-412d-a971-c1d8f3bbdb07"
      },
      "execution_count": 65,
      "outputs": [
        {
          "output_type": "execute_result",
          "data": {
            "text/plain": [
              "99"
            ]
          },
          "metadata": {},
          "execution_count": 65
        }
      ]
    },
    {
      "cell_type": "markdown",
      "metadata": {
        "id": "UFFPHdqixm2e"
      },
      "source": [
        "**END OF MATERIAL COVERED ON EXAM 1**"
      ]
    }
  ],
  "metadata": {
    "celltoolbar": "Slideshow",
    "kernelspec": {
      "display_name": "Python 3 (ipykernel)",
      "language": "python",
      "name": "python3"
    },
    "language_info": {
      "codemirror_mode": {
        "name": "ipython",
        "version": 3
      },
      "file_extension": ".py",
      "mimetype": "text/x-python",
      "name": "python",
      "nbconvert_exporter": "python",
      "pygments_lexer": "ipython3",
      "version": "3.11.8"
    },
    "rise": {
      "scroll": true
    },
    "colab": {
      "provenance": [],
      "include_colab_link": true
    }
  },
  "nbformat": 4,
  "nbformat_minor": 0
}