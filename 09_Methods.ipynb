{
  "cells": [
    {
      "cell_type": "markdown",
      "metadata": {
        "id": "view-in-github",
        "colab_type": "text"
      },
      "source": [
        "<a href=\"https://colab.research.google.com/github/lintco/COGS-18/blob/main/09_Methods.ipynb\" target=\"_parent\"><img src=\"https://colab.research.google.com/assets/colab-badge.svg\" alt=\"Open In Colab\"/></a>"
      ]
    },
    {
      "cell_type": "markdown",
      "metadata": {
        "id": "Xrdha9HGahr9"
      },
      "source": [
        "# Methods\n",
        "\n",
        "[![Open In Colab](https://colab.research.google.com/assets/colab-badge.svg)](https://colab.research.google.com/github/COGS18/LectureNotes-COGS18/blob/main/09-Methods.ipynb)"
      ]
    },
    {
      "cell_type": "markdown",
      "metadata": {
        "id": "k6xneyqlahr-"
      },
      "source": [
        "**Q&A**\n",
        "\n",
        "> Q: Does range just make a list of numbers?  \n",
        "> A: For simplest answer, yes. For a more nuanced answer, it's not *technically* a list but a range object. This is NOT a nuance I will test you on. You can think of it as a list of numbers.\n",
        "\n",
        "> Q: When is a good time to use loops and do you add break just to stop the loop?  \n",
        "> A: Any time you want code to run multiple times, a loop is the perfect solution! And, yup, break stops the loop. It can be helpful when debugging or when you want to stop a loop after you've found what you're looking for and don't need to look any longer."
      ]
    },
    {
      "cell_type": "markdown",
      "metadata": {
        "id": "Un-JJbEhahr-"
      },
      "source": [
        "**Course Announcements**\n",
        "\n",
        "Due this week:\n",
        "- VQ10 due Wed\n",
        "- CL5 due Fri\n",
        "- [Mid-course survey](https://forms.gle/QKU1Gkdf9jLwLvJo7) \"due\" (for extra credit) Friday - link also on Canvas assignment\n",
        "\n",
        "Notes:\n",
        "- Oral Exam weeks 7-10 slots released on Thursday; will send Canvas announcement\n",
        "- A4 now available - we're *just* starting this material; due *next* Sun"
      ]
    },
    {
      "cell_type": "markdown",
      "metadata": {
        "id": "RyrLdS_9ahr_"
      },
      "source": [
        "**Exam Summary**\n",
        "\n",
        "- Well done, overall!\n",
        "- Median: 86%\n",
        "- Perfect scores: 17 students (3%)!\n",
        "- You *will* be able to view your exams in PL (end-of-week)...however, due to the wifi issues, students are still taking the exam\n",
        "    - if you want to see them sooner/discuss struggles, ask a staff member in office hours :)"
      ]
    },
    {
      "cell_type": "markdown",
      "metadata": {
        "id": "wver-VLrahr_"
      },
      "source": [
        "## Methods\n",
        "\n",
        "First: review recent uncertainties & debugging\n",
        "\n",
        "- string, list, & dictionary\n",
        "- in place vs not in place\n",
        "- relationship to functions\n",
        "- objects\n",
        "    - attributes\n",
        "    - methods\n",
        "\n",
        "...and `try`/`except`"
      ]
    },
    {
      "cell_type": "markdown",
      "metadata": {
        "id": "wxa8J_g3ahr_"
      },
      "source": [
        "## Oral Exam: Collections\n",
        "\n",
        "> Given the code below, take a minute to determine how the code is working and then describe what the function accomplishes overall and the logic within the code…You can assume encoder is a function that has been previously defined that takes in a single character and returns a different character"
      ]
    },
    {
      "cell_type": "code",
      "execution_count": 1,
      "metadata": {
        "id": "SVAlaX1rahr_"
      },
      "outputs": [],
      "source": [
        "def custom_encoder(char, key=200):\n",
        "\n",
        "    custom_encodings = {\n",
        "        'a' : 'r',\n",
        "        'e' : 'p',\n",
        "        'i' : 'm',\n",
        "        'o' : 'n',\n",
        "        'u' : 's'\n",
        "    }\n",
        "\n",
        "    if char in custom_encodings:\n",
        "        output_char = custom_encodings[char]\n",
        "    else:\n",
        "        output_char = encoder(char=char, key=key)\n",
        "\n",
        "    return output_char"
      ]
    },
    {
      "cell_type": "markdown",
      "metadata": {
        "id": "DcLK5OGlahsA"
      },
      "source": [
        "If you struggled on the back-up oral exam question last week, a very similar question was discussed in Q1 of E1-Review (Thurs of week 4; 4/24)"
      ]
    },
    {
      "cell_type": "markdown",
      "metadata": {
        "id": "ecnUnvS7ahsA"
      },
      "source": [
        "## Debugging\n",
        "\n",
        "Let's say you were working on this lab question last week and you were confused...how do you go about doing this and debugging?\n",
        "\n",
        "![](https://github.com/COGS18/LectureNotes-COGS18/blob/main/img/CL4_encoder.png?raw=1)"
      ]
    },
    {
      "cell_type": "markdown",
      "metadata": {
        "id": "5seiG59sahsA"
      },
      "source": [
        "### First: the goal\n",
        "First, you need to understand what the *goal* of the function is...\n",
        "\n",
        "1. Take a string as input\n",
        "2. Convert all the characters in the string to some *other* character using ord() and this `key`\n",
        "3. Return that new string from the function"
      ]
    },
    {
      "cell_type": "markdown",
      "metadata": {
        "id": "4lPNhbhSahsA"
      },
      "source": [
        "### Second: expectations\n",
        "Second, I would want to figure out some possible inputs and expected outputs...given my understanding.\n",
        "\n",
        "Let's consider the string 'hi', with the default key of 200:"
      ]
    },
    {
      "cell_type": "code",
      "execution_count": 2,
      "metadata": {
        "id": "h5yQW7AgahsA",
        "outputId": "fa9c8f10-6f17-4620-ebcb-335472bbc49c",
        "colab": {
          "base_uri": "https://localhost:8080/"
        }
      },
      "outputs": [
        {
          "output_type": "execute_result",
          "data": {
            "text/plain": [
              "304"
            ]
          },
          "metadata": {},
          "execution_count": 2
        }
      ],
      "source": [
        "ord('h') + 200"
      ]
    },
    {
      "cell_type": "code",
      "execution_count": 3,
      "metadata": {
        "id": "AlIt6quaahsA",
        "outputId": "dc42a865-0c23-4731-a665-b3f88b4405dc",
        "colab": {
          "base_uri": "https://localhost:8080/",
          "height": 35
        }
      },
      "outputs": [
        {
          "output_type": "execute_result",
          "data": {
            "text/plain": [
              "'İ'"
            ],
            "application/vnd.google.colaboratory.intrinsic+json": {
              "type": "string"
            }
          },
          "metadata": {},
          "execution_count": 3
        }
      ],
      "source": [
        "chr(304)"
      ]
    },
    {
      "cell_type": "code",
      "execution_count": 4,
      "metadata": {
        "id": "uOpUChsCahsA",
        "outputId": "a6ced946-d9e6-4539-8abd-2493cd3df153",
        "colab": {
          "base_uri": "https://localhost:8080/"
        }
      },
      "outputs": [
        {
          "output_type": "execute_result",
          "data": {
            "text/plain": [
              "305"
            ]
          },
          "metadata": {},
          "execution_count": 4
        }
      ],
      "source": [
        "ord('i') + 200"
      ]
    },
    {
      "cell_type": "code",
      "execution_count": 5,
      "metadata": {
        "id": "Ir9lN6iZahsB",
        "outputId": "bd7f65b7-4b67-47f8-c78f-547b4ed474da",
        "colab": {
          "base_uri": "https://localhost:8080/",
          "height": 35
        }
      },
      "outputs": [
        {
          "output_type": "execute_result",
          "data": {
            "text/plain": [
              "'ı'"
            ],
            "application/vnd.google.colaboratory.intrinsic+json": {
              "type": "string"
            }
          },
          "metadata": {},
          "execution_count": 5
        }
      ],
      "source": [
        "chr(305)"
      ]
    },
    {
      "cell_type": "markdown",
      "metadata": {
        "id": "Tv7yuRo7ahsB"
      },
      "source": [
        "so...with an input and the default key, 'hi' I'd expect the output 'İı'"
      ]
    },
    {
      "cell_type": "markdown",
      "metadata": {
        "id": "8QrdvDqtahsB"
      },
      "source": [
        "...but what about a nondefault key of say 300..."
      ]
    },
    {
      "cell_type": "code",
      "execution_count": 6,
      "metadata": {
        "id": "4YzjsS3_ahsB",
        "outputId": "ce7047e5-6ed5-46cc-b953-c4db534fbee7",
        "colab": {
          "base_uri": "https://localhost:8080/",
          "height": 35
        }
      },
      "outputs": [
        {
          "output_type": "execute_result",
          "data": {
            "text/plain": [
              "'Ɣ'"
            ],
            "application/vnd.google.colaboratory.intrinsic+json": {
              "type": "string"
            }
          },
          "metadata": {},
          "execution_count": 6
        }
      ],
      "source": [
        "chr(ord('h') + 300)"
      ]
    },
    {
      "cell_type": "code",
      "execution_count": 7,
      "metadata": {
        "id": "zMfaZp-KahsB",
        "outputId": "ee2921cb-7259-4bce-a2cd-e42b52fc3fa7",
        "colab": {
          "base_uri": "https://localhost:8080/",
          "height": 35
        }
      },
      "outputs": [
        {
          "output_type": "execute_result",
          "data": {
            "text/plain": [
              "'ƕ'"
            ],
            "application/vnd.google.colaboratory.intrinsic+json": {
              "type": "string"
            }
          },
          "metadata": {},
          "execution_count": 7
        }
      ],
      "source": [
        "chr(ord('i') + 300)"
      ]
    },
    {
      "cell_type": "markdown",
      "metadata": {
        "id": "DU3kPXPnahsB"
      },
      "source": [
        "so with an input of 'hi' and a key of 300, I'd expect an output 'Ɣƕ'"
      ]
    },
    {
      "cell_type": "markdown",
      "metadata": {
        "id": "6axxfjkSahsB"
      },
      "source": [
        "### Third: write some code\n",
        "\n",
        "Two approaches:\n",
        "- parts -> whole\n",
        "- all at once -> debug"
      ]
    },
    {
      "cell_type": "markdown",
      "metadata": {
        "id": "jQfx0LyJahsB"
      },
      "source": [
        "**Option A**: Get *parts* of it working at a time...using `print()` statements to check understanding"
      ]
    },
    {
      "cell_type": "code",
      "execution_count": 9,
      "metadata": {
        "id": "lg0fQRmbahsB"
      },
      "outputs": [],
      "source": [
        "# loop through a string\n",
        "def encoder(input_string, key=200):\n",
        "  output_string= \"\"\n",
        "  for char in input_string:\n",
        "    new_value=ord(char)+key\n",
        "    new_character=chr(new_value)\n",
        "    output_string= output_string + new_character\n",
        "  return output_string\n",
        "\n"
      ]
    },
    {
      "cell_type": "code",
      "execution_count": 10,
      "metadata": {
        "id": "r2SivKxOahsB",
        "colab": {
          "base_uri": "https://localhost:8080/",
          "height": 35
        },
        "outputId": "d3194423-dcd0-4b1e-d6da-a98d13a9ccd3"
      },
      "outputs": [
        {
          "output_type": "execute_result",
          "data": {
            "text/plain": [
              "'İı'"
            ],
            "application/vnd.google.colaboratory.intrinsic+json": {
              "type": "string"
            }
          },
          "metadata": {},
          "execution_count": 10
        }
      ],
      "source": [
        "# for each letter, get the \"new\" character\n",
        "encoder(\"hi\", key=200)"
      ]
    },
    {
      "cell_type": "code",
      "execution_count": null,
      "metadata": {
        "id": "Lm_liSdXahsB"
      },
      "outputs": [],
      "source": [
        "# add each new letter to a growing string - return that string"
      ]
    },
    {
      "cell_type": "code",
      "execution_count": null,
      "metadata": {
        "id": "QdYXrrtiahsB"
      },
      "outputs": [],
      "source": [
        "# work for other keys?"
      ]
    },
    {
      "cell_type": "code",
      "execution_count": 11,
      "metadata": {
        "id": "R4NzZ1y_ahsB",
        "colab": {
          "base_uri": "https://localhost:8080/",
          "height": 35
        },
        "outputId": "02ec0166-247c-46ff-b1a7-338584f9ea20"
      },
      "outputs": [
        {
          "output_type": "execute_result",
          "data": {
            "text/plain": [
              "'İı'"
            ],
            "application/vnd.google.colaboratory.intrinsic+json": {
              "type": "string"
            }
          },
          "metadata": {},
          "execution_count": 11
        }
      ],
      "source": [
        "# using this to test\n",
        "encoder('hi')"
      ]
    },
    {
      "cell_type": "markdown",
      "metadata": {
        "id": "CgaPfBFUahsB"
      },
      "source": [
        "**Option B**: Try to write it all at once...and then debug"
      ]
    },
    {
      "cell_type": "code",
      "execution_count": null,
      "metadata": {
        "id": "WdBIvuuDahsB"
      },
      "outputs": [],
      "source": [
        "# THIS HAS ERRORS WE'RE GOING TO DEBUG\n",
        "def encoder(input_string, key=200):\n",
        "\n",
        "    for char in input_string:\n",
        "        output_string = chr(ord(char) + 200)\n",
        "\n",
        "    return output_string"
      ]
    },
    {
      "cell_type": "code",
      "execution_count": null,
      "metadata": {
        "id": "acStiLfTahsB"
      },
      "outputs": [],
      "source": [
        "# we'll debug here so you can see the \"original\"\n",
        "def encoder(input_string, key=200):\n",
        "\n",
        "    for char in input_string:\n",
        "        output_string = chr(ord(char) + 200)\n",
        "\n",
        "    return output_string"
      ]
    },
    {
      "cell_type": "code",
      "execution_count": null,
      "metadata": {
        "id": "EhS-UHAGahsB"
      },
      "outputs": [],
      "source": [
        "# using this to test\n",
        "encoder('hi')"
      ]
    },
    {
      "cell_type": "markdown",
      "metadata": {
        "collapsed": true,
        "jupyter": {
          "outputs_hidden": true
        },
        "id": "Q6s4dWCPahsC"
      },
      "source": [
        "## Methods"
      ]
    },
    {
      "cell_type": "markdown",
      "metadata": {
        "id": "kS609k-mahsC"
      },
      "source": [
        "<div class=\"alert alert-success\">\n",
        "<b>Methods</b> are functions that are defined and called directly on an object.\n",
        "</div>\n",
        "\n",
        "<div class=\"alert alert-success\">\n",
        "For our purposes, <b>objects</b> are any data variable.\n",
        "</div>"
      ]
    },
    {
      "cell_type": "markdown",
      "metadata": {
        "id": "j0iO1zvCahsC"
      },
      "source": [
        "### Method Examples\n",
        "\n",
        "A method is a function applied directly to the object you call it on."
      ]
    },
    {
      "cell_type": "markdown",
      "metadata": {
        "id": "ykiTXRtkahsC"
      },
      "source": [
        "General form of a method:\n",
        "\n",
        "```python\n",
        "object.method()\n",
        "```"
      ]
    },
    {
      "cell_type": "markdown",
      "metadata": {
        "id": "3FcQDyI3ahsC"
      },
      "source": [
        "In other words: methods \"belong to\" an object.\n",
        "\n",
        "The method `append()` is called directly on the list `my_list`"
      ]
    },
    {
      "cell_type": "code",
      "execution_count": 12,
      "metadata": {
        "id": "BzAwaT5bahsC",
        "colab": {
          "base_uri": "https://localhost:8080/"
        },
        "outputId": "2a8e4635-f37e-46d5-ec85-58f0d9c72dfc"
      },
      "outputs": [
        {
          "output_type": "stream",
          "name": "stdout",
          "text": [
            "[1, 2, 3, 4]\n"
          ]
        }
      ],
      "source": [
        "# The `append` method, defined on lists\n",
        "my_list = [1, 2, 3]\n",
        "my_list.append(4)\n",
        "print(my_list)"
      ]
    },
    {
      "cell_type": "code",
      "execution_count": 13,
      "metadata": {
        "id": "eK3dzAVdahsC",
        "colab": {
          "base_uri": "https://localhost:8080/",
          "height": 180
        },
        "outputId": "4cc4003f-af70-4e6b-85ab-86a9841b578d"
      },
      "outputs": [
        {
          "output_type": "error",
          "ename": "AttributeError",
          "evalue": "'str' object has no attribute 'append'",
          "traceback": [
            "\u001b[0;31m---------------------------------------------------------------------------\u001b[0m",
            "\u001b[0;31mAttributeError\u001b[0m                            Traceback (most recent call last)",
            "\u001b[0;32m<ipython-input-13-b99e95dcd8d7>\u001b[0m in \u001b[0;36m<cell line: 0>\u001b[0;34m()\u001b[0m\n\u001b[1;32m      2\u001b[0m \u001b[0;31m# this will error with a string\u001b[0m\u001b[0;34m\u001b[0m\u001b[0;34m\u001b[0m\u001b[0m\n\u001b[1;32m      3\u001b[0m \u001b[0mmy_string\u001b[0m \u001b[0;34m=\u001b[0m \u001b[0;34m'cogs18'\u001b[0m\u001b[0;34m\u001b[0m\u001b[0;34m\u001b[0m\u001b[0m\n\u001b[0;32m----> 4\u001b[0;31m \u001b[0mmy_string\u001b[0m\u001b[0;34m.\u001b[0m\u001b[0mappend\u001b[0m\u001b[0;34m(\u001b[0m\u001b[0;34m'!'\u001b[0m\u001b[0;34m)\u001b[0m\u001b[0;34m\u001b[0m\u001b[0;34m\u001b[0m\u001b[0m\n\u001b[0m",
            "\u001b[0;31mAttributeError\u001b[0m: 'str' object has no attribute 'append'"
          ]
        }
      ],
      "source": [
        "# append is a method for lists\n",
        "# this will error with a string\n",
        "my_string = 'cogs18'\n",
        "my_string.append('!')"
      ]
    },
    {
      "cell_type": "markdown",
      "metadata": {
        "id": "B7Ut92hMahsC"
      },
      "source": [
        "### Available methods:\n",
        "\n",
        "- [string methods](https://www.w3schools.com/python/python_ref_string.asp)\n",
        "    - `.lower()`, `.upper()`, `.capitalize()`, etc.\n",
        "- [list methods](https://www.w3schools.com/python/python_ref_list.asp)\n",
        "    - `.append()`, `sort()`, `reverse()`, etc.  \n",
        "- [dictionary methods](https://www.w3schools.com/python/python_ref_dictionary.asp)\n",
        "    - `.keys()`, `.values()`, `.items()`, etc."
      ]
    },
    {
      "cell_type": "code",
      "source": [],
      "metadata": {
        "id": "kAMAtvk3igl7"
      },
      "execution_count": null,
      "outputs": []
    },
    {
      "cell_type": "markdown",
      "metadata": {
        "id": "r0qGmwlXahsF"
      },
      "source": [
        "### Methods: In Place vs Not In Place"
      ]
    },
    {
      "cell_type": "markdown",
      "metadata": {
        "id": "nw-gX7yOahsF"
      },
      "source": [
        "<div class=\"alert alert-success\">\n",
        "Some methods update the object directly (in place), whereas others return an updated version of the input.\n",
        "</div>"
      ]
    },
    {
      "cell_type": "markdown",
      "metadata": {
        "id": "n1qkLS2xahsF"
      },
      "source": [
        "### List methods that are in place"
      ]
    },
    {
      "cell_type": "code",
      "execution_count": 14,
      "metadata": {
        "scrolled": true,
        "id": "4LQo6_tIahsF",
        "colab": {
          "base_uri": "https://localhost:8080/"
        },
        "outputId": "08b52b04-1582-4de5-e3a0-6f7483e234b7"
      },
      "outputs": [
        {
          "output_type": "stream",
          "name": "stdout",
          "text": [
            "['c', 'b', 'a']\n"
          ]
        }
      ],
      "source": [
        "# Reverse a list\n",
        "my_list = ['a', 'b', 'c']\n",
        "my_list.reverse()\n",
        "\n",
        "print(my_list)"
      ]
    },
    {
      "cell_type": "code",
      "execution_count": 15,
      "metadata": {
        "id": "4aSVzVtLahsF",
        "colab": {
          "base_uri": "https://localhost:8080/"
        },
        "outputId": "ad7883bd-fd0e-42b8-8b6e-60a7fda1963a"
      },
      "outputs": [
        {
          "output_type": "stream",
          "name": "stdout",
          "text": [
            "[-1, 3, 13]\n"
          ]
        }
      ],
      "source": [
        "# Sort a list\n",
        "my_numbers = [13, 3, -1]\n",
        "my_numbers.sort()\n",
        "\n",
        "print(my_numbers)"
      ]
    },
    {
      "cell_type": "markdown",
      "metadata": {
        "id": "S6LcB6_xahsF"
      },
      "source": [
        "### Dictionary methods that are not in place"
      ]
    },
    {
      "cell_type": "code",
      "execution_count": 16,
      "metadata": {
        "id": "3E310XWNahsF"
      },
      "outputs": [],
      "source": [
        "car = {'make': 'Hyundai',\n",
        "       'model': 'Santa Fe',\n",
        "       'year': 2009}"
      ]
    },
    {
      "cell_type": "code",
      "execution_count": 17,
      "metadata": {
        "id": "-DVdKYI_ahsF",
        "colab": {
          "base_uri": "https://localhost:8080/"
        },
        "outputId": "864b3bcb-14fb-416b-9c20-f6356ae53728"
      },
      "outputs": [
        {
          "output_type": "execute_result",
          "data": {
            "text/plain": [
              "dict_keys(['make', 'model', 'year'])"
            ]
          },
          "metadata": {},
          "execution_count": 17
        }
      ],
      "source": [
        "# Return the keys in the dictionary\n",
        "out = car.keys()\n",
        "out"
      ]
    },
    {
      "cell_type": "code",
      "execution_count": 18,
      "metadata": {
        "id": "ZgnVwzucahsF",
        "colab": {
          "base_uri": "https://localhost:8080/"
        },
        "outputId": "9147e09a-c1d7-4166-d8b8-2b5d994f13ba"
      },
      "outputs": [
        {
          "output_type": "execute_result",
          "data": {
            "text/plain": [
              "{'make': 'Hyundai', 'model': 'Santa Fe', 'year': 2009}"
            ]
          },
          "metadata": {},
          "execution_count": 18
        }
      ],
      "source": [
        "# car has not changed\n",
        "car"
      ]
    },
    {
      "cell_type": "code",
      "execution_count": 19,
      "metadata": {
        "id": "n7Mcju8hahsF",
        "colab": {
          "base_uri": "https://localhost:8080/"
        },
        "outputId": "155c96b7-627b-40a1-c4a9-e165e6bc8503"
      },
      "outputs": [
        {
          "output_type": "execute_result",
          "data": {
            "text/plain": [
              "dict_values(['Hyundai', 'Santa Fe', 2009])"
            ]
          },
          "metadata": {},
          "execution_count": 19
        }
      ],
      "source": [
        "# Return the values in the dicionary\n",
        "car.values()"
      ]
    },
    {
      "cell_type": "markdown",
      "metadata": {
        "id": "KiME25m4ahsF"
      },
      "source": [
        "### Correspondance Between Functions & Methods"
      ]
    },
    {
      "cell_type": "markdown",
      "metadata": {
        "id": "CKKgadKvahsF"
      },
      "source": [
        "All methods are functions. Methods are special functions *attached* to a variable type. All functions are NOT methods.\n",
        "\n",
        "Note that:\n",
        "\n",
        "```python\n",
        "my_variable.function_call()\n",
        "```\n",
        "\n",
        "acts like:\n",
        "\n",
        "```python\n",
        "function_call(my_variable)\n",
        "```\n",
        "\n",
        "A function that we can call directly on a variable (a method) acts like a shortcut for passing that variable into a function."
      ]
    },
    {
      "cell_type": "markdown",
      "metadata": {
        "id": "aF7biiIuahsF"
      },
      "source": [
        "### Activity: Methods\n",
        "\n",
        "Please complete the two questions here: [https://forms.gle/oeH6B6fSpvj6jNHk7](https://forms.gle/oeH6B6fSpvj6jNHk7). For these, best to *read the code and think* before trying the code out and getting the answer.\n",
        "\n",
        "You are encouraged to:\n",
        "- talk to one another!\n",
        "- ask each other questions\n",
        "- ask us questions"
      ]
    },
    {
      "cell_type": "code",
      "source": [
        "inputs = ['fIx', 'tYpiNg', 'lIkE', 'tHiS']\n",
        "output = ''\n",
        "\n",
        "for element in inputs:\n",
        "    output = output + element.lower() + ' '\n",
        "\n",
        "output.capitalize()"
      ],
      "metadata": {
        "colab": {
          "base_uri": "https://localhost:8080/",
          "height": 35
        },
        "id": "b6QNnJNpkE8x",
        "outputId": "17247624-39a5-4fc1-e0e4-0af66f05a603"
      },
      "execution_count": 20,
      "outputs": [
        {
          "output_type": "execute_result",
          "data": {
            "text/plain": [
              "'Fix typing like this '"
            ],
            "application/vnd.google.colaboratory.intrinsic+json": {
              "type": "string"
            }
          },
          "metadata": {},
          "execution_count": 20
        }
      ]
    },
    {
      "cell_type": "markdown",
      "metadata": {
        "id": "42LCTOUUahsF"
      },
      "source": [
        "### `.items()`: Using dictionary methods...to loop"
      ]
    },
    {
      "cell_type": "code",
      "execution_count": 21,
      "metadata": {
        "scrolled": true,
        "id": "NP56J5AcahsG",
        "colab": {
          "base_uri": "https://localhost:8080/"
        },
        "outputId": "07e2cc15-c33e-4a14-fd49-247032b02759"
      },
      "outputs": [
        {
          "output_type": "stream",
          "name": "stdout",
          "text": [
            "Loop Iteration:\n",
            "make\n",
            "Hyundai\n",
            "Loop Iteration:\n",
            "model\n",
            "Santa Fe\n",
            "Loop Iteration:\n",
            "year\n",
            "2009\n"
          ]
        }
      ],
      "source": [
        "for key, val in car.items():\n",
        "    print('Loop Iteration:')\n",
        "    print(key)\n",
        "    print(val)"
      ]
    },
    {
      "cell_type": "markdown",
      "metadata": {
        "id": "up8CbhCtahsG"
      },
      "source": [
        "### Activity: `.items()`\n",
        "\n",
        "Include your code for this question in this form: [https://forms.gle/EmZwrUBVD6KkVHQd9](https://forms.gle/EmZwrUBVD6KkVHQd9)\n",
        "\n",
        "> Can you re-write this function (accomplishing the same task!) using `.items()`:\n",
        "\n",
        "```python\n",
        "def passing_students(scores_dict):\n",
        "    passed_students = []\n",
        "    \n",
        "    for student in scores_dict:\n",
        "        if scores_dict[student] >= passing_score:\n",
        "            passed_students.append(student)\n",
        "\n",
        "    return passed_students\n",
        "```\n",
        "\n",
        "Notes:\n",
        "- We initially drafted some of this code in the Loops notes.\n",
        "- Including `students` below so you don't have to type out a dictionary with students' names and scores"
      ]
    },
    {
      "cell_type": "code",
      "source": [],
      "metadata": {
        "id": "KHzBTNwykkds"
      },
      "execution_count": null,
      "outputs": []
    },
    {
      "cell_type": "code",
      "execution_count": 33,
      "metadata": {
        "id": "cVEwpXEvahsG"
      },
      "outputs": [],
      "source": [
        "scores_dict = {\n",
        "    'Alondra': 85,\n",
        "    'Holly': 58,\n",
        "    'Brooke': 92,\n",
        "    'Pauline': 47,\n",
        "    'Minqi': 76\n",
        "}"
      ]
    },
    {
      "cell_type": "code",
      "execution_count": 34,
      "metadata": {
        "id": "cfxOnqffahsG"
      },
      "outputs": [],
      "source": [
        "def passing_students(scores_dict, passing_score):\n",
        "    passed_students = []\n",
        "    for key, val in scores_dict.items():\n",
        "      if val>=passing_score:\n",
        "        passed_students.append(key)\n",
        "    return passed_students"
      ]
    },
    {
      "cell_type": "code",
      "execution_count": 35,
      "metadata": {
        "id": "7RpyhVm6ahsG",
        "colab": {
          "base_uri": "https://localhost:8080/"
        },
        "outputId": "1127b3dd-7812-4c00-9dc6-5ad5dfcb6dd3"
      },
      "outputs": [
        {
          "output_type": "execute_result",
          "data": {
            "text/plain": [
              "['Alondra', 'Brooke', 'Minqi']"
            ]
          },
          "metadata": {},
          "execution_count": 35
        }
      ],
      "source": [
        "passing_students(scores_dict, 60)"
      ]
    },
    {
      "cell_type": "code",
      "source": [
        "passing_students(scores_dict, 50)"
      ],
      "metadata": {
        "colab": {
          "base_uri": "https://localhost:8080/"
        },
        "id": "4aaihFdKm1Gg",
        "outputId": "64365ad0-43e7-4524-f84a-858131a6bd6d"
      },
      "execution_count": 36,
      "outputs": [
        {
          "output_type": "execute_result",
          "data": {
            "text/plain": [
              "['Alondra', 'Holly', 'Brooke', 'Minqi']"
            ]
          },
          "metadata": {},
          "execution_count": 36
        }
      ]
    },
    {
      "cell_type": "markdown",
      "metadata": {
        "id": "sMTQ0lYgahsG"
      },
      "source": [
        "## `try`/`except`\n",
        "\n",
        "What if you want Python to try to run some code...but do something else if it encounters an exception?\n",
        "\n",
        "Note: `input()` allows you to get input from a user."
      ]
    },
    {
      "cell_type": "code",
      "execution_count": 37,
      "metadata": {
        "id": "JmLSFFbTahsG"
      },
      "outputs": [],
      "source": [
        "def get_an_input_integer():\n",
        "    in_string = input('Enter your favorite whole number:\\n')\n",
        "\n",
        "    try:\n",
        "        in_integer = int(in_string)\n",
        "    except:\n",
        "        in_integer = None\n",
        "    return in_integer"
      ]
    },
    {
      "cell_type": "code",
      "execution_count": 41,
      "metadata": {
        "scrolled": true,
        "id": "3IPoKzFDahsG",
        "colab": {
          "base_uri": "https://localhost:8080/"
        },
        "outputId": "50c7df46-3f06-44a3-a020-b2407feb2951"
      },
      "outputs": [
        {
          "name": "stdout",
          "output_type": "stream",
          "text": [
            "Enter your favorite whole number:\n",
            "3\n"
          ]
        },
        {
          "output_type": "execute_result",
          "data": {
            "text/plain": [
              "3"
            ]
          },
          "metadata": {},
          "execution_count": 41
        }
      ],
      "source": [
        "get_an_input_integer()"
      ]
    },
    {
      "cell_type": "markdown",
      "metadata": {
        "id": "KDAtScE5ahsG"
      },
      "source": [
        "What would this look like without a try/except?"
      ]
    },
    {
      "cell_type": "code",
      "execution_count": 42,
      "metadata": {
        "id": "E4thqETRahsG"
      },
      "outputs": [],
      "source": [
        "def get_an_input_integer_wo():\n",
        "    in_string = input('Enter your favorite whole number:\\n')\n",
        "    in_integer = int(in_string)\n",
        "    return in_integer"
      ]
    },
    {
      "cell_type": "code",
      "execution_count": 43,
      "metadata": {
        "scrolled": true,
        "id": "lG57iDqYahsG",
        "colab": {
          "base_uri": "https://localhost:8080/",
          "height": 287
        },
        "outputId": "a380ee3f-35bb-49e1-f2dd-419544e19247"
      },
      "outputs": [
        {
          "name": "stdout",
          "output_type": "stream",
          "text": [
            "Enter your favorite whole number:\n",
            "lynnea\n"
          ]
        },
        {
          "output_type": "error",
          "ename": "ValueError",
          "evalue": "invalid literal for int() with base 10: 'lynnea'",
          "traceback": [
            "\u001b[0;31m---------------------------------------------------------------------------\u001b[0m",
            "\u001b[0;31mValueError\u001b[0m                                Traceback (most recent call last)",
            "\u001b[0;32m<ipython-input-43-bc06049fd7e1>\u001b[0m in \u001b[0;36m<cell line: 0>\u001b[0;34m()\u001b[0m\n\u001b[0;32m----> 1\u001b[0;31m \u001b[0mget_an_input_integer_wo\u001b[0m\u001b[0;34m(\u001b[0m\u001b[0;34m)\u001b[0m\u001b[0;34m\u001b[0m\u001b[0;34m\u001b[0m\u001b[0m\n\u001b[0m",
            "\u001b[0;32m<ipython-input-42-67906b096161>\u001b[0m in \u001b[0;36mget_an_input_integer_wo\u001b[0;34m()\u001b[0m\n\u001b[1;32m      1\u001b[0m \u001b[0;32mdef\u001b[0m \u001b[0mget_an_input_integer_wo\u001b[0m\u001b[0;34m(\u001b[0m\u001b[0;34m)\u001b[0m\u001b[0;34m:\u001b[0m\u001b[0;34m\u001b[0m\u001b[0;34m\u001b[0m\u001b[0m\n\u001b[1;32m      2\u001b[0m     \u001b[0min_string\u001b[0m \u001b[0;34m=\u001b[0m \u001b[0minput\u001b[0m\u001b[0;34m(\u001b[0m\u001b[0;34m'Enter your favorite whole number:\\n'\u001b[0m\u001b[0;34m)\u001b[0m\u001b[0;34m\u001b[0m\u001b[0;34m\u001b[0m\u001b[0m\n\u001b[0;32m----> 3\u001b[0;31m     \u001b[0min_integer\u001b[0m \u001b[0;34m=\u001b[0m \u001b[0mint\u001b[0m\u001b[0;34m(\u001b[0m\u001b[0min_string\u001b[0m\u001b[0;34m)\u001b[0m\u001b[0;34m\u001b[0m\u001b[0;34m\u001b[0m\u001b[0m\n\u001b[0m\u001b[1;32m      4\u001b[0m     \u001b[0;32mreturn\u001b[0m \u001b[0min_integer\u001b[0m\u001b[0;34m\u001b[0m\u001b[0;34m\u001b[0m\u001b[0m\n",
            "\u001b[0;31mValueError\u001b[0m: invalid literal for int() with base 10: 'lynnea'"
          ]
        }
      ],
      "source": [
        "get_an_input_integer_wo()"
      ]
    },
    {
      "cell_type": "markdown",
      "source": [],
      "metadata": {
        "id": "M8EFx3hwoq2r"
      }
    },
    {
      "cell_type": "markdown",
      "metadata": {
        "id": "8tKyTxC_ahsG"
      },
      "source": [
        "### Think-Pair-Share\n",
        "\n",
        "How do these (`try`/`except`) differ from a conditional?\n",
        "\n",
        "- try/except blocks can handle the unexpected\n",
        "- they only hand one situation and don't return anything for the rest\n",
        "- conditionals test for True or False\n",
        "- only one code block executes in a conditional\n",
        "  - we have the ability to run both for the try/except block\n",
        "  - the output will only be one thing, but the code will try at least at first"
      ]
    },
    {
      "cell_type": "code",
      "execution_count": null,
      "metadata": {
        "id": "dVWcQJN9ahsG"
      },
      "outputs": [],
      "source": [
        "# if you want to test some ideas out..."
      ]
    },
    {
      "cell_type": "markdown",
      "metadata": {
        "id": "yTSAy6ohahsG"
      },
      "source": [
        "## Where are we going?\n",
        "\n",
        "**`class`** - creating our own object types!\n",
        "- attributes\n",
        "- methods <- we know what these are now!\n",
        "\n",
        "So let's talk about attributes..."
      ]
    },
    {
      "cell_type": "markdown",
      "metadata": {
        "id": "sxpFVGspahsG"
      },
      "source": [
        "## Objects\n",
        "\n",
        "<div class=\"alert alert-success\">\n",
        "Objects are an organization of data (called <b>attributes</b>), with associated code to operate on that data (functions defined on the objects, called <b>methods</b>).\n",
        "</div>"
      ]
    },
    {
      "cell_type": "code",
      "execution_count": null,
      "metadata": {
        "editable": true,
        "tags": [
          "remove-input"
        ],
        "id": "sK7zp8zXahsG",
        "outputId": "ba3feea7-acb8-4a44-d3fd-e8365cc2a175"
      },
      "outputs": [
        {
          "data": {
            "text/html": [
              "<iframe id=\"kaltura_player\" type=\"text/javascript\"  src='https://cdnapisec.kaltura.com/p/2323111/embedPlaykitJs/uiconf_id/52706832?iframeembed=true&entry_id=1_anfrod4d&config[provider]={\"widgetId\":\"1_qkm0gz4j\"}'  style=\"width: 800px;height: 450px;border: 0;\" allowfullscreen webkitallowfullscreen mozAllowFullScreen allow=\"autoplay *; fullscreen *; encrypted-media *\" sandbox=\"allow-forms allow-same-origin allow-scripts allow-top-navigation allow-pointer-lock allow-popups allow-modals allow-orientation-lock allow-popups-to-escape-sandbox allow-presentation allow-top-navigation-by-user-activation\" title=\"Kaltura Player\"></iframe>\n"
            ],
            "text/plain": [
              "<IPython.core.display.HTML object>"
            ]
          },
          "metadata": {},
          "output_type": "display_data"
        }
      ],
      "source": [
        "%%HTML\n",
        "<iframe id=\"kaltura_player\" type=\"text/javascript\"  src='https://cdnapisec.kaltura.com/p/2323111/embedPlaykitJs/uiconf_id/52706832?iframeembed=true&entry_id=1_anfrod4d&config[provider]={\"widgetId\":\"1_qkm0gz4j\"}'  style=\"width: 800px;height: 450px;border: 0;\" allowfullscreen webkitallowfullscreen mozAllowFullScreen allow=\"autoplay *; fullscreen *; encrypted-media *\" sandbox=\"allow-forms allow-same-origin allow-scripts allow-top-navigation allow-pointer-lock allow-popups allow-modals allow-orientation-lock allow-popups-to-escape-sandbox allow-presentation allow-top-navigation-by-user-activation\" title=\"Kaltura Player\"></iframe>"
      ]
    },
    {
      "cell_type": "code",
      "execution_count": 44,
      "metadata": {
        "id": "ahkasqSoahsG"
      },
      "outputs": [],
      "source": [
        "from datetime import date"
      ]
    },
    {
      "cell_type": "code",
      "execution_count": 48,
      "metadata": {
        "id": "DZWZIkYOahsG",
        "colab": {
          "base_uri": "https://localhost:8080/"
        },
        "outputId": "061564f9-2aea-422e-81ab-be7abeaf8b54"
      },
      "outputs": [
        {
          "output_type": "stream",
          "name": "stdout",
          "text": [
            "1988-09-29\n"
          ]
        }
      ],
      "source": [
        "my_date = date(month=9, day=29, year=1988)\n",
        "print(my_date)"
      ]
    },
    {
      "cell_type": "code",
      "execution_count": 46,
      "metadata": {
        "id": "AY1PYxQIahsG",
        "colab": {
          "base_uri": "https://localhost:8080/"
        },
        "outputId": "ed4678da-2b04-431c-d094-e01ce890534d"
      },
      "outputs": [
        {
          "output_type": "execute_result",
          "data": {
            "text/plain": [
              "datetime.date"
            ]
          },
          "metadata": {},
          "execution_count": 46
        }
      ],
      "source": [
        "type(my_date)"
      ]
    },
    {
      "cell_type": "code",
      "source": [
        "print(date(month=8, day=3, year=2004))"
      ],
      "metadata": {
        "colab": {
          "base_uri": "https://localhost:8080/"
        },
        "id": "DlNzMelNpTV1",
        "outputId": "76565ad1-a110-4e59-ba48-f0435f43cf9b"
      },
      "execution_count": 47,
      "outputs": [
        {
          "output_type": "stream",
          "name": "stdout",
          "text": [
            "2004-08-03\n"
          ]
        }
      ]
    },
    {
      "cell_type": "markdown",
      "metadata": {
        "id": "kXRRyFoLahsG"
      },
      "source": [
        "### Attributes\n",
        "\n",
        "Attributes look up & return information about the object.\n",
        "\n",
        "**attributes** maintain the object's state, simply returning information about the object to you"
      ]
    },
    {
      "cell_type": "code",
      "execution_count": 49,
      "metadata": {
        "id": "pfeODkMQahsG",
        "colab": {
          "base_uri": "https://localhost:8080/"
        },
        "outputId": "018ba3e5-a8aa-42af-8af7-14d49e323c12"
      },
      "outputs": [
        {
          "output_type": "execute_result",
          "data": {
            "text/plain": [
              "29"
            ]
          },
          "metadata": {},
          "execution_count": 49
        }
      ],
      "source": [
        "my_date.day"
      ]
    },
    {
      "cell_type": "markdown",
      "metadata": {
        "id": "rNeZmr3OahsH"
      },
      "source": [
        "### Methods\n",
        "\n",
        "These are _functions_ that *belong* to and operate on the object directly.\n",
        "\n",
        "**methods** modify the object's state"
      ]
    },
    {
      "cell_type": "code",
      "execution_count": 54,
      "metadata": {
        "id": "2CA2c5i5ahsH"
      },
      "outputs": [],
      "source": [
        "# Method to return what day of the week the date is\n",
        "my_date.weekday?"
      ]
    },
    {
      "cell_type": "markdown",
      "metadata": {
        "id": "upttMCFuahsH"
      },
      "source": [
        "### Activity: Methods\n",
        "\n",
        "Complete the Google Form questions here: [https://forms.gle/JLzC4cgFmhs2Z8h27](https://forms.gle/JLzC4cgFmhs2Z8h27)\n",
        "\n",
        "Feel free to chat with and ask questions of your neighbors!"
      ]
    },
    {
      "cell_type": "markdown",
      "metadata": {
        "id": "Ff_sSpuBahsH"
      },
      "source": [
        "### Objects Summary\n",
        "\n",
        "- Objects allow for data (attributes) and functions (methods) to be organized together\n",
        "    - methods operate on the object type (modify state)\n",
        "    - attributes store and return information (data) about the object (maintain state)\n",
        "- `dir()` returns methods & attributes for an object\n",
        "- Syntax:\n",
        "    - `obj.method()`\n",
        "    - `obj.attribute`\n",
        "- `date` and `datetime` are two types of objects in Python"
      ]
    }
  ],
  "metadata": {
    "celltoolbar": "Slideshow",
    "kernelspec": {
      "display_name": "Python 3 (ipykernel)",
      "language": "python",
      "name": "python3"
    },
    "language_info": {
      "codemirror_mode": {
        "name": "ipython",
        "version": 3
      },
      "file_extension": ".py",
      "mimetype": "text/x-python",
      "name": "python",
      "nbconvert_exporter": "python",
      "pygments_lexer": "ipython3",
      "version": "3.11.8"
    },
    "rise": {
      "scroll": true
    },
    "colab": {
      "provenance": [],
      "include_colab_link": true
    }
  },
  "nbformat": 4,
  "nbformat_minor": 0
}