{
  "cells": [
    {
      "cell_type": "markdown",
      "metadata": {
        "id": "view-in-github",
        "colab_type": "text"
      },
      "source": [
        "<a href=\"https://colab.research.google.com/github/lintco/COGS-18/blob/main/Part_2_of_08_Loops.ipynb\" target=\"_parent\"><img src=\"https://colab.research.google.com/assets/colab-badge.svg\" alt=\"Open In Colab\"/></a>"
      ]
    },
    {
      "cell_type": "markdown",
      "metadata": {
        "id": "RsXls6xzUrIt"
      },
      "source": [
        "# Loops\n",
        "[![Open In Colab](https://colab.research.google.com/assets/colab-badge.svg)](https://colab.research.google.com/github/COGS18/LectureNotes-COGS18/blob/main/08-Loops.ipynb)"
      ]
    },
    {
      "cell_type": "markdown",
      "metadata": {
        "id": "DjkAe-cCUrIv"
      },
      "source": [
        "**Course Announcements**\n",
        "\n",
        "Due this week:\n",
        "- VQ8 due Wed\n",
        "- CL4 due Fri\n",
        "- A3 due Sun\n",
        "- Take your exam!"
      ]
    },
    {
      "cell_type": "markdown",
      "metadata": {
        "id": "pT9g34kMUrIw"
      },
      "source": [
        "## Control Flow - Loops\n",
        "\n",
        "- `while`\n",
        "- `for`\n",
        "- `range`, `continue`, `break`"
      ]
    },
    {
      "cell_type": "markdown",
      "metadata": {
        "collapsed": true,
        "jupyter": {
          "outputs_hidden": true
        },
        "id": "6LtfPvsyUrIw"
      },
      "source": [
        "### SideNote: counters"
      ]
    },
    {
      "cell_type": "code",
      "execution_count": null,
      "metadata": {
        "id": "kLNiG0rJUrIw",
        "outputId": "3cd98926-33d7-4806-ea00-43e9537db8f0"
      },
      "outputs": [
        {
          "name": "stdout",
          "output_type": "stream",
          "text": [
            "0\n"
          ]
        }
      ],
      "source": [
        "# Initialize a counter variable\n",
        "counter = 0\n",
        "print(counter)"
      ]
    },
    {
      "cell_type": "code",
      "execution_count": null,
      "metadata": {
        "id": "AwmCm_SUUrIx",
        "outputId": "7628cdd9-6bc0-4561-ba4c-fbb481045ead"
      },
      "outputs": [
        {
          "name": "stdout",
          "output_type": "stream",
          "text": [
            "1\n"
          ]
        }
      ],
      "source": [
        "counter = counter + 1\n",
        "print(counter)"
      ]
    },
    {
      "cell_type": "code",
      "execution_count": null,
      "metadata": {
        "id": "qIq-38upUrIx",
        "outputId": "fcdb3a20-8e46-4247-ba39-d7badc785344"
      },
      "outputs": [
        {
          "name": "stdout",
          "output_type": "stream",
          "text": [
            "2\n"
          ]
        }
      ],
      "source": [
        "counter = counter + 1\n",
        "print(counter)"
      ]
    },
    {
      "cell_type": "code",
      "execution_count": null,
      "metadata": {
        "id": "X4NkJuaJUrIx",
        "outputId": "a1cc6613-d939-4ddb-94d5-488ad86d98b5"
      },
      "outputs": [
        {
          "name": "stdout",
          "output_type": "stream",
          "text": [
            "3\n"
          ]
        }
      ],
      "source": [
        "counter += 1\n",
        "print(counter)"
      ]
    },
    {
      "cell_type": "markdown",
      "metadata": {
        "id": "Uv4m7bn-UrIx"
      },
      "source": [
        "The idea here...is that as the code executes, the value of the counter increases. We'll use these a lot in loops!"
      ]
    },
    {
      "cell_type": "markdown",
      "metadata": {
        "id": "Z58UttIkUrIy"
      },
      "source": [
        "### SideNote: `append`\n",
        "\n",
        "`append` is a list methods (we'll talk about others soon) that adds an item to the end of an existing list *in place*"
      ]
    },
    {
      "cell_type": "code",
      "execution_count": null,
      "metadata": {
        "scrolled": true,
        "id": "Y-B_G1a4UrIy",
        "outputId": "5ab3b0b0-3cea-4628-e68b-8c800fccb628"
      },
      "outputs": [
        {
          "data": {
            "text/plain": [
              "['a', 'b', 'c', 'd']"
            ]
          },
          "execution_count": 5,
          "metadata": {},
          "output_type": "execute_result"
        }
      ],
      "source": [
        "my_list = ['a', 'b', 'c']\n",
        "my_list.append('d') ### NOTE THAT IT IS NOT ASSIGNED BACK TO my_list\n",
        "my_list"
      ]
    },
    {
      "cell_type": "markdown",
      "metadata": {
        "id": "hCu7F-_pUrIy"
      },
      "source": [
        "## Loops"
      ]
    },
    {
      "cell_type": "markdown",
      "metadata": {
        "id": "lIeIKyk2UrIy"
      },
      "source": [
        "<div class=\"alert alert-success\">\n",
        "A <b>loop</b> is a procedure to repeat a piece of code.\n",
        "</div>"
      ]
    },
    {
      "cell_type": "markdown",
      "metadata": {
        "id": "7qRS-CeYUrIy"
      },
      "source": [
        "### `while` Loops"
      ]
    },
    {
      "cell_type": "markdown",
      "metadata": {
        "id": "8eIDw_weUrIy"
      },
      "source": [
        "<div class=\"alert alert-success\">\n",
        "A <b>while loop</b> is a procedure to repeat a piece of code while some condition is still met.\n",
        "</div>"
      ]
    },
    {
      "cell_type": "markdown",
      "metadata": {
        "id": "qX6UQVQ1UrIy"
      },
      "source": [
        "![](https://github.com/COGS18/LectureNotes-COGS18/blob/main/img/shopping_cart.jpeg?raw=1)"
      ]
    },
    {
      "cell_type": "markdown",
      "metadata": {
        "id": "v-5BCVL6UrIy"
      },
      "source": [
        "### `while` Loop: live demo\n",
        "\n",
        "```python\n",
        "while is_sitting(studentA):\n",
        "    # studentB moves one sheet of paper from podium to table\n",
        "```"
      ]
    },
    {
      "cell_type": "markdown",
      "metadata": {
        "id": "4aza_EbyUrIy"
      },
      "source": [
        "### `for` Loops"
      ]
    },
    {
      "cell_type": "markdown",
      "metadata": {
        "id": "RumM7-PKUrIy"
      },
      "source": [
        "<div class=\"alert alert-success\">\n",
        "A <b>for loop</b> is a procedure a to repeat code for every element in a sequence.\n",
        "</div>"
      ]
    },
    {
      "cell_type": "markdown",
      "metadata": {
        "id": "r2H-U3fEUrIy"
      },
      "source": [
        "![](https://github.com/COGS18/LectureNotes-COGS18/blob/main/img/shopping_list.jpeg?raw=1)"
      ]
    },
    {
      "cell_type": "markdown",
      "metadata": {
        "id": "zFoNxNxlUrIy"
      },
      "source": [
        "### `for` Loop: live demo\n",
        "\n",
        "```python\n",
        "\n",
        "students_in_line = ['Lando', 'Annalise', 'Isaac', 'Parm']\n",
        "brown_hair = []\n",
        "other_hair = []\n",
        "\n",
        "for student in students_in_line:\n",
        "    if has_brown_hair(student):\n",
        "        brown_hair.append(student)\n",
        "    else:\n",
        "        other_hair.append(student)         \n",
        "```"
      ]
    },
    {
      "cell_type": "markdown",
      "metadata": {
        "id": "GFFQPL2uUrIy"
      },
      "source": [
        "### Activity I: Comprehension Check\n",
        "\n",
        "Complete all questions in this Google Form ([https://forms.gle/N8ao851V5G3rdnSo7](https://forms.gle/N8ao851V5G3rdnSo7)) and then click submit.\n",
        "\n",
        "You are encouraged to:\n",
        "1. Talk with your neighbor\n",
        "2. Try things out to check your understanding\n",
        "\n",
        "If you have questions, I'm happy to come over as we work on this!"
      ]
    },
    {
      "cell_type": "code",
      "execution_count": null,
      "metadata": {
        "id": "04YJquaXUrIy"
      },
      "outputs": [],
      "source": [
        "this_list = ['hi', 'bye', 'good', 'bad']\n",
        "this_list.append('ok')\n",
        "# this_list[4] = 'ok' # does not work\n",
        "# this_list + ['ok']"
      ]
    },
    {
      "cell_type": "markdown",
      "metadata": {
        "id": "92ALQEMfUrIy"
      },
      "source": [
        "## Loops: Code"
      ]
    },
    {
      "cell_type": "markdown",
      "metadata": {
        "id": "BLD_3-_tUrIy"
      },
      "source": [
        "### `while` Loop: code"
      ]
    },
    {
      "cell_type": "code",
      "execution_count": null,
      "metadata": {
        "id": "Vzl9lxvnUrIy",
        "outputId": "81a30c65-e40c-4bdb-a0c5-f9305c060733"
      },
      "outputs": [
        {
          "name": "stdout",
          "output_type": "stream",
          "text": [
            "3\n",
            "7\n",
            "17\n",
            "20\n"
          ]
        }
      ],
      "source": [
        "shopping_budget = 20\n",
        "bill = 0\n",
        "index = 0\n",
        "prices = [3, 4, 10, 3, 2, 15, 7]\n",
        "\n",
        "while bill < shopping_budget:\n",
        "\n",
        "    # add cost of item (prices) to bill\n",
        "    bill = bill + prices[index]\n",
        "\n",
        "    # increment index each time through the loop\n",
        "    index = index + 1\n",
        "\n",
        "    #print bill so we can see what's going on\n",
        "    print(bill)\n",
        "\n"
      ]
    },
    {
      "cell_type": "markdown",
      "metadata": {
        "id": "WZnhqZHYUrIy"
      },
      "source": [
        "### `for` loop: code"
      ]
    },
    {
      "cell_type": "code",
      "execution_count": null,
      "metadata": {
        "scrolled": true,
        "id": "eSRtwLFkUrIy",
        "outputId": "0540e2e4-eff9-4411-970f-149279fd1211"
      },
      "outputs": [
        {
          "name": "stdout",
          "output_type": "stream",
          "text": [
            "ice cream not in stock\n",
            "['bananas', 'cookies']\n",
            "ice cream\n"
          ]
        }
      ],
      "source": [
        "# Define a list of items\n",
        "shopping_list = ['bananas', 'cookies', 'ice cream']\n",
        "in_stock = ['apples', 'bananas', 'cookies', 'chicken', 'cucumbers']\n",
        "in_cart = []\n",
        "\n",
        "# Loop across each element\n",
        "for item in shopping_list:\n",
        "    if item in in_stock:\n",
        "        in_cart.append(item)\n",
        "    else:\n",
        "        print(item + ' not in stock')\n",
        "\n",
        "print(in_cart)\n",
        "print(item)\n",
        "# check if item only exists in loop"
      ]
    },
    {
      "cell_type": "code",
      "execution_count": null,
      "metadata": {
        "id": "LiyI1PmuUrIz",
        "outputId": "eda3e6ae-46e5-4339-b1b1-89b952a98a52"
      },
      "outputs": [
        {
          "name": "stdout",
          "output_type": "stream",
          "text": [
            "p\n",
            "y\n",
            "t\n",
            "h\n",
            "n\n"
          ]
        }
      ],
      "source": [
        "# Loop across items in a string\n",
        "vowels = ['A', 'E', 'I', 'O', 'U', 'a', 'e', 'i', 'o', 'u']\n",
        "my_string = 'python'\n",
        "\n",
        "for char in my_string:\n",
        "    if char not in vowels:\n",
        "        print(char)"
      ]
    },
    {
      "cell_type": "markdown",
      "metadata": {
        "id": "VzqlOPZyUrIz"
      },
      "source": [
        "### Activity II: `loops`\n",
        "\n",
        "Complete the coding question in this Google Form ([https://forms.gle/MRrSUvFDAehJmpxX7](https://forms.gle/MRrSUvFDAehJmpxX7)) and then click submit.\n",
        "\n",
        "> Write a function `sum_odd()` contatining a loop that will add up all the odd numbers in an input list.\n",
        "\n",
        "> For example: `sum_odd(['a', 3, 5, 6])` would return 8, b/c 3 + 5 is 8"
      ]
    },
    {
      "cell_type": "code",
      "execution_count": null,
      "metadata": {
        "id": "y7lHhGjBUrIz",
        "outputId": "90069fa2-dc85-4e89-9dcd-0e111a4f3b62"
      },
      "outputs": [
        {
          "data": {
            "text/plain": [
              "0.5"
            ]
          },
          "execution_count": 10,
          "metadata": {},
          "output_type": "execute_result"
        }
      ],
      "source": [
        "4.5 % 2"
      ]
    },
    {
      "cell_type": "code",
      "execution_count": null,
      "metadata": {
        "id": "OtVFCXnMUrIz"
      },
      "outputs": [],
      "source": [
        "# WRITE CODE\n",
        "\n",
        "def sum_odd(input_list):\n",
        "    # initializing a variable\n",
        "    output_sum = 0\n",
        "\n",
        "    # loop through each item/element in input_list\n",
        "    for item in input_list:\n",
        "        if type(item) == int:\n",
        "            if item % 2 != 0: #its odd\n",
        "                # output_sum = output_sum + item\n",
        "                output_sum += item\n",
        "\n",
        "    return output_sum"
      ]
    },
    {
      "cell_type": "code",
      "execution_count": null,
      "metadata": {
        "id": "tp_GlvanUrIz",
        "outputId": "8bf6f396-667e-4366-eb57-830b96c9d920"
      },
      "outputs": [
        {
          "data": {
            "text/plain": [
              "8"
            ]
          },
          "execution_count": 12,
          "metadata": {},
          "output_type": "execute_result"
        }
      ],
      "source": [
        "# TEST FUNCTION\n",
        "sum_odd(['a', 3, 5, 6])"
      ]
    },
    {
      "cell_type": "markdown",
      "metadata": {
        "collapsed": true,
        "jupyter": {
          "outputs_hidden": true
        },
        "id": "8Cn9KuVtUrIz"
      },
      "source": [
        "### Dictionaries: Indexing & Looping\n",
        "\n",
        "Dictionaries are indexed by their *key*."
      ]
    },
    {
      "cell_type": "code",
      "execution_count": null,
      "metadata": {
        "id": "GVUC8-X6UrIz",
        "outputId": "7358df4b-45f9-4af2-c354-d98886bb3fef"
      },
      "outputs": [
        {
          "data": {
            "text/plain": [
              "58"
            ]
          },
          "execution_count": 13,
          "metadata": {},
          "output_type": "execute_result"
        }
      ],
      "source": [
        "scores = {\n",
        "    'Alondra': 85,\n",
        "    'Holly': 58,\n",
        "    'Brooke': 92,\n",
        "    'Pauline': 47,\n",
        "    'Minqi': 76\n",
        "}\n",
        "\n",
        "scores['Holly']"
      ]
    },
    {
      "cell_type": "code",
      "execution_count": null,
      "metadata": {
        "id": "HSy5R8LmUrIz",
        "outputId": "7fce2c60-0c0d-4c4e-f4f9-a3d773bb7cd2"
      },
      "outputs": [
        {
          "name": "stdout",
          "output_type": "stream",
          "text": [
            "Students who passed: ['Alondra', 'Brooke', 'Minqi']\n"
          ]
        }
      ],
      "source": [
        "passing_score = 60\n",
        "passed_students = []\n",
        "\n",
        "for student in scores:\n",
        "    if scores[student] >= passing_score:\n",
        "        passed_students.append(student)\n",
        "\n",
        "print(\"Students who passed:\", passed_students)"
      ]
    },
    {
      "cell_type": "markdown",
      "metadata": {
        "id": "rjBIm5IXUrIz"
      },
      "source": [
        "## `range`, `continue` and `break`"
      ]
    },
    {
      "cell_type": "markdown",
      "metadata": {
        "id": "TRVJ1w9qUrIz"
      },
      "source": [
        "**Q&A**\n",
        "\n",
        "> Q: I am still confused on the different ways that append works with strings versus lists.  \n",
        "> A: Ah - great point - `append` *only* works with lists. It's a list method! If you want to concatenate strings, we use `+`\n",
        "\n",
        "> Q: When we do loops do we always have to add a period between the codes?  \n",
        "> A: I'm not sure which period you meant, but there will always be a colon (`:`) at the end of the `for` or `while` statement. Follow up if this wasn't what you were asking!\n",
        "\n",
        "> Q: why do we have to include total = 0 at the beginning?  \n",
        "> A: In loops we often define/initialize a variable before the loop so that we can update it in the loop. If we didn't initialize it it wouldn't exist when we went to update it.\n",
        "\n",
        "> Q: Can you start loops in the middle of a list?  \n",
        "> A: You can, but you would specify that in the `for` line....for example: `for val in my_list[5:]` would start looping at the fifth index.\n",
        "\n",
        "> Q: how does the term after \"\"for\"\" even work? shouldn't that be a syntax error for it not being defined?  \n",
        "> A: I know it *feels* like it should...but it doesn't. Python knows that whatever comes after for will take the value of the first thing you're looping over....and then the second thing...until you reach the end of the collection.\n",
        "\n",
        "\n",
        "> Q: For the shopping budget 'while loop' example, what would happen if the prices didn't add up perfectly to the budget?  \n",
        "> A: Love this question! Feel free to adjust the list so that's the case and see...but once the condition were no longer true the loop would terminate. So....if bill added up to 22 and shopping budget was 20, you *could* with how the code was written, go \"over\" budget.\n",
        "\n",
        "\n",
        "> Q: so you just never use return in it?  \n",
        "> A: You don't use return in a loop....unless that loop is in a function\n"
      ]
    },
    {
      "cell_type": "markdown",
      "metadata": {
        "id": "PjotXQrSUrIz"
      },
      "source": [
        "**Course Announcements**\n",
        "\n",
        "Due this week:\n",
        "- CL4 due Fri\n",
        "- A3 due Sun\n",
        "- Take your exam!\n",
        "\n",
        "Notes:\n",
        "- if you were scheduled to take your exam yesterday (Wed) at 4P or 5P, you should have received a message from PrairieTest to reschedule\n",
        "- If you were unable to schedule an oral exam, more times will be released/announced tomorrow for next week\n",
        "- There will be a mid-course survey released tomorrow - try and complete *after* your exam (if possible)"
      ]
    },
    {
      "cell_type": "markdown",
      "metadata": {
        "id": "JxNM_PPYUrI2"
      },
      "source": [
        "### Activity III: Dictionaries\n",
        "\n",
        "Complete the coding question in this Google Form ([https://forms.gle/Cgw35fmyhfqRMx178](https://forms.gle/Cgw35fmyhfqRMx178)) and then click submit.\n",
        "\n",
        "> Define a function `name_dictionary` that will generate a dictionary that stores each unique letter in the input `name` as a different key, and the number of times each letter shows up in your name as the letter's value.\n",
        "\n",
        "> For example, `name_dictionary('Shannon')`would return: `{'S':1, 'h':1, 'a': 1, 'n': 3, 'o': 1}`"
      ]
    },
    {
      "cell_type": "markdown",
      "metadata": {
        "id": "4aBM_2i5UrI3"
      },
      "source": [
        "An aside...there's a shortcut! The `+=` operator\n",
        "\n",
        "```python\n",
        "out = out + 4\n",
        "\n",
        "# OR\n",
        "\n",
        "out += 4\n",
        "\n",
        "```"
      ]
    },
    {
      "cell_type": "code",
      "execution_count": 3,
      "metadata": {
        "id": "KBeQYvQVUrI3"
      },
      "outputs": [],
      "source": [
        "# I used the .count method in Part 1 for this activity. Now, I'm going to try to make the loop without that.\n",
        "def name_dictionary(name=\"Shannon\"):\n",
        "  dictionary={}\n",
        "  for letter in name:\n",
        "    if letter not in dictionary:\n",
        "      dictionary[letter]=1\n",
        "    elif letter in dictionary:\n",
        "      dictionary[letter]+=1\n",
        "  return dictionary\n"
      ]
    },
    {
      "cell_type": "code",
      "execution_count": 4,
      "metadata": {
        "id": "LNkgpYEwUrI3",
        "colab": {
          "base_uri": "https://localhost:8080/"
        },
        "outputId": "cd6bc744-029b-4994-a8f1-6e33e6a84c95"
      },
      "outputs": [
        {
          "output_type": "execute_result",
          "data": {
            "text/plain": [
              "{'S': 1, 'h': 1, 'a': 1, 'n': 3, 'o': 1}"
            ]
          },
          "metadata": {},
          "execution_count": 4
        }
      ],
      "source": [
        "name_dictionary()"
      ]
    },
    {
      "cell_type": "code",
      "source": [
        "#what I did in part 1, using name.count\n",
        "def name_dictionary(name=\"Shannon\"):\n",
        "  dictionary={}\n",
        "  for letter in name:\n",
        "    dictionary[letter]=name.count(letter)\n",
        "  return dictionary"
      ],
      "metadata": {
        "id": "1gdltyTEY4Ty"
      },
      "execution_count": 8,
      "outputs": []
    },
    {
      "cell_type": "code",
      "source": [
        "name_dictionary()"
      ],
      "metadata": {
        "colab": {
          "base_uri": "https://localhost:8080/"
        },
        "id": "kgoZaevEZQq0",
        "outputId": "a95f0a50-4e1c-401a-feae-9d8ebf694a34"
      },
      "execution_count": 7,
      "outputs": [
        {
          "output_type": "execute_result",
          "data": {
            "text/plain": [
              "{'S': 1, 'h': 1, 'a': 1, 'n': 3, 'o': 1}"
            ]
          },
          "metadata": {},
          "execution_count": 7
        }
      ]
    },
    {
      "cell_type": "markdown",
      "metadata": {
        "id": "km_Zcs7bUrI3"
      },
      "source": [
        "### `range`\n",
        "<div class=\"alert alert-success\">\n",
        "<code>range</code> is an operator to create a range of numbers, that is often used with loops.\n",
        "</div>"
      ]
    },
    {
      "cell_type": "code",
      "execution_count": 9,
      "metadata": {
        "id": "YqRzqm3VUrI3",
        "colab": {
          "base_uri": "https://localhost:8080/"
        },
        "outputId": "199dceed-ea40-49a7-8c57-d973b2fd6a02"
      },
      "outputs": [
        {
          "output_type": "stream",
          "name": "stdout",
          "text": [
            "114\n",
            "115\n",
            "116\n",
            "The tea is too hot!\n",
            "117\n",
            "The tea is too hot!\n",
            "118\n",
            "The tea is too hot!\n"
          ]
        }
      ],
      "source": [
        "# for temp in [114, 115, 116, 117, 118]:\n",
        "for temp in range(114, 119):\n",
        "    print(temp)\n",
        "\n",
        "    if(temp > 115):\n",
        "        print('The tea is too hot!')"
      ]
    },
    {
      "cell_type": "markdown",
      "metadata": {
        "id": "lNi8XaLFUrI3"
      },
      "source": [
        "### `continue`"
      ]
    },
    {
      "cell_type": "markdown",
      "metadata": {
        "id": "e3ngmC-bUrI3"
      },
      "source": [
        "<div class=\"alert alert-success\">\n",
        "<code>continue</code> is a special operator to jump ahead to the next iteration of a loop.\n",
        "</div>"
      ]
    },
    {
      "cell_type": "code",
      "execution_count": null,
      "metadata": {
        "id": "6N4M0oPDUrI3"
      },
      "outputs": [],
      "source": [
        "for number in range(1, 11):\n",
        "    if number % 2 == 0:\n",
        "        continue  # Skip even numbers\n",
        "\n",
        "    print(number)"
      ]
    },
    {
      "cell_type": "markdown",
      "metadata": {
        "id": "AROeWZL0UrI3"
      },
      "source": [
        "## `break`"
      ]
    },
    {
      "cell_type": "markdown",
      "metadata": {
        "id": "Oul0u2kXUrI3"
      },
      "source": [
        "<div class=\"alert alert-success\">\n",
        "<code>break</code> is a special operator to break out of a loop.\n",
        "</div>"
      ]
    },
    {
      "cell_type": "markdown",
      "metadata": {
        "id": "4xHWE_EKUrI3"
      },
      "source": [
        "### `break` examples"
      ]
    },
    {
      "cell_type": "code",
      "execution_count": 22,
      "metadata": {
        "id": "sgkghy8rUrI3",
        "colab": {
          "base_uri": "https://localhost:8080/"
        },
        "outputId": "844a8079-1aa9-4d93-acf9-8a3dd2078dcf"
      },
      "outputs": [
        {
          "output_type": "stream",
          "name": "stdout",
          "text": [
            "Found 8!\n"
          ]
        }
      ],
      "source": [
        "numbers = [4, 7, 10, 3, 8, 5]\n",
        "\n",
        "for num in numbers:\n",
        "    if num == 8:\n",
        "        print(\"Found 8!\")\n",
        "        break  # Stop the loop as soon as we find 8"
      ]
    },
    {
      "cell_type": "markdown",
      "metadata": {
        "id": "3IMgrJCeUrI3"
      },
      "source": [
        "### Altogether\n",
        "\n",
        "It is possible to use these all together...\n",
        "\n",
        "- `find_first_even` finds the first even number in a `range`\n",
        "- if that number is odd, `continue`\n",
        "- once you find the first even number `break`"
      ]
    },
    {
      "cell_type": "code",
      "execution_count": 1,
      "metadata": {
        "id": "OQ73ys8LUrI3"
      },
      "outputs": [],
      "source": [
        "def find_first_even(numbers):\n",
        "    for i in range(len(numbers)):\n",
        "        if numbers[i] % 2 != 0:\n",
        "            continue\n",
        "        out = numbers[i]\n",
        "        break\n",
        "    return out"
      ]
    },
    {
      "cell_type": "code",
      "execution_count": null,
      "metadata": {
        "scrolled": true,
        "id": "FtqoQiiPUrI3"
      },
      "outputs": [],
      "source": [
        "find_first_even(numbers = [1, 3, 7, 9, 6, 4, 11, 6, 8])"
      ]
    },
    {
      "cell_type": "markdown",
      "metadata": {
        "id": "AqsXY0hnUrI3"
      },
      "source": [
        "### Activity: `range`, `break`, `continue`\n",
        "\n",
        "Please complete the Google Form here: https://forms.gle/SsRvuJ7XT1zqy7hZA\n",
        "\n",
        "> Define a function `find_all_neg()` that will extract all negative values from a list, returning the list of negative numbers.\n",
        "\n",
        "> You can assume all elements in the input list are numeric."
      ]
    },
    {
      "cell_type": "code",
      "execution_count": 31,
      "metadata": {
        "id": "1iQpEuzNUrI3"
      },
      "outputs": [],
      "source": [
        "my_list=[]\n",
        "def find_all_neg(my_list):\n",
        "  neg_list=[]\n",
        "  for value in my_list:\n",
        "    if value<0:\n",
        "      neg_list.append(value)\n",
        "  return neg_list"
      ]
    },
    {
      "cell_type": "code",
      "execution_count": 32,
      "metadata": {
        "id": "t1MGNRl6UrI3",
        "colab": {
          "base_uri": "https://localhost:8080/"
        },
        "outputId": "6ab15655-8227-4a9e-87d3-4f17a2011889"
      },
      "outputs": [
        {
          "output_type": "execute_result",
          "data": {
            "text/plain": [
              "[]"
            ]
          },
          "metadata": {},
          "execution_count": 32
        }
      ],
      "source": [
        "find_all_neg([3,4,5,7])"
      ]
    },
    {
      "cell_type": "code",
      "source": [
        "find_all_neg([-1, -2, 3, 5, -5])"
      ],
      "metadata": {
        "colab": {
          "base_uri": "https://localhost:8080/"
        },
        "id": "Uur1E4xjU0Mb",
        "outputId": "63144d09-9da2-4186-ae39-fde118cecfd0"
      },
      "execution_count": 33,
      "outputs": [
        {
          "output_type": "execute_result",
          "data": {
            "text/plain": [
              "[-1, -2, -5]"
            ]
          },
          "metadata": {},
          "execution_count": 33
        }
      ]
    },
    {
      "cell_type": "markdown",
      "metadata": {
        "id": "-H8tayrtUrI3"
      },
      "source": [
        "## Code Style: Loops\n",
        "\n",
        "- `for`/`while` statement with a colon at the end on first line\n",
        "- all code within the loop inside a code block (indented)"
      ]
    },
    {
      "cell_type": "markdown",
      "metadata": {
        "id": "Z1mK-BbHUrI3"
      },
      "source": [
        "**Good Code Style**"
      ]
    },
    {
      "cell_type": "code",
      "execution_count": null,
      "metadata": {
        "id": "fToRIUsbUrI3"
      },
      "outputs": [],
      "source": [
        "number = 5\n",
        "while number < 0:\n",
        "    print(number)\n",
        "    number = number + 1"
      ]
    },
    {
      "cell_type": "markdown",
      "metadata": {
        "id": "cBFdc6--UrI3"
      },
      "source": [
        "**Code Style to Avoid**"
      ]
    },
    {
      "cell_type": "code",
      "execution_count": null,
      "metadata": {
        "id": "pjZJqGjAUrI4"
      },
      "outputs": [],
      "source": [
        "number=5\n",
        "while number<0:print(number);number=number+1 # avoid all on a single line"
      ]
    },
    {
      "cell_type": "markdown",
      "metadata": {
        "id": "B4EzBICUUrI4"
      },
      "source": [
        "### Activity: Additional Loops Practice\n",
        "\n",
        "Please complete the Google Form here: https://forms.gle/3ZqsNwL8TUNpGbR86\n",
        "\n",
        "> Q1. Define a function `remove_special_characters()` that will remove any characters from a string if they are one of these characters: `'!@#$%^&*();<>?/'`"
      ]
    },
    {
      "cell_type": "code",
      "execution_count": 27,
      "metadata": {
        "id": "Du4t1505UrI4"
      },
      "outputs": [],
      "source": [
        "def remove_special_characters(string):\n",
        "  special_characters='!@#$%^&*();<>?/'\n",
        "  new_string=\"\"\n",
        "  for char in string:\n",
        "    if char not in special_characters:\n",
        "      new_string= new_string + char\n",
        "  return new_string"
      ]
    },
    {
      "cell_type": "code",
      "execution_count": 30,
      "metadata": {
        "id": "liCLaohAUrI4",
        "colab": {
          "base_uri": "https://localhost:8080/",
          "height": 35
        },
        "outputId": "62d7490c-6cbd-4f11-c6b7-6edc0edc2616"
      },
      "outputs": [
        {
          "output_type": "execute_result",
          "data": {
            "text/plain": [
              "'hello'"
            ],
            "application/vnd.google.colaboratory.intrinsic+json": {
              "type": "string"
            }
          },
          "metadata": {},
          "execution_count": 30
        }
      ],
      "source": [
        "remove_special_characters(\"hello!\")"
      ]
    },
    {
      "cell_type": "code",
      "source": [
        "remove_special_characters(\"hello!hello!\")"
      ],
      "metadata": {
        "colab": {
          "base_uri": "https://localhost:8080/",
          "height": 35
        },
        "id": "4S_9D08oXG3c",
        "outputId": "33cdb798-affd-4b28-8b98-6c4e00576358"
      },
      "execution_count": 34,
      "outputs": [
        {
          "output_type": "execute_result",
          "data": {
            "text/plain": [
              "'hellohello'"
            ],
            "application/vnd.google.colaboratory.intrinsic+json": {
              "type": "string"
            }
          },
          "metadata": {},
          "execution_count": 34
        }
      ]
    }
  ],
  "metadata": {
    "celltoolbar": "Slideshow",
    "kernelspec": {
      "display_name": "Python 3 (ipykernel)",
      "language": "python",
      "name": "python3"
    },
    "language_info": {
      "codemirror_mode": {
        "name": "ipython",
        "version": 3
      },
      "file_extension": ".py",
      "mimetype": "text/x-python",
      "name": "python",
      "nbconvert_exporter": "python",
      "pygments_lexer": "ipython3",
      "version": "3.11.8"
    },
    "rise": {
      "scroll": true
    },
    "colab": {
      "provenance": [],
      "include_colab_link": true
    }
  },
  "nbformat": 4,
  "nbformat_minor": 0
}