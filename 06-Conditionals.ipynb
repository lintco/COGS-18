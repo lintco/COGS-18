{
  "cells": [
    {
      "cell_type": "markdown",
      "metadata": {
        "editable": true,
        "tags": [],
        "id": "DHW_un_BHPXn"
      },
      "source": [
        "# Conditionals\n",
        "\n",
        "Comparisons are always true or false\n",
        "\n",
        "[![Open In Colab](https://colab.research.google.com/assets/colab-badge.svg)](https://colab.research.google.com/github/COGS18/LectureNotes-COGS18/blob/main/06-Conditionals.ipynb)\n",
        "\n",
        "\n",
        "- `if`\n",
        "- `elif`\n",
        "- `else`"
      ]
    },
    {
      "cell_type": "markdown",
      "metadata": {
        "id": "iBCRVgMSHPXo"
      },
      "source": [
        "<div class=\"alert alert-success\">\n",
        "Conditionals are statements that check for a condition, using the <code>if</code> statement, and then only execute a set of code if the condition evaluates as <code>True</code>.\n",
        "</div>"
      ]
    },
    {
      "cell_type": "code",
      "execution_count": 1,
      "metadata": {
        "id": "arBpw1BVHPXo",
        "outputId": "245732d9-18b1-43b3-c65e-c1ac8e8f7382",
        "colab": {
          "base_uri": "https://localhost:8080/"
        }
      },
      "outputs": [
        {
          "output_type": "stream",
          "name": "stdout",
          "text": [
            "else statement executed\n"
          ]
        }
      ],
      "source": [
        "value = 5\n",
        "\n",
        "if value == True:\n",
        "    print('if statement executed')\n",
        "elif value == False:\n",
        "    print('elif statement executed')\n",
        "else:\n",
        "    print('else statement executed')"
      ]
    },
    {
      "cell_type": "markdown",
      "metadata": {
        "id": "0uV4DOKFHPXp"
      },
      "source": [
        "## Conditionals"
      ]
    },
    {
      "cell_type": "markdown",
      "metadata": {
        "id": "UIobMTUnHPXp"
      },
      "source": [
        "<div class=\"alert alert-success\">\n",
        "Any expression that can be evaluated as a boolean, such as value comparisons, can be used with conditionals.\n",
        "</div>"
      ]
    },
    {
      "cell_type": "code",
      "execution_count": null,
      "metadata": {
        "id": "bQckMojZHPXp"
      },
      "outputs": [],
      "source": [
        "speed_limit = 65\n",
        "speed = 60\n",
        "\n",
        "if speed > speed_limit:\n",
        "    ticket = True\n",
        "elif speed == speed_limit:\n",
        "    ticket = 'warning'\n",
        "else:\n",
        "    ticket = False\n",
        "\n",
        "print(ticket)"
      ]
    },
    {
      "cell_type": "markdown",
      "metadata": {
        "collapsed": true,
        "jp-MarkdownHeadingCollapsed": true,
        "jupyter": {
          "outputs_hidden": true
        },
        "id": "l6I7Wy0_HPXp"
      },
      "source": [
        "## Properties of conditionals\n",
        "\n",
        "- All conditionals start with an `if`, can have an optional and variable number of `elif`'s and an optional `else` statement\n",
        "- Conditionals can take any expression that can be evaluated as `True` or `False`.\n",
        "- At most one component (`if` / `elif` / `else`) of a conditional will run\n",
        "- The order of conditional blocks is always `if` then `elif`(s) then `else`\n",
        "- Code folloing `if`/`elif` is only ever executed if the condition is met"
      ]
    },
    {
      "cell_type": "markdown",
      "metadata": {
        "id": "JdbAN_-5HPXp"
      },
      "source": [
        "## Activity: Conditionals I\n",
        "\n",
        "Complete the question in this Google Form ([https://forms.gle/DmwaJCNXiVbz9j5K9](https://forms.gle/DmwaJCNXiVbz9j5K9)) and then click submit.\n",
        "\n",
        "- any non-zero number, Python will evaluate as TRUE\n",
        "  - exception being zero\n",
        "- any non-empty string, Python will evaluate as TRUE\n",
        "  - exception being empty ()\n",
        "  - (a space character count as non-empty)"
      ]
    },
    {
      "cell_type": "code",
      "source": [
        "condition=False\n",
        "\n",
        "if condition:\n",
        "    print(\"John\")\n",
        "elif not condition:\n",
        "    print(\"Paul\")\n",
        "elif not condition:\n",
        "    print(\"George\")\n",
        "else:\n",
        "    print(\"Ringo\")\n"
      ],
      "metadata": {
        "id": "wRzidIctlTJS",
        "outputId": "3e065596-653f-4fc5-9dd9-2852c7b23365",
        "colab": {
          "base_uri": "https://localhost:8080/"
        }
      },
      "execution_count": 5,
      "outputs": [
        {
          "output_type": "stream",
          "name": "stdout",
          "text": [
            "Paul\n"
          ]
        }
      ]
    },
    {
      "cell_type": "code",
      "execution_count": 2,
      "metadata": {
        "id": "yAuTTMxdHPXq",
        "outputId": "003c77e4-94b2-44ba-ed68-26810fa37761",
        "colab": {
          "base_uri": "https://localhost:8080/"
        }
      },
      "outputs": [
        {
          "output_type": "stream",
          "name": "stdout",
          "text": [
            "True\n"
          ]
        }
      ],
      "source": [
        "# TEST CODE OUT HERE\n",
        "math = 5+5 == 10\n",
        "if math:\n",
        "  print (\"True\")"
      ]
    },
    {
      "cell_type": "code",
      "execution_count": null,
      "metadata": {
        "id": "yJEkPpaXHPXq"
      },
      "outputs": [],
      "source": [
        "condition = False\n",
        "\n",
        "if condition:\n",
        "    print(\"John\")\n",
        "elif not condition:\n",
        "    print(\"Paul\")\n",
        "elif not condition:\n",
        "    print(\"George\")\n",
        "else:\n",
        "    print(\"Ringo\")"
      ]
    },
    {
      "cell_type": "markdown",
      "metadata": {
        "id": "vrebtbA6HPXq"
      },
      "source": [
        "- A) John\n",
        "- B) Paul, George, Ringo\n",
        "- C) Paul\n",
        "- D) Paul, George\n",
        "- E) Ringo"
      ]
    },
    {
      "cell_type": "markdown",
      "metadata": {
        "id": "nToM6gRIHPXq"
      },
      "source": [
        "## Code Style: Conditionals\n",
        "\n",
        "- avoid single line statements\n",
        "- a single conditional (if + elif + else) has no additional line spaces between statements"
      ]
    },
    {
      "cell_type": "markdown",
      "metadata": {
        "id": "eBMjFwyFHPXq"
      },
      "source": [
        "### Conditionals: Good Code Style"
      ]
    },
    {
      "cell_type": "code",
      "execution_count": null,
      "metadata": {
        "id": "DtN9OLWsHPXq"
      },
      "outputs": [],
      "source": [
        "value = 16\n",
        "\n",
        "if value % 2 == 0:\n",
        "    out = \"even\"\n",
        "else:\n",
        "    out = \"odd\""
      ]
    },
    {
      "cell_type": "markdown",
      "metadata": {
        "id": "TiylrdVDHPXq"
      },
      "source": [
        "### Conditionals: Code Style to Avoid"
      ]
    },
    {
      "cell_type": "code",
      "execution_count": null,
      "metadata": {
        "id": "lHrw-gNUHPXq"
      },
      "outputs": [],
      "source": [
        "if value%2==0:out=\"even\" # avoid statement on same line as conditional\n",
        "                         # avoid blank line between if and else\n",
        "else:out=\"odd\"           # don't forget about spacing around operators!"
      ]
    },
    {
      "cell_type": "markdown",
      "metadata": {
        "id": "rEMqPAfYHPXq"
      },
      "source": [
        "## Functions + Conditionals\n",
        "\n",
        "Let's define a more interesting function than what we did in the functions lecture. Here we are using conditionals within our function."
      ]
    },
    {
      "cell_type": "code",
      "execution_count": null,
      "metadata": {
        "editable": true,
        "tags": [],
        "id": "13OXgi-yHPXq"
      },
      "outputs": [],
      "source": [
        "# Determine if a value is even or odd\n",
        "def even_odd(value):\n",
        "\n",
        "    if value % 2 == 0:\n",
        "        out = \"even\"\n",
        "    else:\n",
        "        out = \"odd\"\n",
        "\n",
        "    return out"
      ]
    },
    {
      "cell_type": "code",
      "execution_count": null,
      "metadata": {
        "scrolled": true,
        "id": "ULkB4oUJHPXq"
      },
      "outputs": [],
      "source": [
        "# Execute our function to check that\n",
        "# it is working according to our expectations\n",
        "even_odd(-1)"
      ]
    },
    {
      "cell_type": "code",
      "source": [
        "bool(1/0)"
      ],
      "metadata": {
        "id": "_zZRdhztp5F2",
        "outputId": "dc6ebec3-49be-4159-df0a-83a928bf1ce6",
        "colab": {
          "base_uri": "https://localhost:8080/",
          "height": 144
        }
      },
      "execution_count": 6,
      "outputs": [
        {
          "output_type": "error",
          "ename": "ZeroDivisionError",
          "evalue": "division by zero",
          "traceback": [
            "\u001b[0;31m---------------------------------------------------------------------------\u001b[0m",
            "\u001b[0;31mZeroDivisionError\u001b[0m                         Traceback (most recent call last)",
            "\u001b[0;32m<ipython-input-6-54fab51b8375>\u001b[0m in \u001b[0;36m<cell line: 0>\u001b[0;34m()\u001b[0m\n\u001b[0;32m----> 1\u001b[0;31m \u001b[0mbool\u001b[0m\u001b[0;34m(\u001b[0m\u001b[0;36m1\u001b[0m\u001b[0;34m/\u001b[0m\u001b[0;36m0\u001b[0m\u001b[0;34m)\u001b[0m\u001b[0;34m\u001b[0m\u001b[0;34m\u001b[0m\u001b[0m\n\u001b[0m",
            "\u001b[0;31mZeroDivisionError\u001b[0m: division by zero"
          ]
        }
      ]
    },
    {
      "cell_type": "markdown",
      "metadata": {
        "editable": true,
        "tags": [],
        "id": "1f0SZ4kUHPXq"
      },
      "source": [
        "## Activity: Conditionals II\n",
        "\n",
        "Complete the question in this Google Form ([https://forms.gle/sh82qAWNhtY4Y2X58](https://forms.gle/sh82qAWNhtY4Y2X58)) and then click submit.\n",
        "\n",
        "There are three questions, the third of which requires coding:\n",
        "\n",
        "> In a previous lecture, we wrote a function `convert_to_f`...but you'd probably want a function that could go\n",
        "\n",
        "> Write a function `convert_temperature` that will convert a temperature C->F *and* F->C, returning the converted temperature.\n",
        "\n",
        "> Note: A temperature in Celsius will be multiplied by 9/5 and then 32 will be added to that quantity to convert to Fahrenheit. A temperature in Fahrenheit would have 32 subtracted and then that quantity multiplied by 5/9."
      ]
    },
    {
      "cell_type": "code",
      "execution_count": 7,
      "metadata": {
        "editable": true,
        "tags": [],
        "id": "cjvBjLbAHPXq",
        "outputId": "cf0fde8d-8303-40a6-c624-c8a943b870ff",
        "colab": {
          "base_uri": "https://localhost:8080/"
        }
      },
      "outputs": [
        {
          "output_type": "stream",
          "name": "stdout",
          "text": [
            "I'm here.\n"
          ]
        }
      ],
      "source": [
        "## YOUR CODE HERE\n",
        "conditional = False\n",
        "python = \"great\"\n",
        "\n",
        "if conditional:\n",
        "    if python == \"great\":\n",
        "        print(\"Yay Python!\")\n",
        "    else:\n",
        "        print(\"Oh no.\")\n",
        "else:\n",
        "    print(\"I'm here.\")"
      ]
    },
    {
      "cell_type": "code",
      "execution_count": 23,
      "metadata": {
        "editable": true,
        "tags": [],
        "id": "BtcBkZpRHPXr"
      },
      "outputs": [],
      "source": [
        "def convert_temperature(Temp, Kind):\n",
        "  if Kind == \"C\": #convert to F\n",
        "   new_temp = (Temp * (9/5)) + 32\n",
        "  elif Kind == \"F\": #convert to C\n",
        "    new_temp = (Temp - 32) * (5/9)\n",
        "  else:\n",
        "    new_temp = \"Please specify either \\\"F\\\" or \\\"C\\\" in the second position of the parentheses\"\n",
        "  return new_temp\n"
      ]
    },
    {
      "cell_type": "code",
      "source": [
        "convert_temperature(32, \"F\")"
      ],
      "metadata": {
        "id": "MuW1ekYjrzy9",
        "outputId": "94beae65-ab30-4f61-8a83-b3afd5af384c",
        "colab": {
          "base_uri": "https://localhost:8080/"
        }
      },
      "execution_count": 24,
      "outputs": [
        {
          "output_type": "execute_result",
          "data": {
            "text/plain": [
              "0.0"
            ]
          },
          "metadata": {},
          "execution_count": 24
        }
      ]
    },
    {
      "cell_type": "code",
      "source": [
        "convert_temperature(0, \"C\")"
      ],
      "metadata": {
        "id": "lMDtThgYsPNq",
        "outputId": "15f9e684-00e9-4f47-e4cf-bf5a79e0094f",
        "colab": {
          "base_uri": "https://localhost:8080/"
        }
      },
      "execution_count": 25,
      "outputs": [
        {
          "output_type": "execute_result",
          "data": {
            "text/plain": [
              "32.0"
            ]
          },
          "metadata": {},
          "execution_count": 25
        }
      ]
    },
    {
      "cell_type": "code",
      "source": [
        "convert_temperature(6, \"Celsius\")"
      ],
      "metadata": {
        "id": "BQVE4u5twTgn",
        "outputId": "bd39cc66-b373-433a-a103-900c3854bd23",
        "colab": {
          "base_uri": "https://localhost:8080/",
          "height": 35
        }
      },
      "execution_count": 28,
      "outputs": [
        {
          "output_type": "execute_result",
          "data": {
            "text/plain": [
              "'Please specify either \"F\" or \"C\" in the second position of the parentheses'"
            ],
            "application/vnd.google.colaboratory.intrinsic+json": {
              "type": "string"
            }
          },
          "metadata": {},
          "execution_count": 28
        }
      ]
    },
    {
      "cell_type": "markdown",
      "metadata": {
        "id": "XWqtxnHeHPXr"
      },
      "source": [
        "## Activity: Conditionals III\n",
        "\n",
        "Write a function called calculate_tip that uses the bill_amount and tip_percent, will return the tip and the total amount to pay"
      ]
    },
    {
      "cell_type": "markdown",
      "source": [
        "\n",
        "\n",
        "---\n",
        "\n",
        "\n",
        "\n",
        "**Now for the catch: we want it to calculate the tip correctly whether people enter a proportion (i.e. .2 to represent 20%) or a percent (i.e. 20 to represent 20%)…we’re going to assume that a value greater than zero but less than or equal to 1 is a proportion.**\n",
        "\n",
        "---\n",
        "\n"
      ],
      "metadata": {
        "id": "hdwn1rUAtuzk"
      }
    },
    {
      "cell_type": "markdown",
      "source": [
        "\n",
        "\n",
        "---\n",
        "\n",
        "\n",
        "**Test cases: calculate_tip(100, .10) and calculate_tip(100, 10) should both return the tip of 10.0 and a total of 110.0**\n",
        "\n",
        "\n",
        "---\n",
        "\n",
        "\n",
        "- **Final note: two variables can be returned from a function if they are separated by a comma**\n",
        "\n",
        "\n",
        "\n",
        "---\n",
        "\n"
      ],
      "metadata": {
        "id": "wZm7OfZqt-n7"
      }
    },
    {
      "cell_type": "code",
      "execution_count": 46,
      "metadata": {
        "editable": true,
        "tags": [],
        "id": "yowFmEU8HPXr"
      },
      "outputs": [],
      "source": [
        "def calculate_tip (bill_amount, tip_percent):\n",
        "  if tip_percent<=1: #number out of 1\n",
        "    total_amount = bill_amount + (tip_percent * bill_amount)\n",
        "    tip_amount = tip_percent * bill_amount\n",
        "  elif tip_percent>1: #number out of 100\n",
        "    total_amount = bill_amount + ((tip_percent * bill_amount)/100)\n",
        "    tip_amount = ((tip_percent * bill_amount)/100)\n",
        "  else:\n",
        "    total_amount = \"Please enter the bill amount as an integer in the first position\"\n",
        "    tip_amount = \"Please enter the tip percentage as either a decimal or percentage in the second position\"\n",
        "  return total_amount, tip_amount"
      ]
    },
    {
      "cell_type": "code",
      "source": [
        "calculate_tip(100, .10)"
      ],
      "metadata": {
        "id": "09W6N_pYzWEv",
        "outputId": "5c5d74cc-751a-45a0-c360-ad242c1b94a6",
        "colab": {
          "base_uri": "https://localhost:8080/"
        }
      },
      "execution_count": 47,
      "outputs": [
        {
          "output_type": "execute_result",
          "data": {
            "text/plain": [
              "(110.0, 10.0)"
            ]
          },
          "metadata": {},
          "execution_count": 47
        }
      ]
    },
    {
      "cell_type": "code",
      "execution_count": 42,
      "metadata": {
        "editable": true,
        "tags": [],
        "id": "P8GlHCLDHPXr",
        "outputId": "64dba598-40f9-41d5-9d2c-3590339ff220",
        "colab": {
          "base_uri": "https://localhost:8080/"
        }
      },
      "outputs": [
        {
          "output_type": "execute_result",
          "data": {
            "text/plain": [
              "(110.0, 10.0)"
            ]
          },
          "metadata": {},
          "execution_count": 42
        }
      ],
      "source": [
        "calculate_tip(100, 10)"
      ]
    },
    {
      "cell_type": "markdown",
      "metadata": {
        "editable": true,
        "tags": [],
        "id": "_-INAv34HPXr"
      },
      "source": [
        "## Summary\n",
        "- `if`/`elif`/`else`\n",
        "- Code Style\n",
        "- Conditionals + Functions"
      ]
    },
    {
      "cell_type": "markdown",
      "source": [
        "# Collections (sneak peak)\n",
        "- ability to store more than one piece of information in a single variable\n",
        "\n",
        "- lists, dictionaries, tuples"
      ],
      "metadata": {
        "id": "Y0WreK2Cum_O"
      }
    },
    {
      "cell_type": "code",
      "source": [
        "# list\n",
        "my_list = [1, 2, 3, 4,]\n",
        "\n",
        "# tuple\n",
        "my_tuple = (1, 2, 3, 4)\n",
        "\n",
        "# dictionary\n",
        "my_dictionary = {'Shannon': 'mom',\n",
        "                 'Josh': 'dad',\n",
        "                 'Kayden': 'kid'}"
      ],
      "metadata": {
        "id": "Vo6CH5Vmuxtn"
      },
      "execution_count": 15,
      "outputs": []
    },
    {
      "cell_type": "markdown",
      "source": [
        "# Indexing\n",
        "- access a value or set of values from of a collection\n",
        "- uses square brackets []"
      ],
      "metadata": {
        "id": "MR2y6x83u2cU"
      }
    },
    {
      "cell_type": "code",
      "source": [
        "my_list[0]"
      ],
      "metadata": {
        "id": "nHnRDqPEu8N2",
        "outputId": "f13f7521-8211-4052-dba2-86300f24609c",
        "colab": {
          "base_uri": "https://localhost:8080/"
        }
      },
      "execution_count": 16,
      "outputs": [
        {
          "output_type": "execute_result",
          "data": {
            "text/plain": [
              "1"
            ]
          },
          "metadata": {},
          "execution_count": 16
        }
      ]
    },
    {
      "cell_type": "markdown",
      "source": [
        "# Lists are mutable; tuples are not"
      ],
      "metadata": {
        "id": "XpGeJU8Fu--K"
      }
    },
    {
      "cell_type": "code",
      "source": [
        "my_list[0] = 6\n",
        "my_list"
      ],
      "metadata": {
        "id": "O85B60hXvHgf",
        "outputId": "13b457e5-9798-4d16-99cf-680247d00a65",
        "colab": {
          "base_uri": "https://localhost:8080/"
        }
      },
      "execution_count": 17,
      "outputs": [
        {
          "output_type": "execute_result",
          "data": {
            "text/plain": [
              "[6, 2, 3, 4]"
            ]
          },
          "metadata": {},
          "execution_count": 17
        }
      ]
    },
    {
      "cell_type": "code",
      "source": [
        "# THIS WILL ERROR\n",
        "my_tuple[0] = 6\n",
        "my_tuple"
      ],
      "metadata": {
        "id": "wQ9O9auFvLQ2",
        "outputId": "afd79dd8-a946-478c-a0ba-75e91a0ceec1",
        "colab": {
          "base_uri": "https://localhost:8080/",
          "height": 180
        }
      },
      "execution_count": 18,
      "outputs": [
        {
          "output_type": "error",
          "ename": "TypeError",
          "evalue": "'tuple' object does not support item assignment",
          "traceback": [
            "\u001b[0;31m---------------------------------------------------------------------------\u001b[0m",
            "\u001b[0;31mTypeError\u001b[0m                                 Traceback (most recent call last)",
            "\u001b[0;32m<ipython-input-18-294509222bef>\u001b[0m in \u001b[0;36m<cell line: 0>\u001b[0;34m()\u001b[0m\n\u001b[1;32m      1\u001b[0m \u001b[0;31m# THIS WILL ERROR\u001b[0m\u001b[0;34m\u001b[0m\u001b[0;34m\u001b[0m\u001b[0m\n\u001b[0;32m----> 2\u001b[0;31m \u001b[0mmy_tuple\u001b[0m\u001b[0;34m[\u001b[0m\u001b[0;36m0\u001b[0m\u001b[0;34m]\u001b[0m \u001b[0;34m=\u001b[0m \u001b[0;36m6\u001b[0m\u001b[0;34m\u001b[0m\u001b[0;34m\u001b[0m\u001b[0m\n\u001b[0m\u001b[1;32m      3\u001b[0m \u001b[0mmy_tuple\u001b[0m\u001b[0;34m\u001b[0m\u001b[0;34m\u001b[0m\u001b[0m\n",
            "\u001b[0;31mTypeError\u001b[0m: 'tuple' object does not support item assignment"
          ]
        }
      ]
    },
    {
      "cell_type": "markdown",
      "source": [
        "##practice with default\n",
        "\n",
        "\n",
        "\n"
      ],
      "metadata": {
        "id": "tTom8ZEmJmBI"
      }
    },
    {
      "cell_type": "code",
      "source": [
        "def lollygag(temp=5):\n",
        " response = temp * 8\n",
        " return response"
      ],
      "metadata": {
        "id": "nZebpegiJNyj"
      },
      "execution_count": 3,
      "outputs": []
    },
    {
      "cell_type": "code",
      "source": [
        "lollygag(6)"
      ],
      "metadata": {
        "id": "LM9FGa_JJeyX",
        "outputId": "20255786-1ce2-4be5-87a5-9ccd2eb800c7",
        "colab": {
          "base_uri": "https://localhost:8080/"
        }
      },
      "execution_count": 4,
      "outputs": [
        {
          "output_type": "execute_result",
          "data": {
            "text/plain": [
              "48"
            ]
          },
          "metadata": {},
          "execution_count": 4
        }
      ]
    },
    {
      "cell_type": "code",
      "source": [
        "lollygag()"
      ],
      "metadata": {
        "id": "fNvDTQVPJilG",
        "outputId": "88eecde2-f074-4163-89e6-90c21a55fcbe",
        "colab": {
          "base_uri": "https://localhost:8080/"
        }
      },
      "execution_count": 5,
      "outputs": [
        {
          "output_type": "execute_result",
          "data": {
            "text/plain": [
              "40"
            ]
          },
          "metadata": {},
          "execution_count": 5
        }
      ]
    }
  ],
  "metadata": {
    "celltoolbar": "Slideshow",
    "kernelspec": {
      "display_name": "Python 3 (ipykernel)",
      "language": "python",
      "name": "python3"
    },
    "language_info": {
      "codemirror_mode": {
        "name": "ipython",
        "version": 3
      },
      "file_extension": ".py",
      "mimetype": "text/x-python",
      "name": "python",
      "nbconvert_exporter": "python",
      "pygments_lexer": "ipython3",
      "version": "3.11.8"
    },
    "rise": {
      "scroll": true
    },
    "colab": {
      "provenance": []
    }
  },
  "nbformat": 4,
  "nbformat_minor": 0
}