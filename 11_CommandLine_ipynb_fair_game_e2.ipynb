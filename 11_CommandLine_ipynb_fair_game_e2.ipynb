{
  "cells": [
    {
      "cell_type": "markdown",
      "metadata": {
        "id": "view-in-github",
        "colab_type": "text"
      },
      "source": [
        "<a href=\"https://colab.research.google.com/github/lintco/COGS-18/blob/main/11_CommandLine_ipynb_fair_game_e2.ipynb\" target=\"_parent\"><img src=\"https://colab.research.google.com/assets/colab-badge.svg\" alt=\"Open In Colab\"/></a>"
      ]
    },
    {
      "cell_type": "markdown",
      "metadata": {
        "id": "DOdIow0S3lBw"
      },
      "source": [
        "**[ad] Food Insecurity Survey**\n",
        "![](https://github.com/COGS18/LectureNotes-COGS18/blob/main/img/SurveyInfoSlide.jpg?raw=1)"
      ]
    },
    {
      "cell_type": "markdown",
      "metadata": {
        "id": "bC9Xm4XP3lBy"
      },
      "source": [
        "**Q&A**\n",
        "\n",
        "> Q: what is self.?  \n",
        "> A: `self.` allows us to reference attributes within the class. So, if there's an attribute `name` and you want to use its value within a method, you would state `self.name`.\n",
        "\n",
        "> Q: Do class attributes always go on the outside of __init__?  \n",
        "> A: Yup! An attribute (variable assigned) outside of __init__ will always be a class attribute.\n",
        "\n",
        "> Q: What specific topics exactly should we be studying on for this weeks oral exam?   \n",
        "> A: List, string, and dictionary methods. And, methods generally - understanding that they operate directly on an object *and* the difference between in place and NOT in place\n",
        "\n",
        "> Q: Will we cover Inheritance?  \n",
        "> A: I will mention its existence and show an example but will NOT test you on it and we will NOT do any practice problems/assessment questions that deal with it.\n",
        "\n",
        "> Q: im still confused on the item method that we used for the spotify class. were we supposed to know how to use that?   \n",
        "> A: Yup - take a look back at the previous lecture methods - that's where we introduced it and did an example specifically focused on it.\n",
        "\n",
        "> Q: I would like an in depth demonstration on how to use f-strings in a function. Are there two sets of quotation marks when creating an f-string?    \n",
        "> A: There are quotes to start and end the string and the lowercase f before the string `f\"______\"` and then what you want to be in the string goes between the quotes. If you want to get a variable's value in the string you put it in `{}`.\n",
        "\n",
        "> Q: i feel like i still dont understand the concept of classes even though its fairlu simple. what else can o do to figure this out   \n",
        "> A: Go to lab! Spend time on the questions in lab; ask staff questions. If uncertain after working on your own, chat with any staff in office hours! And, you can ask an LLM for additional examples to walk through!"
      ]
    },
    {
      "cell_type": "markdown",
      "metadata": {
        "id": "oZcICS7c3lBy"
      },
      "source": [
        "**Course Announcements**\n",
        "\n",
        "Due this week:\n",
        "\n",
        "- CL6 due Fri\n",
        "- A4 due Sun\n",
        "\n",
        "Notes:\n",
        "\n",
        "- Reminder to sign up for [Oral exam 2 slot](https://calendar.app.google/3xu3mtgu3mAZgTRw5) (link also on Canvas homepage)\n",
        "- If you have a few minutes, please complete the Food Insecurity Survey before 5/26 <- there's an optional quiz on Canvas with the link too\n",
        "- At 11AM, it was brought to my attention that I linked to the wrong chapter for VQ11. There WAS a filepaths chapter/video.\n",
        "    - everyone who did the quiz, will receive full credit\n",
        "    - Probably good to watch the file path video after class today too"
      ]
    },
    {
      "cell_type": "markdown",
      "metadata": {
        "id": "g7JzpBEk3lBy"
      },
      "source": [
        "# Command Line, Scripts & Modules\n",
        "\n",
        "[![Open In Colab](https://colab.research.google.com/assets/colab-badge.svg)](https://colab.research.google.com/github/COGS18/LectureNotes-COGS18/blob/main/11-CommandLine.ipynb)\n",
        "\n",
        "- file paths (absolute and relative)\n",
        "- - command line & shell commands\n",
        "- scripts and modules\n",
        "    - `import`\n",
        "        - `from`\n",
        "        - `as`\n",
        "\n",
        "There is a [textbook chapter on command line](https://shanellis.github.io/pythonbook/content/02-getting-started/commandline.html). This was NOT required reading ahead of class today. But, FYI."
      ]
    },
    {
      "cell_type": "markdown",
      "metadata": {
        "id": "H89NTy613lBy"
      },
      "source": [
        "Jupyter Notebooks are a helpful tool, but they're _bulky_."
      ]
    },
    {
      "cell_type": "markdown",
      "metadata": {
        "id": "IDB6C1m-3lBz"
      },
      "source": [
        "## File Systems"
      ]
    },
    {
      "cell_type": "markdown",
      "metadata": {
        "id": "O0e2GIXw3lBz"
      },
      "source": [
        "<div class=\"alert alert-success\">\n",
        "Computers use a hierarchical file systems that organizes files & folders.\n",
        "</div>"
      ]
    },
    {
      "cell_type": "markdown",
      "metadata": {
        "id": "y69jLL4A3lBz"
      },
      "source": [
        "When you click through the folders (directories) on your computer, you're interacting with this hierarchical system."
      ]
    },
    {
      "cell_type": "markdown",
      "metadata": {
        "id": "6vflumhu3lBz"
      },
      "source": [
        "### Absolute vs. Relative Paths"
      ]
    },
    {
      "cell_type": "markdown",
      "metadata": {
        "id": "kZaFei8A3lBz"
      },
      "source": [
        "#### Absolute Paths"
      ]
    },
    {
      "cell_type": "markdown",
      "metadata": {
        "id": "kMHN0yJI3lBz"
      },
      "source": [
        "<div class=\"alert alert-success\">\n",
        "<b>Absolute paths</b> specify the <b>full</b> path for a given file system (starting from the root directory).\n",
        "</div>"
      ]
    },
    {
      "cell_type": "markdown",
      "metadata": {
        "id": "KFIhVgif3lBz"
      },
      "source": [
        "**root** specifies the 'highest' directory in the file structure (the start).\n",
        "\n",
        "An absolute file path starts with a slash `/` specifying the root directory.\n"
      ]
    },
    {
      "cell_type": "markdown",
      "metadata": {
        "id": "kbQpXQRc3lBz"
      },
      "source": [
        "#### Relative Paths"
      ]
    },
    {
      "cell_type": "markdown",
      "metadata": {
        "id": "r0BZzRl83lBz"
      },
      "source": [
        "<div class=\"alert alert-success\">\n",
        "<b>Relative paths</b> specify the path to a file from your <b>current working directory</b> (where your computer is working right now).\n",
        "</div>"
      ]
    },
    {
      "cell_type": "markdown",
      "metadata": {
        "id": "XWh6u8fh3lB0"
      },
      "source": [
        "## Command Line"
      ]
    },
    {
      "cell_type": "markdown",
      "metadata": {
        "id": "EIjXk2tp3lB0"
      },
      "source": [
        "<div class=\"alert alert-success\">\n",
        "A <b>command line interface</b> is a way to interact with a computer through written commands.\n",
        "</div>"
      ]
    },
    {
      "cell_type": "markdown",
      "metadata": {
        "id": "tlE93dBZ3lB0"
      },
      "source": [
        "The command line allows us to:\n",
        "\n",
        "- create files\n",
        "- edit files\n",
        "- run python scripts\n",
        "- etc.\n",
        "\n",
        "...without clicking on anything."
      ]
    },
    {
      "cell_type": "markdown",
      "metadata": {
        "id": "gs4SHvgQ3lB0"
      },
      "source": [
        "### The Terminal\n",
        "\n",
        "The **terminal** is where you can type these commands into the command line.\n",
        "\n",
        "Accessing the terminal...\n",
        "\n",
        "- possible on your computer\n",
        "- and on PrairieLearn"
      ]
    },
    {
      "cell_type": "markdown",
      "metadata": {
        "id": "7pJly9Li3lB0"
      },
      "source": [
        "### Shell Commands\n",
        "\n",
        "...can be run in the terminal _and_ Jupyter notebooks"
      ]
    },
    {
      "cell_type": "markdown",
      "metadata": {
        "id": "ufuIp-QO3lB0"
      },
      "source": [
        "#### `pwd`: Print working directory"
      ]
    },
    {
      "cell_type": "code",
      "execution_count": null,
      "metadata": {
        "scrolled": true,
        "id": "tAMyl0aj3lB0"
      },
      "outputs": [],
      "source": [
        "# print working directory\n",
        "!pwd"
      ]
    },
    {
      "cell_type": "markdown",
      "metadata": {
        "id": "x9IGdH_C3lB0"
      },
      "source": [
        "#### `ls`: List files in a directory"
      ]
    },
    {
      "cell_type": "code",
      "execution_count": null,
      "metadata": {
        "scrolled": true,
        "id": "El64tutc3lB0"
      },
      "outputs": [],
      "source": [
        "# list files (list segments)\n",
        "!ls"
      ]
    },
    {
      "cell_type": "markdown",
      "metadata": {
        "id": "9Bdv4rnH3lB0"
      },
      "source": [
        "#### `mkdir`: Make a new directory"
      ]
    },
    {
      "cell_type": "code",
      "execution_count": null,
      "metadata": {
        "id": "xT-OecOD3lB0"
      },
      "outputs": [],
      "source": [
        "# make directory\n",
        "!mkdir dir_name"
      ]
    },
    {
      "cell_type": "markdown",
      "metadata": {
        "id": "FGGS6yGF3lB0"
      },
      "source": [
        "#### `touch`: Create a file"
      ]
    },
    {
      "cell_type": "code",
      "execution_count": null,
      "metadata": {
        "id": "MhvJBWk-3lB0"
      },
      "outputs": [],
      "source": [
        "# create an empty file\n",
        "!touch new_file.py"
      ]
    },
    {
      "cell_type": "markdown",
      "metadata": {
        "id": "XUlgszIy3lB1"
      },
      "source": [
        "#### `cd`: Change directory"
      ]
    },
    {
      "cell_type": "code",
      "execution_count": null,
      "metadata": {
        "id": "7aV-8CI03lB1"
      },
      "outputs": [],
      "source": [
        "# change directory\n",
        "!cd ~/"
      ]
    },
    {
      "cell_type": "markdown",
      "metadata": {
        "id": "yhRR-Khq3lB1"
      },
      "source": [
        "Here, we saw `~/`.\n",
        "\n",
        "- `~` specifies the user's home directory of your computer\n",
        "- each directory is separated with a slash (`/`)"
      ]
    },
    {
      "cell_type": "markdown",
      "metadata": {
        "id": "8qzIcHG33lB1"
      },
      "source": [
        "#### `mv`: Move a file"
      ]
    },
    {
      "cell_type": "code",
      "execution_count": null,
      "metadata": {
        "id": "ApSv0jXQ3lB1"
      },
      "outputs": [],
      "source": [
        "# move file\n",
        "# notice the relative file path\n",
        "!mv new_file.py dir_name/"
      ]
    },
    {
      "cell_type": "markdown",
      "metadata": {
        "id": "o6lmcIGv3lB1"
      },
      "source": [
        "#### `cat`: Print the contents of a file"
      ]
    },
    {
      "cell_type": "code",
      "execution_count": null,
      "metadata": {
        "id": "p4LwEtKJ3lB1"
      },
      "outputs": [],
      "source": [
        "!cat dir_name/new_file.py"
      ]
    },
    {
      "cell_type": "markdown",
      "metadata": {
        "id": "Wlyv9O123lB1"
      },
      "source": [
        "## Activity: On your own\n",
        "\n",
        "1) Open up a terminal <- this can be done on PrairieLearn!\n",
        "2) Change location to a directory of your choice OR create a new directory\n",
        "3) Create a new file"
      ]
    },
    {
      "cell_type": "code",
      "execution_count": null,
      "metadata": {
        "id": "QblWzWX83lB1",
        "colab": {
          "base_uri": "https://localhost:8080/",
          "height": 108
        },
        "outputId": "c4a22224-a82d-4431-af9f-540a10e34af8"
      },
      "outputs": [
        {
          "output_type": "error",
          "ename": "SyntaxError",
          "evalue": "invalid syntax (<ipython-input-2-0459f841d7c7>, line 2)",
          "traceback": [
            "\u001b[0;36m  File \u001b[0;32m\"<ipython-input-2-0459f841d7c7>\"\u001b[0;36m, line \u001b[0;32m2\u001b[0m\n\u001b[0;31m    lynneaconlay@Lynneas-MacBook-Air ~ % cd ~/pictures\u001b[0m\n\u001b[0m                                     ^\u001b[0m\n\u001b[0;31mSyntaxError\u001b[0m\u001b[0;31m:\u001b[0m invalid syntax\n"
          ]
        }
      ],
      "source": [
        "## test out hereLast login: Mon May 12 13:19:47 on ttys000\n",
        "lynneaconlay@Lynneas-MacBook-Air ~ % cd ~/pictures\n",
        "lynneaconlay@Lynneas-MacBook-Air pictures % touch new_file.py\n",
        "lynneaconlay@Lynneas-MacBook-Air pictures % ls\n",
        "Photos Library.photoslibrary\tnew_file.py\n",
        "lynneaconlay@Lynneas-MacBook-Air pictures %"
      ]
    },
    {
      "cell_type": "markdown",
      "metadata": {
        "id": "wJOsxe5q3lB1"
      },
      "source": [
        "## Python Files"
      ]
    },
    {
      "cell_type": "markdown",
      "metadata": {
        "id": "8ZS7XHrl3lB1"
      },
      "source": [
        "<div class=\"alert alert-success\">\n",
        "Python files are plain-text files, with Python code in them, that can be executed and/or imported from.\n",
        "</div>"
      ]
    },
    {
      "cell_type": "markdown",
      "metadata": {
        "id": "VWnP5VW_3lB1"
      },
      "source": [
        "### Script vs. Module File"
      ]
    },
    {
      "cell_type": "markdown",
      "metadata": {
        "id": "JG0i64WR3lB4"
      },
      "source": [
        "### Scripts"
      ]
    },
    {
      "cell_type": "markdown",
      "metadata": {
        "id": "MVXzSE_c3lB4"
      },
      "source": [
        "<div class=\"alert alert-success\">\n",
        "A <b>script</b> is a Python file that can be run to execute a particular task.\n",
        "</div>"
      ]
    },
    {
      "cell_type": "markdown",
      "metadata": {
        "id": "-TL4-wrM3lB4"
      },
      "source": [
        "### Module Files"
      ]
    },
    {
      "cell_type": "markdown",
      "metadata": {
        "id": "tADYEjVU3lB4"
      },
      "source": [
        "<div class=\"alert alert-success\">\n",
        "A <b>module</b> file is a file with Python code (typically functions & classes) that we can import and use.\n",
        "</div>"
      ]
    },
    {
      "cell_type": "markdown",
      "metadata": {
        "id": "XAXi1hMi3lB4"
      },
      "source": [
        "Remember: if you're writing code, you cannot just click through to the file you want. You need to specify _using code_ where the file you want is.\n",
        "\n",
        "This is where understanding file paths is critically important."
      ]
    },
    {
      "cell_type": "markdown",
      "metadata": {
        "id": "ziud6vIN3lB4"
      },
      "source": [
        "## Text Editors"
      ]
    },
    {
      "cell_type": "markdown",
      "metadata": {
        "id": "U-Tf09TB3lB4"
      },
      "source": [
        "<div class=\"alert alert-success\">\n",
        "Text-editors are programs made for editing text. Many text-editors are designed for writing code specifically.\n",
        "</div>"
      ]
    },
    {
      "cell_type": "markdown",
      "metadata": {
        "id": "zDY2tidD3lB4"
      },
      "source": [
        "### Terminal-Based Text Editors\n",
        "\n",
        "There are text editors designed to be used within a terminal, such as `vim`, `emacs`, or `nano`.\n",
        "\n",
        "**Note**: I am mentioning these as an FYI. You are NOT required to use them for this course."
      ]
    },
    {
      "cell_type": "markdown",
      "metadata": {
        "jp-MarkdownHeadingCollapsed": true,
        "id": "XE0XQqFm3lB4"
      },
      "source": [
        "#### vim\n",
        "\n",
        "`vim` is a terminal based text-editor. Type `vim filename` in command line to open a file in vim.\n",
        "\n",
        "___`vim` has different modes:___\n",
        "\n",
        "___- click `escape` + `i` to enter edit mode (insert mode).___\n",
        "    ___- This will let you write text / code into the file___\n",
        "___- To escape vim, press `escape` then type `:wq` and enter to save and quit vim___\n",
        "    ___- If you want to exit without saving, you can do `:!q` to force quit without saving___"
      ]
    },
    {
      "cell_type": "markdown",
      "metadata": {
        "jp-MarkdownHeadingCollapsed": true,
        "id": "sNdJW-N03lB4"
      },
      "source": [
        "### Non-Terminal Text Editors\n",
        "\n",
        "For writing code (outside of notebooks and the terminal), you probably want a code-focused IDE (i.e. Visual Studio Code) or stand-alone text editor (i.e. `Sublime`)."
      ]
    },
    {
      "cell_type": "markdown",
      "metadata": {
        "id": "03Jz_nfH3lB4"
      },
      "source": [
        "## Namespaces & Scope"
      ]
    },
    {
      "cell_type": "markdown",
      "metadata": {
        "id": "bGbngvfb3lB4"
      },
      "source": [
        "<div class=\"alert alert-success\">\n",
        "A <b>namespace</b> is a 'place' with a set of names and their corresponding objects.\n",
        "</div>"
      ]
    },
    {
      "cell_type": "markdown",
      "metadata": {
        "id": "XucfjYV-3lB4"
      },
      "source": [
        "Each Jupyter Notebook has its own Namespace.\n",
        "\n",
        "If you have two notebooks open at the same time, they don't know about eachother or what variables have been created in the other."
      ]
    },
    {
      "cell_type": "markdown",
      "metadata": {
        "id": "vV7lzwG83lB5"
      },
      "source": [
        "Names that are defined and available in a given namespace are in **scope**."
      ]
    },
    {
      "cell_type": "markdown",
      "metadata": {
        "id": "KYuDU6ds3lB5"
      },
      "source": [
        "That is, the *scope* of an object is where it is available to / from."
      ]
    },
    {
      "cell_type": "code",
      "execution_count": null,
      "metadata": {
        "id": "KpYehYfW3lB5",
        "colab": {
          "base_uri": "https://localhost:8080/"
        },
        "outputId": "454011fb-5794-4867-d181-06beb0907657"
      },
      "outputs": [
        {
          "output_type": "stream",
          "name": "stdout",
          "text": [
            "Variable   Type    Data/Info\n",
            "----------------------------\n",
            "a          int     3\n",
            "b          int     15\n"
          ]
        }
      ],
      "source": [
        "# see what's stored in global namespace\n",
        "a = 3\n",
        "b = 15\n",
        "%whos"
      ]
    },
    {
      "cell_type": "markdown",
      "metadata": {
        "id": "ZvZIxA2m3lB5"
      },
      "source": [
        "## Modules & Packages"
      ]
    },
    {
      "cell_type": "markdown",
      "metadata": {
        "id": "yUThqRGN3lB5"
      },
      "source": [
        "<div class=\"alert alert-success\">\n",
        "A <b>module</b> is a set of Python code with functions, classes, etc. available in it. A Python <b>package</b> is a directory of modules.\n",
        "</div>"
      ]
    },
    {
      "cell_type": "markdown",
      "metadata": {
        "id": "iblWNXoE3lB5"
      },
      "source": [
        "Modules are stored in Python files (.py). We can import these files into our namespace, to gain access to the module within Python."
      ]
    },
    {
      "cell_type": "markdown",
      "metadata": {
        "id": "1InKxaVC3lB5"
      },
      "source": [
        "In A3 you had to import the package: `nltk`:\n",
        "\n",
        "- **package** is a whole bunch of modules\n",
        "- a **module** stores python (.py) files\n",
        "- when imported, we have access to its functionality"
      ]
    },
    {
      "cell_type": "markdown",
      "metadata": {
        "id": "yKxYpSUA3lB5"
      },
      "source": [
        "## `import`"
      ]
    },
    {
      "cell_type": "markdown",
      "metadata": {
        "id": "79RDqH5I3lB5"
      },
      "source": [
        "<div class=\"alert alert-success\">\n",
        "<code>import</code> is a keyword to import external code into the local namespace.\n",
        "</div>"
      ]
    },
    {
      "cell_type": "markdown",
      "metadata": {
        "id": "ZtobQ46M3lB5"
      },
      "source": [
        "Why do it this way (importing modules)?\n",
        "\n",
        "1. Minimize startup costs\n",
        "2. Functions in different packages could have the same name - break programs"
      ]
    },
    {
      "cell_type": "markdown",
      "metadata": {
        "id": "4bCAsO2B3lB5"
      },
      "source": [
        "### `import` example: random module"
      ]
    },
    {
      "cell_type": "code",
      "execution_count": null,
      "metadata": {
        "id": "MBK9twiM3lB5"
      },
      "outputs": [],
      "source": [
        "import random"
      ]
    },
    {
      "cell_type": "code",
      "execution_count": null,
      "metadata": {
        "id": "2TbSzgI_3lB5"
      },
      "outputs": [],
      "source": [
        "# random.sample() documentation\n",
        "random.sample?"
      ]
    },
    {
      "cell_type": "code",
      "execution_count": null,
      "metadata": {
        "id": "AOcU88qE3lB5",
        "colab": {
          "base_uri": "https://localhost:8080/"
        },
        "outputId": "708572df-48d9-4e32-a4c9-3b8142aa08df"
      },
      "outputs": [
        {
          "output_type": "stream",
          "name": "stdout",
          "text": [
            "['5', '3']\n"
          ]
        }
      ],
      "source": [
        "# Random example\n",
        "to_choose_from = ['1', '2', '3', '4', '5']\n",
        "number_to_choose = 2\n",
        "\n",
        "chosen = random.sample(to_choose_from, number_to_choose)\n",
        "\n",
        "print(chosen)"
      ]
    },
    {
      "cell_type": "markdown",
      "metadata": {
        "id": "GlESxebK3lB5"
      },
      "source": [
        "## Imports: `from` & `as`"
      ]
    },
    {
      "cell_type": "markdown",
      "metadata": {
        "id": "jbatKFHS3lB5"
      },
      "source": [
        "<div class=\"alert alert-success\">\n",
        "<code>from</code> and <code>as</code> allows us to decide exactly what objects to import into our namespace, and what we call them (in our namespace).\n",
        "</div>"
      ]
    },
    {
      "cell_type": "code",
      "execution_count": null,
      "metadata": {
        "id": "gfQNKmB13lB5"
      },
      "outputs": [],
      "source": [
        "# Import a specific object from a module\n",
        "from random import choice"
      ]
    },
    {
      "cell_type": "code",
      "execution_count": null,
      "metadata": {
        "id": "5EzOGhCM3lB5"
      },
      "outputs": [],
      "source": [
        "## do NOT have to type module name\n",
        "## using this approach\n",
        "## to call this\n",
        "choice(to_choose_from)"
      ]
    },
    {
      "cell_type": "code",
      "execution_count": null,
      "metadata": {
        "id": "Se-Pl2kM3lB5"
      },
      "outputs": [],
      "source": [
        "# Import a module with a specific name in our namespace\n",
        "# used when module names are long\n",
        "import collections as cols"
      ]
    },
    {
      "cell_type": "code",
      "execution_count": null,
      "metadata": {
        "id": "f140gOnc3lB5"
      },
      "outputs": [],
      "source": [
        "## collections is not defined\n",
        "## this code will fail\n",
        "collections."
      ]
    },
    {
      "cell_type": "code",
      "execution_count": null,
      "metadata": {
        "id": "vU-cmGEK3lB5"
      },
      "outputs": [],
      "source": [
        "# this is how you would do it\n",
        "cols."
      ]
    },
    {
      "cell_type": "code",
      "execution_count": null,
      "metadata": {
        "id": "WaXjZ82Z3lB5"
      },
      "outputs": [],
      "source": [
        "# putting it all together\n",
        "# Import a specific thing and give it a specific name\n",
        "from string import punctuation as punc"
      ]
    },
    {
      "cell_type": "markdown",
      "metadata": {
        "id": "9yBrcqPC3lB6"
      },
      "source": [
        "## Activity: imports\n",
        "\n",
        "Please complete the Google Form: [https://forms.gle/1sqLhCfFfGV8sJiR9](https://forms.gle/1sqLhCfFfGV8sJiR9)"
      ]
    },
    {
      "cell_type": "code",
      "execution_count": null,
      "metadata": {
        "id": "iuI2KHZF3lB6"
      },
      "outputs": [],
      "source": [
        "# If you want to check the imports\n",
        "# import collections as col\n",
        "# from statistics import mean as average\n",
        "# from os import path\n",
        "# from random import choice, choices\n",
        "# import ascii_letters from string"
      ]
    },
    {
      "cell_type": "markdown",
      "metadata": {
        "id": "byaPPx303lB6"
      },
      "source": [
        "## Importing Custom Code I"
      ]
    },
    {
      "cell_type": "markdown",
      "metadata": {
        "id": "O-5MtPYy3lB6"
      },
      "source": [
        "Why do this?\n",
        "\n",
        "Having a whole bunch of functions in a Jupyter Notebook will start to get clutered.\n",
        "\n",
        "Also, they're not reusable later without copying them into your new notebook.\n",
        "\n",
        "Modules avoid this!"
      ]
    },
    {
      "cell_type": "markdown",
      "metadata": {
        "id": "0OnmbRrs3lB6"
      },
      "source": [
        "## module: `remote.py`\n",
        "\n",
        "If you want to practice using import with the `remote` example in lecture, store the code in the next cell in a text file saved as `remote.py`. Be sure this is saved in the same directory (folder) as the notebook from which you're trying to call it."
      ]
    },
    {
      "cell_type": "code",
      "execution_count": null,
      "metadata": {
        "id": "b_UnsMUO3lB6"
      },
      "outputs": [],
      "source": [
        "def my_remote_function(input_1, input_2):\n",
        "    \"\"\"A function from far away.\n",
        "\n",
        "    This function returns the sum of the two inputs.\n",
        "    \"\"\"\n",
        "\n",
        "    return input_1 + input_2\n",
        "\n",
        "def choice(list_to_choose_from):\n",
        "    \"\"\"Choose and return an item from a list.\n",
        "\n",
        "    Notes: I am a custom choice function: I am NOT from `random`.\n",
        "\n",
        "    Hint: my favorite is the last list item.\n",
        "    \"\"\"\n",
        "\n",
        "    return list_to_choose_from[-1]\n",
        "\n",
        "class MyNumbers():\n",
        "\n",
        "    kind_of_thing = 'numbers'\n",
        "\n",
        "    def __init__(self, num1, num2):\n",
        "\n",
        "        self.num1 = num1\n",
        "        self.num2 = num2\n",
        "\n",
        "    def add(self):\n",
        "\n",
        "        return self.num1 + self.num2\n",
        "\n",
        "    def subtract(self):\n",
        "\n",
        "        return self.num2 - self.num1"
      ]
    },
    {
      "cell_type": "code",
      "execution_count": null,
      "metadata": {
        "id": "P9VQv84R3lB6"
      },
      "outputs": [],
      "source": [
        "# Import some custom code\n",
        "from remote import my_remote_function"
      ]
    },
    {
      "cell_type": "code",
      "execution_count": null,
      "metadata": {
        "id": "vsfPkCFj3lB6"
      },
      "outputs": [],
      "source": [
        "# Investigate our imported function\n",
        "my_remote_function?"
      ]
    },
    {
      "cell_type": "code",
      "execution_count": null,
      "metadata": {
        "id": "IF1P63fX3lB6"
      },
      "outputs": [],
      "source": [
        "# Run our function\n",
        "my_remote_function(2, 1)"
      ]
    },
    {
      "cell_type": "markdown",
      "metadata": {
        "id": "xU3PJpmW3lB6"
      },
      "source": [
        "## Importing Custom Code II"
      ]
    },
    {
      "cell_type": "code",
      "execution_count": null,
      "metadata": {
        "id": "uAxOdxph3lB6"
      },
      "outputs": [],
      "source": [
        "# Import a class class from an external module\n",
        "from remote import MyNumbers"
      ]
    },
    {
      "cell_type": "code",
      "execution_count": null,
      "metadata": {
        "id": "lHbObC0f3lB6"
      },
      "outputs": [],
      "source": [
        "# Define an instance of our custom class\n",
        "nums = MyNumbers(2, 3)\n",
        "type(nums)"
      ]
    },
    {
      "cell_type": "code",
      "execution_count": null,
      "metadata": {
        "id": "OgMQi7ks3lB6"
      },
      "outputs": [],
      "source": [
        "# Check\n",
        "nums.add()"
      ]
    },
    {
      "cell_type": "code",
      "execution_count": null,
      "metadata": {
        "id": "2fWTZdQf3lB6"
      },
      "outputs": [],
      "source": [
        "# Check the definition of the code we imported\n",
        "nums.add??"
      ]
    },
    {
      "cell_type": "markdown",
      "metadata": {
        "id": "7DqXchLC3lB6"
      },
      "source": [
        "## Name Conflicts"
      ]
    },
    {
      "cell_type": "code",
      "execution_count": null,
      "metadata": {
        "id": "xlJmqVzq3lB6"
      },
      "outputs": [],
      "source": [
        "from random import choice"
      ]
    },
    {
      "cell_type": "code",
      "execution_count": null,
      "metadata": {
        "id": "ZHpKVOvB3lB6"
      },
      "outputs": [],
      "source": [
        "# choice is currently from random module\n",
        "choice?"
      ]
    },
    {
      "cell_type": "code",
      "execution_count": null,
      "metadata": {
        "id": "u8y_PgF03lB6"
      },
      "outputs": [],
      "source": [
        "choice([1, 2, 3, 4, 5])"
      ]
    },
    {
      "cell_type": "code",
      "execution_count": null,
      "metadata": {
        "id": "F8VD3kJI3lB6"
      },
      "outputs": [],
      "source": [
        "from remote import choice"
      ]
    },
    {
      "cell_type": "code",
      "execution_count": null,
      "metadata": {
        "id": "Ly6Hu6Xj3lB6"
      },
      "outputs": [],
      "source": [
        "# now it's from my remote module\n",
        "choice?"
      ]
    },
    {
      "cell_type": "code",
      "execution_count": null,
      "metadata": {
        "id": "FV0oSCXw3lB6"
      },
      "outputs": [],
      "source": [
        "choice([1, 2, 3, 4, 5])"
      ]
    },
    {
      "cell_type": "markdown",
      "metadata": {
        "id": "yqmczrc23lB6"
      },
      "source": [
        "While you _can_ have functions with the same name in two different places...do your best to avoid this.\n",
        "\n",
        "It's Python legal but bad for your nerves."
      ]
    },
    {
      "cell_type": "markdown",
      "metadata": {
        "id": "MEYyNhDD3lB7"
      },
      "source": [
        "## A note on `*`\n",
        "\n",
        "If you see `from module import *` this means to import everything (read as 'from module import everything').\n",
        "\n",
        "This is generally considered not to be the best, as it is then unclear in your code exactly where the functionality came from."
      ]
    },
    {
      "cell_type": "code",
      "execution_count": null,
      "metadata": {
        "id": "LxY9PLzo3lB7"
      },
      "outputs": [],
      "source": [
        "# a valid way to import\n",
        "from random import choice\n",
        "choice([2,3,4])"
      ]
    },
    {
      "cell_type": "code",
      "execution_count": null,
      "metadata": {
        "id": "YoYMpFNA3lB7"
      },
      "outputs": [],
      "source": [
        "# a valid way to import\n",
        "import random\n",
        "random.choice([2,3,4,])"
      ]
    },
    {
      "cell_type": "markdown",
      "metadata": {
        "id": "YldLDPgP3lB7"
      },
      "source": [
        "## script: `remote_script.py`\n",
        "\n",
        "\n",
        "If you want to run your own script example in lecture, store the code in the next cell in a text file saved as `remote_script.py`. Be sure this is saved in the same directory (folder) as the notebook from which you're trying to call it."
      ]
    },
    {
      "cell_type": "code",
      "execution_count": null,
      "metadata": {
        "id": "jHM6yvi-3lB7"
      },
      "outputs": [],
      "source": [
        "from remote import MyNumbers\n",
        "nums = MyNumbers(2, 3)\n",
        "print(\"nums value: \", nums.num1, nums.num2)\n",
        "print(\"nums type: \", type(nums))"
      ]
    },
    {
      "cell_type": "code",
      "execution_count": null,
      "metadata": {
        "id": "KncPwZDY3lB7"
      },
      "outputs": [],
      "source": [
        "# run the script\n",
        "!python remote_script.py"
      ]
    },
    {
      "cell_type": "markdown",
      "metadata": {
        "id": "0v-mCpO03lB7"
      },
      "source": [
        "## Executing Python Files"
      ]
    },
    {
      "cell_type": "markdown",
      "metadata": {
        "id": "lMLbnfwJ3lB7"
      },
      "source": [
        "From the command line, you can execute a Python script using the `python` command:\n",
        "\n",
        "`python dir_name/new_file.py`"
      ]
    },
    {
      "cell_type": "markdown",
      "metadata": {
        "id": "QxOwnB_C3lB7"
      },
      "source": [
        "## Activity: scripts & modules\n",
        "\n",
        "Please complete the Google Form: [https://forms.gle/dHxriVi3wen7MYdk7](https://forms.gle/dHxriVi3wen7MYdk7)"
      ]
    },
    {
      "cell_type": "code",
      "source": [
        "Fa"
      ],
      "metadata": {
        "id": "w0jk2fL_hY_e"
      },
      "execution_count": null,
      "outputs": []
    },
    {
      "cell_type": "markdown",
      "source": [
        "Fair game E2"
      ],
      "metadata": {
        "id": "KP9Zco_fhaAX"
      }
    }
  ],
  "metadata": {
    "celltoolbar": "Slideshow",
    "kernelspec": {
      "display_name": "Python 3 (ipykernel)",
      "language": "python",
      "name": "python3"
    },
    "language_info": {
      "codemirror_mode": {
        "name": "ipython",
        "version": 3
      },
      "file_extension": ".py",
      "mimetype": "text/x-python",
      "name": "python",
      "nbconvert_exporter": "python",
      "pygments_lexer": "ipython3",
      "version": "3.11.8"
    },
    "rise": {
      "scroll": true
    },
    "colab": {
      "provenance": [],
      "include_colab_link": true
    }
  },
  "nbformat": 4,
  "nbformat_minor": 0
}